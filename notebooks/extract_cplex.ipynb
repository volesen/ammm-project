{
 "cells": [
  {
   "cell_type": "code",
   "execution_count": null,
   "metadata": {},
   "outputs": [],
   "source": [
    "# Exttacty all `benchmarks_cplex/*.out` files and generate a CSV file with the results\n",
    "\n",
    "import os\n",
    "import re\n",
    "\n",
    "\n",
    "OBJECTIVE_PATTERN = re.compile(r'OBJECTIVE: (\\d+)')\n",
    "TIME_PATTERN = re.compile(...)\n",
    "results = []\n",
    "\n",
    "for filename in os.listdir('benchmarks_cplex'):\n",
    "    if filename.endswith('.out'):\n",
    "        with open(os.path.join('benchmarks_cplex', filename)) as f:\n",
    "            content = f.read()\n",
    "            match = OBJECTIVE_PATTERN.search(content)\n",
    "\n",
    "\n",
    "            if match:\n",
    "                results.append((filename, int(match.group(1))))"
   ]
  }
 ],
 "metadata": {
  "language_info": {
   "name": "python"
  }
 },
 "nbformat": 4,
 "nbformat_minor": 2
}
