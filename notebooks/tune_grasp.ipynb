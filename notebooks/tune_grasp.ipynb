{
 "cells": [
  {
   "cell_type": "code",
   "execution_count": 1,
   "metadata": {},
   "outputs": [
    {
     "name": "stderr",
     "output_type": "stream",
     "text": [
      "/Users/vol/UPC/ammm/ammm-project/.venv/lib/python3.12/site-packages/tqdm/auto.py:21: TqdmWarning: IProgress not found. Please update jupyter and ipywidgets. See https://ipywidgets.readthedocs.io/en/stable/user_install.html\n",
      "  from .autonotebook import tqdm as notebook_tqdm\n"
     ]
    }
   ],
   "source": [
    "import os\n",
    "\n",
    "from ammm_project.grasp import grasp_search\n",
    "from ammm_project.greedy_functions import qs\n",
    "from ammm_project.parsers.dat import parse\n",
    "from ammm_project.problem import Problem\n",
    "from ammm_project.runner import run as runner\n",
    "from tqdm import tqdm\n",
    "from tqdm.contrib.concurrent import thread_map"
   ]
  },
  {
   "cell_type": "code",
   "execution_count": 2,
   "metadata": {},
   "outputs": [
    {
     "data": {
      "text/plain": [
       "{'knapsack-100-1': Problem(width=1, height=100, max_weight=2908, squares=[Square(id=0, side=1, price=100, weight=38), Square(id=1, side=1, price=44, weight=91), Square(id=2, side=1, price=66, weight=64), Square(id=3, side=1, price=12, weight=50), Square(id=4, side=1, price=58, weight=88), Square(id=5, side=1, price=89, weight=98), Square(id=6, side=1, price=76, weight=43), Square(id=7, side=1, price=67, weight=23), Square(id=8, side=1, price=1, weight=14), Square(id=9, side=1, price=5, weight=69), Square(id=10, side=1, price=60, weight=67), Square(id=11, side=1, price=19, weight=3), Square(id=12, side=1, price=85, weight=55), Square(id=13, side=1, price=53, weight=85), Square(id=14, side=1, price=16, weight=71), Square(id=15, side=1, price=41, weight=99), Square(id=16, side=1, price=56, weight=1), Square(id=17, side=1, price=50, weight=79), Square(id=18, side=1, price=18, weight=81), Square(id=19, side=1, price=48, weight=20), Square(id=20, side=1, price=94, weight=63), Square(id=21, side=1, price=58, weight=8), Square(id=22, side=1, price=53, weight=4), Square(id=23, side=1, price=86, weight=55), Square(id=24, side=1, price=50, weight=5), Square(id=25, side=1, price=11, weight=25), Square(id=26, side=1, price=25, weight=40), Square(id=27, side=1, price=36, weight=71), Square(id=28, side=1, price=29, weight=59), Square(id=29, side=1, price=8, weight=77), Square(id=30, side=1, price=67, weight=33), Square(id=31, side=1, price=87, weight=42), Square(id=32, side=1, price=21, weight=61), Square(id=33, side=1, price=60, weight=65), Square(id=34, side=1, price=46, weight=42), Square(id=35, side=1, price=8, weight=79), Square(id=36, side=1, price=100, weight=74), Square(id=37, side=1, price=5, weight=91), Square(id=38, side=1, price=40, weight=43), Square(id=39, side=1, price=58, weight=16), Square(id=40, side=1, price=70, weight=29), Square(id=41, side=1, price=45, weight=1), Square(id=42, side=1, price=74, weight=94), Square(id=43, side=1, price=85, weight=85), Square(id=44, side=1, price=21, weight=83), Square(id=45, side=1, price=20, weight=18), Square(id=46, side=1, price=69, weight=31), Square(id=47, side=1, price=9, weight=65), Square(id=48, side=1, price=37, weight=12), Square(id=49, side=1, price=7, weight=93), Square(id=50, side=1, price=65, weight=68), Square(id=51, side=1, price=29, weight=3), Square(id=52, side=1, price=23, weight=72), Square(id=53, side=1, price=85, weight=37), Square(id=54, side=1, price=62, weight=42), Square(id=55, side=1, price=12, weight=25), Square(id=56, side=1, price=52, weight=81), Square(id=57, side=1, price=98, weight=43), Square(id=58, side=1, price=53, weight=81), Square(id=59, side=1, price=65, weight=86), Square(id=60, side=1, price=81, weight=61), Square(id=61, side=1, price=78, weight=100), Square(id=62, side=1, price=61, weight=39), Square(id=63, side=1, price=21, weight=51), Square(id=64, side=1, price=14, weight=57), Square(id=65, side=1, price=97, weight=73), Square(id=66, side=1, price=12, weight=62), Square(id=67, side=1, price=33, weight=44), Square(id=68, side=1, price=20, weight=94), Square(id=69, side=1, price=97, weight=72), Square(id=70, side=1, price=100, weight=26), Square(id=71, side=1, price=2, weight=1), Square(id=72, side=1, price=80, weight=49), Square(id=73, side=1, price=80, weight=11), Square(id=74, side=1, price=13, weight=98), Square(id=75, side=1, price=98, weight=65), Square(id=76, side=1, price=67, weight=100), Square(id=77, side=1, price=55, weight=47), Square(id=78, side=1, price=60, weight=40), Square(id=79, side=1, price=31, weight=60), Square(id=80, side=1, price=27, weight=99), Square(id=81, side=1, price=1, weight=55), Square(id=82, side=1, price=93, weight=33), Square(id=83, side=1, price=52, weight=60), Square(id=84, side=1, price=99, weight=96), Square(id=85, side=1, price=18, weight=87), Square(id=86, side=1, price=41, weight=98), Square(id=87, side=1, price=89, weight=95), Square(id=88, side=1, price=22, weight=91), Square(id=89, side=1, price=20, weight=25), Square(id=90, side=1, price=80, weight=30), Square(id=91, side=1, price=48, weight=21), Square(id=92, side=1, price=32, weight=65), Square(id=93, side=1, price=68, weight=2), Square(id=94, side=1, price=49, weight=63), Square(id=95, side=1, price=2, weight=31), Square(id=96, side=1, price=26, weight=61), Square(id=97, side=1, price=87, weight=32), Square(id=98, side=1, price=43, weight=60), Square(id=99, side=1, price=21, weight=60)]),\n",
       " 'mix-100-1': Problem(width=100, height=200, max_weight=19800, squares=[Square(id=0, side=53, price=33, weight=83), Square(id=1, side=32, price=26, weight=79), Square(id=2, side=21, price=22, weight=54), Square(id=3, side=11, price=78, weight=73), Square(id=4, side=10, price=31, weight=7), Square(id=5, side=1, price=14, weight=19), Square(id=6, side=1, price=3, weight=60), Square(id=7, side=1, price=70, weight=78), Square(id=8, side=1, price=72, weight=56), Square(id=9, side=1, price=28, weight=63), Square(id=10, side=1, price=54, weight=17), Square(id=11, side=1, price=99, weight=99), Square(id=12, side=1, price=84, weight=88), Square(id=13, side=1, price=80, weight=100), Square(id=14, side=1, price=51, weight=45), Square(id=15, side=37, price=97, weight=46), Square(id=16, side=37, price=21, weight=44), Square(id=17, side=17, price=94, weight=42), Square(id=18, side=17, price=3, weight=62), Square(id=19, side=3, price=97, weight=9), Square(id=20, side=3, price=63, weight=20), Square(id=21, side=3, price=74, weight=43), Square(id=22, side=3, price=69, weight=43), Square(id=23, side=3, price=74, weight=48), Square(id=24, side=2, price=74, weight=6), Square(id=25, side=1, price=68, weight=82), Square(id=26, side=1, price=85, weight=54), Square(id=27, side=24, price=20, weight=91), Square(id=28, side=1, price=50, weight=30), Square(id=29, side=1, price=10, weight=30), Square(id=30, side=1, price=96, weight=59), Square(id=31, side=1, price=54, weight=30), Square(id=32, side=1, price=97, weight=77), Square(id=33, side=1, price=5, weight=18), Square(id=34, side=1, price=85, weight=75), Square(id=35, side=1, price=85, weight=61), Square(id=36, side=1, price=73, weight=6), Square(id=37, side=1, price=87, weight=25), Square(id=38, side=1, price=51, weight=6), Square(id=39, side=1, price=33, weight=60), Square(id=40, side=1, price=61, weight=14), Square(id=41, side=1, price=25, weight=15), Square(id=42, side=1, price=64, weight=10), Square(id=43, side=1, price=99, weight=9), Square(id=44, side=1, price=78, weight=26), Square(id=45, side=1, price=29, weight=22), Square(id=46, side=1, price=53, weight=88), Square(id=47, side=1, price=91, weight=97), Square(id=48, side=1, price=85, weight=25), Square(id=49, side=1, price=97, weight=74), Square(id=50, side=1, price=48, weight=35), Square(id=51, side=1, price=19, weight=64), Square(id=52, side=25, price=6, weight=89), Square(id=53, side=25, price=16, weight=58), Square(id=54, side=17, price=7, weight=62), Square(id=55, side=8, price=38, weight=11), Square(id=56, side=8, price=87, weight=8), Square(id=57, side=1, price=26, weight=35), Square(id=58, side=1, price=66, weight=35), Square(id=59, side=1, price=68, weight=24), Square(id=60, side=1, price=57, weight=99), Square(id=61, side=1, price=80, weight=69), Square(id=62, side=1, price=61, weight=81), Square(id=63, side=1, price=94, weight=45), Square(id=64, side=1, price=74, weight=64), Square(id=65, side=19, price=38, weight=3), Square(id=66, side=19, price=60, weight=58), Square(id=67, side=16, price=97, weight=74), Square(id=68, side=3, price=25, weight=67), Square(id=69, side=3, price=75, weight=55), Square(id=70, side=3, price=9, weight=59), Square(id=71, side=3, price=27, weight=13), Square(id=72, side=3, price=74, weight=41), Square(id=73, side=1, price=30, weight=71), Square(id=74, side=1, price=47, weight=14), Square(id=75, side=1, price=100, weight=11), Square(id=76, side=3, price=69, weight=72), Square(id=77, side=3, price=73, weight=95), Square(id=78, side=2, price=56, weight=98), Square(id=79, side=1, price=100, weight=5), Square(id=80, side=1, price=70, weight=44), Square(id=81, side=8, price=43, weight=32), Square(id=82, side=1, price=13, weight=100), Square(id=83, side=1, price=68, weight=89), Square(id=84, side=1, price=86, weight=15), Square(id=85, side=1, price=58, weight=93), Square(id=86, side=1, price=22, weight=51), Square(id=87, side=1, price=26, weight=50), Square(id=88, side=1, price=83, weight=59), Square(id=89, side=1, price=82, weight=30), Square(id=90, side=19, price=31, weight=54), Square(id=91, side=3, price=3, weight=47), Square(id=92, side=3, price=47, weight=33), Square(id=93, side=3, price=66, weight=91), Square(id=94, side=3, price=12, weight=73), Square(id=95, side=3, price=54, weight=79), Square(id=96, side=3, price=78, weight=76), Square(id=97, side=1, price=17, weight=5), Square(id=98, side=1, price=83, weight=99), Square(id=99, side=1, price=52, weight=15), Square(id=100, side=1, price=92, weight=5), Square(id=101, side=1, price=74, weight=45), Square(id=102, side=1, price=82, weight=6), Square(id=103, side=1, price=93, weight=10), Square(id=104, side=1, price=3, weight=21), Square(id=105, side=1, price=79, weight=28), Square(id=106, side=11, price=72, weight=88), Square(id=107, side=5, price=36, weight=94), Square(id=108, side=5, price=18, weight=40), Square(id=109, side=1, price=66, weight=71), Square(id=110, side=1, price=18, weight=14), Square(id=111, side=1, price=30, weight=17), Square(id=112, side=1, price=55, weight=56), Square(id=113, side=1, price=7, weight=47), Square(id=114, side=8, price=16, weight=65), Square(id=115, side=8, price=36, weight=2), Square(id=116, side=1, price=81, weight=87), Square(id=117, side=1, price=61, weight=34), Square(id=118, side=1, price=11, weight=72), Square(id=119, side=27, price=21, weight=12), Square(id=120, side=27, price=97, weight=69), Square(id=121, side=21, price=92, weight=15), Square(id=122, side=6, price=82, weight=78), Square(id=123, side=6, price=66, weight=4), Square(id=124, side=6, price=78, weight=34), Square(id=125, side=3, price=98, weight=14), Square(id=126, side=3, price=37, weight=23), Square(id=127, side=64, price=35, weight=14), Square(id=128, side=11, price=25, weight=34), Square(id=129, side=11, price=66, weight=49), Square(id=130, side=11, price=26, weight=64), Square(id=131, side=11, price=31, weight=75), Square(id=132, side=11, price=99, weight=93), Square(id=133, side=9, price=39, weight=60), Square(id=134, side=2, price=48, weight=65), Square(id=135, side=2, price=15, weight=4), Square(id=136, side=2, price=36, weight=30), Square(id=137, side=2, price=2, weight=23), Square(id=138, side=1, price=90, weight=23), Square(id=139, side=1, price=28, weight=77), Square(id=140, side=15, price=97, weight=94), Square(id=141, side=3, price=26, weight=35), Square(id=142, side=3, price=68, weight=17), Square(id=143, side=3, price=88, weight=48), Square(id=144, side=3, price=75, weight=68), Square(id=145, side=3, price=76, weight=97), Square(id=146, side=3, price=90, weight=49), Square(id=147, side=3, price=37, weight=39), Square(id=148, side=3, price=28, weight=59), Square(id=149, side=3, price=42, weight=100), Square(id=150, side=3, price=47, weight=93), Square(id=151, side=14, price=87, weight=79), Square(id=152, side=1, price=64, weight=12), Square(id=153, side=1, price=38, weight=78), Square(id=154, side=1, price=19, weight=31), Square(id=155, side=1, price=54, weight=67), Square(id=156, side=1, price=18, weight=12), Square(id=157, side=1, price=68, weight=10), Square(id=158, side=1, price=10, weight=94), Square(id=159, side=1, price=78, weight=51), Square(id=160, side=1, price=21, weight=55), Square(id=161, side=1, price=92, weight=15), Square(id=162, side=1, price=22, weight=66), Square(id=163, side=1, price=65, weight=2), Square(id=164, side=1, price=92, weight=49), Square(id=165, side=1, price=79, weight=9), Square(id=166, side=15, price=39, weight=64), Square(id=167, side=3, price=2, weight=17), Square(id=168, side=3, price=33, weight=71), Square(id=169, side=3, price=74, weight=44), Square(id=170, side=3, price=88, weight=89), Square(id=171, side=3, price=93, weight=81), Square(id=172, side=6, price=96, weight=11), Square(id=173, side=3, price=42, weight=54), Square(id=174, side=3, price=31, weight=45), Square(id=175, side=9, price=36, weight=45), Square(id=176, side=9, price=77, weight=37), Square(id=177, side=4, price=76, weight=17), Square(id=178, side=4, price=45, weight=48), Square(id=179, side=1, price=79, weight=17), Square(id=180, side=1, price=56, weight=74), Square(id=181, side=1, price=2, weight=1), Square(id=182, side=1, price=4, weight=99), Square(id=183, side=8, price=6, weight=21), Square(id=184, side=1, price=34, weight=34), Square(id=185, side=1, price=65, weight=41), Square(id=186, side=1, price=66, weight=42), Square(id=187, side=1, price=26, weight=18), Square(id=188, side=1, price=83, weight=84), Square(id=189, side=1, price=37, weight=45), Square(id=190, side=1, price=74, weight=90), Square(id=191, side=1, price=12, weight=3), Square(id=192, side=7, price=35, weight=47), Square(id=193, side=1, price=51, weight=37), Square(id=194, side=1, price=74, weight=62), Square(id=195, side=1, price=6, weight=38), Square(id=196, side=1, price=49, weight=4), Square(id=197, side=1, price=72, weight=71), Square(id=198, side=1, price=22, weight=94), Square(id=199, side=1, price=69, weight=83)]),\n",
       " 'bin_packing-100-1': Problem(width=100, height=200, max_weight=20000, squares=[Square(id=0, side=27, price=729, weight=729), Square(id=1, side=22, price=484, weight=484), Square(id=2, side=5, price=25, weight=25), Square(id=3, side=5, price=25, weight=25), Square(id=4, side=5, price=25, weight=25), Square(id=5, side=5, price=25, weight=25), Square(id=6, side=2, price=4, weight=4), Square(id=7, side=2, price=4, weight=4), Square(id=8, side=1, price=1, weight=1), Square(id=9, side=1, price=1, weight=1), Square(id=10, side=64, price=4096, weight=4096), Square(id=11, side=36, price=1296, weight=1296), Square(id=12, side=28, price=784, weight=784), Square(id=13, side=8, price=64, weight=64), Square(id=14, side=8, price=64, weight=64), Square(id=15, side=8, price=64, weight=64), Square(id=16, side=4, price=16, weight=16), Square(id=17, side=4, price=16, weight=16), Square(id=18, side=20, price=400, weight=400), Square(id=19, side=7, price=49, weight=49), Square(id=20, side=7, price=49, weight=49), Square(id=21, side=6, price=36, weight=36), Square(id=22, side=1, price=1, weight=1), Square(id=23, side=1, price=1, weight=1), Square(id=24, side=1, price=1, weight=1), Square(id=25, side=1, price=1, weight=1), Square(id=26, side=1, price=1, weight=1), Square(id=27, side=1, price=1, weight=1), Square(id=28, side=11, price=121, weight=121), Square(id=29, side=1, price=1, weight=1), Square(id=30, side=1, price=1, weight=1), Square(id=31, side=1, price=1, weight=1), Square(id=32, side=1, price=1, weight=1), Square(id=33, side=1, price=1, weight=1), Square(id=34, side=1, price=1, weight=1), Square(id=35, side=1, price=1, weight=1), Square(id=36, side=1, price=1, weight=1), Square(id=37, side=1, price=1, weight=1), Square(id=38, side=1, price=1, weight=1), Square(id=39, side=1, price=1, weight=1), Square(id=40, side=5, price=25, weight=25), Square(id=41, side=5, price=25, weight=25), Square(id=42, side=5, price=25, weight=25), Square(id=43, side=3, price=9, weight=9), Square(id=44, side=2, price=4, weight=4), Square(id=45, side=1, price=1, weight=1), Square(id=46, side=1, price=1, weight=1), Square(id=47, side=11, price=121, weight=121), Square(id=48, side=1, price=1, weight=1), Square(id=49, side=1, price=1, weight=1), Square(id=50, side=1, price=1, weight=1), Square(id=51, side=1, price=1, weight=1), Square(id=52, side=1, price=1, weight=1), Square(id=53, side=1, price=1, weight=1), Square(id=54, side=1, price=1, weight=1), Square(id=55, side=1, price=1, weight=1), Square(id=56, side=1, price=1, weight=1), Square(id=57, side=1, price=1, weight=1), Square(id=58, side=1, price=1, weight=1), Square(id=59, side=45, price=2025, weight=2025), Square(id=60, side=30, price=900, weight=900), Square(id=61, side=15, price=225, weight=225), Square(id=62, side=15, price=225, weight=225), Square(id=63, side=4, price=16, weight=16), Square(id=64, side=2, price=4, weight=4), Square(id=65, side=2, price=4, weight=4), Square(id=66, side=6, price=36, weight=36), Square(id=67, side=2, price=4, weight=4), Square(id=68, side=2, price=4, weight=4), Square(id=69, side=2, price=4, weight=4), Square(id=70, side=3, price=9, weight=9), Square(id=71, side=3, price=9, weight=9), Square(id=72, side=3, price=9, weight=9), Square(id=73, side=3, price=9, weight=9), Square(id=74, side=3, price=9, weight=9), Square(id=75, side=3, price=9, weight=9), Square(id=76, side=1, price=1, weight=1), Square(id=77, side=1, price=1, weight=1), Square(id=78, side=1, price=1, weight=1), Square(id=79, side=19, price=361, weight=361), Square(id=80, side=12, price=144, weight=144), Square(id=81, side=7, price=49, weight=49), Square(id=82, side=5, price=25, weight=25), Square(id=83, side=2, price=4, weight=4), Square(id=84, side=2, price=4, weight=4), Square(id=85, side=1, price=1, weight=1), Square(id=86, side=1, price=1, weight=1), Square(id=87, side=42, price=1764, weight=1764), Square(id=88, side=2, price=4, weight=4), Square(id=89, side=2, price=4, weight=4), Square(id=90, side=2, price=4, weight=4), Square(id=91, side=2, price=4, weight=4), Square(id=92, side=2, price=4, weight=4), Square(id=93, side=2, price=4, weight=4), Square(id=94, side=2, price=4, weight=4), Square(id=95, side=2, price=4, weight=4), Square(id=96, side=2, price=4, weight=4), Square(id=97, side=2, price=4, weight=4), Square(id=98, side=2, price=4, weight=4), Square(id=99, side=2, price=4, weight=4), Square(id=100, side=2, price=4, weight=4), Square(id=101, side=2, price=4, weight=4), Square(id=102, side=2, price=4, weight=4), Square(id=103, side=2, price=4, weight=4), Square(id=104, side=2, price=4, weight=4), Square(id=105, side=2, price=4, weight=4), Square(id=106, side=2, price=4, weight=4), Square(id=107, side=2, price=4, weight=4), Square(id=108, side=2, price=4, weight=4), Square(id=109, side=11, price=121, weight=121), Square(id=110, side=11, price=121, weight=121), Square(id=111, side=11, price=121, weight=121), Square(id=112, side=9, price=81, weight=81), Square(id=113, side=2, price=4, weight=4), Square(id=114, side=2, price=4, weight=4), Square(id=115, side=2, price=4, weight=4), Square(id=116, side=2, price=4, weight=4), Square(id=117, side=1, price=1, weight=1), Square(id=118, side=1, price=1, weight=1), Square(id=119, side=6, price=36, weight=36), Square(id=120, side=1, price=1, weight=1), Square(id=121, side=1, price=1, weight=1), Square(id=122, side=1, price=1, weight=1), Square(id=123, side=1, price=1, weight=1), Square(id=124, side=1, price=1, weight=1), Square(id=125, side=1, price=1, weight=1), Square(id=126, side=30, price=900, weight=900), Square(id=127, side=3, price=9, weight=9), Square(id=128, side=3, price=9, weight=9), Square(id=129, side=3, price=9, weight=9), Square(id=130, side=3, price=9, weight=9), Square(id=131, side=3, price=9, weight=9), Square(id=132, side=3, price=9, weight=9), Square(id=133, side=3, price=9, weight=9), Square(id=134, side=3, price=9, weight=9), Square(id=135, side=3, price=9, weight=9), Square(id=136, side=3, price=9, weight=9), Square(id=137, side=25, price=625, weight=625), Square(id=138, side=8, price=64, weight=64), Square(id=139, side=8, price=64, weight=64), Square(id=140, side=8, price=64, weight=64), Square(id=141, side=1, price=1, weight=1), Square(id=142, side=1, price=1, weight=1), Square(id=143, side=1, price=1, weight=1), Square(id=144, side=1, price=1, weight=1), Square(id=145, side=1, price=1, weight=1), Square(id=146, side=1, price=1, weight=1), Square(id=147, side=1, price=1, weight=1), Square(id=148, side=1, price=1, weight=1), Square(id=149, side=9, price=81, weight=81), Square(id=150, side=2, price=4, weight=4), Square(id=151, side=2, price=4, weight=4), Square(id=152, side=2, price=4, weight=4), Square(id=153, side=2, price=4, weight=4), Square(id=154, side=1, price=1, weight=1), Square(id=155, side=1, price=1, weight=1), Square(id=156, side=7, price=49, weight=49), Square(id=157, side=2, price=4, weight=4), Square(id=158, side=2, price=4, weight=4), Square(id=159, side=2, price=4, weight=4), Square(id=160, side=1, price=1, weight=1), Square(id=161, side=1, price=1, weight=1), Square(id=162, side=1, price=1, weight=1), Square(id=163, side=1, price=1, weight=1), Square(id=164, side=1, price=1, weight=1), Square(id=165, side=1, price=1, weight=1), Square(id=166, side=1, price=1, weight=1), Square(id=167, side=1, price=1, weight=1), Square(id=168, side=1, price=1, weight=1), Square(id=169, side=1, price=1, weight=1), Square(id=170, side=1, price=1, weight=1), Square(id=171, side=1, price=1, weight=1), Square(id=172, side=1, price=1, weight=1), Square(id=173, side=1, price=1, weight=1), Square(id=174, side=1, price=1, weight=1), Square(id=175, side=1, price=1, weight=1), Square(id=176, side=1, price=1, weight=1), Square(id=177, side=1, price=1, weight=1), Square(id=178, side=1, price=1, weight=1), Square(id=179, side=1, price=1, weight=1), Square(id=180, side=18, price=324, weight=324), Square(id=181, side=1, price=1, weight=1), Square(id=182, side=1, price=1, weight=1), Square(id=183, side=1, price=1, weight=1), Square(id=184, side=1, price=1, weight=1), Square(id=185, side=1, price=1, weight=1), Square(id=186, side=1, price=1, weight=1), Square(id=187, side=1, price=1, weight=1), Square(id=188, side=1, price=1, weight=1), Square(id=189, side=1, price=1, weight=1), Square(id=190, side=1, price=1, weight=1), Square(id=191, side=1, price=1, weight=1), Square(id=192, side=1, price=1, weight=1), Square(id=193, side=1, price=1, weight=1), Square(id=194, side=1, price=1, weight=1), Square(id=195, side=1, price=1, weight=1), Square(id=196, side=1, price=1, weight=1), Square(id=197, side=1, price=1, weight=1), Square(id=198, side=1, price=1, weight=1), Square(id=199, side=3, price=9, weight=9), Square(id=200, side=2, price=4, weight=4), Square(id=201, side=1, price=1, weight=1), Square(id=202, side=1, price=1, weight=1), Square(id=203, side=3, price=9, weight=9), Square(id=204, side=2, price=4, weight=4), Square(id=205, side=1, price=1, weight=1), Square(id=206, side=1, price=1, weight=1), Square(id=207, side=19, price=361, weight=361), Square(id=208, side=15, price=225, weight=225), Square(id=209, side=4, price=16, weight=16), Square(id=210, side=4, price=16, weight=16), Square(id=211, side=4, price=16, weight=16), Square(id=212, side=3, price=9, weight=9), Square(id=213, side=1, price=1, weight=1), Square(id=214, side=1, price=1, weight=1), Square(id=215, side=1, price=1, weight=1), Square(id=216, side=32, price=1024, weight=1024), Square(id=217, side=2, price=4, weight=4), Square(id=218, side=2, price=4, weight=4), Square(id=219, side=2, price=4, weight=4), Square(id=220, side=2, price=4, weight=4), Square(id=221, side=2, price=4, weight=4), Square(id=222, side=2, price=4, weight=4), Square(id=223, side=2, price=4, weight=4), Square(id=224, side=2, price=4, weight=4), Square(id=225, side=2, price=4, weight=4), Square(id=226, side=2, price=4, weight=4), Square(id=227, side=2, price=4, weight=4), Square(id=228, side=2, price=4, weight=4), Square(id=229, side=2, price=4, weight=4), Square(id=230, side=2, price=4, weight=4), Square(id=231, side=2, price=4, weight=4), Square(id=232, side=2, price=4, weight=4), Square(id=233, side=23, price=529, weight=529), Square(id=234, side=4, price=16, weight=16), Square(id=235, side=4, price=16, weight=16), Square(id=236, side=4, price=16, weight=16), Square(id=237, side=4, price=16, weight=16), Square(id=238, side=4, price=16, weight=16), Square(id=239, side=3, price=9, weight=9), Square(id=240, side=1, price=1, weight=1), Square(id=241, side=1, price=1, weight=1), Square(id=242, side=1, price=1, weight=1), Square(id=243, side=8, price=64, weight=64), Square(id=244, side=8, price=64, weight=64), Square(id=245, side=8, price=64, weight=64), Square(id=246, side=3, price=9, weight=9), Square(id=247, side=3, price=9, weight=9), Square(id=248, side=2, price=4, weight=4), Square(id=249, side=1, price=1, weight=1), Square(id=250, side=1, price=1, weight=1)])}"
      ]
     },
     "execution_count": 2,
     "metadata": {},
     "output_type": "execute_result"
    }
   ],
   "source": [
    "instances = {}\n",
    "\n",
    "for filename in os.listdir(\"../instances\"):\n",
    "    if not filename.endswith(\"100-1.dat\"):\n",
    "        continue\n",
    "\n",
    "    name, _ = os.path.splitext(filename)\n",
    "\n",
    "    with open(f\"../instances/{filename}\", \"r\") as f:\n",
    "        dat = parse(f)\n",
    "\n",
    "    problem = Problem.from_dat(dat)\n",
    "\n",
    "    instances[name] = problem\n",
    "\n",
    "instances\n"
   ]
  },
  {
   "cell_type": "code",
   "execution_count": 3,
   "metadata": {},
   "outputs": [],
   "source": [
    "results = []"
   ]
  },
  {
   "cell_type": "code",
   "execution_count": 4,
   "metadata": {},
   "outputs": [
    {
     "name": "stderr",
     "output_type": "stream",
     "text": [
      "  0%|          | 0/11 [00:00<?, ?it/s]"
     ]
    },
    {
     "name": "stdout",
     "output_type": "stream",
     "text": [
      "0.0,0.0,41497.152557373046875e-07,7.152557373046875e-07,4149\n",
      "\n",
      "1.1920928955078125e-06,1.1920928955078125e-06,4149\n",
      "0.0,0.0,4149\n",
      "9.5367431640625e-07,9.5367431640625e-07,4149\n"
     ]
    },
    {
     "name": "stderr",
     "output_type": "stream",
     "text": [
      "100%|██████████| 5/5 [00:59<00:00, 11.93s/it]\n",
      "  9%|▉         | 1/11 [01:00<10:02, 60.29s/it]"
     ]
    },
    {
     "name": "stdout",
     "output_type": "stream",
     "text": [
      "Suitcase(value=4149, weight=2906)\n",
      "Suitcase(value=4149, weight=2906)\n",
      "Suitcase(value=4149, weight=2906)\n",
      "Suitcase(value=4149, weight=2906)\n",
      "Suitcase(value=4149, weight=2906)\n"
     ]
    },
    {
     "name": "stderr",
     "output_type": "stream",
     "text": []
    },
    {
     "name": "stdout",
     "output_type": "stream",
     "text": [
      "0.0,0.0,4135\n",
      "0.29779601097106934,0.14889800548553467,4149\n",
      "9.5367431640625e-07,9.5367431640625e-07,4149\n",
      "0.0,0.0,4131\n",
      "0.0,0.0,4149\n",
      "0.6754310131072998,0.3377155065536499,41359.5367431640625e-07,9.5367431640625e-07,4135\n",
      "\n",
      "1.373077154159546,0.45769238471984863,4147\n",
      "1.3908779621124268,0.6954389810562134,4147\n",
      "1.7633509635925293,0.5877836545308431,4149\n",
      "3.6623151302337646,0.40692390335930717,4149\n"
     ]
    },
    {
     "name": "stderr",
     "output_type": "stream",
     "text": [
      "100%|██████████| 5/5 [01:03<00:00, 12.70s/it]\n",
      " 18%|█▊        | 2/11 [02:04<09:20, 62.32s/it]"
     ]
    },
    {
     "name": "stdout",
     "output_type": "stream",
     "text": [
      "Suitcase(value=4149, weight=2906)\n",
      "Suitcase(value=4149, weight=2906)\n",
      "Suitcase(value=4149, weight=2906)\n",
      "Suitcase(value=4149, weight=2906)\n",
      "Suitcase(value=4149, weight=2906)\n",
      "0.0,0.0,4149\n",
      "0.0,0.0,4149\n"
     ]
    },
    {
     "name": "stderr",
     "output_type": "stream",
     "text": [
      "\n"
     ]
    },
    {
     "name": "stdout",
     "output_type": "stream",
     "text": [
      "9.5367431640625e-07,9.5367431640625e-07,4139\n",
      "0.0,0.0,4138\n"
     ]
    },
    {
     "name": "stderr",
     "output_type": "stream",
     "text": [
      "  0%|          | 0/5 [00:00<?, ?it/s]\u001b[A"
     ]
    },
    {
     "name": "stdout",
     "output_type": "stream",
     "text": [
      "0.0,0.0,4149\n",
      "0.2794930934906006,0.09316436449686687,4149\n",
      "0.757331132888794,0.1893327832221985,4147\n",
      "1.425260066986084,0.1781575083732605,4149\n"
     ]
    },
    {
     "name": "stderr",
     "output_type": "stream",
     "text": [
      "100%|██████████| 5/5 [01:00<00:00, 12.15s/it]\n",
      " 27%|██▋       | 3/11 [03:05<08:15, 61.92s/it]"
     ]
    },
    {
     "name": "stdout",
     "output_type": "stream",
     "text": [
      "Suitcase(value=4149, weight=2906)\n",
      "Suitcase(value=4149, weight=2906)\n",
      "Suitcase(value=4149, weight=2906)\n",
      "Suitcase(value=4149, weight=2906)\n",
      "Suitcase(value=4149, weight=2906)\n"
     ]
    },
    {
     "name": "stderr",
     "output_type": "stream",
     "text": []
    },
    {
     "name": "stdout",
     "output_type": "stream",
     "text": [
      "0.0,0.0,4095\n",
      "0.0,0.0,4135\n",
      "0.0,0.0,4120\n",
      "0.0,0.0,4149\n",
      "0.1813979148864746,0.0906989574432373,4136\n",
      "0.0,0.0,4137\n",
      "0.08490204811096191,0.04245102405548096,4149\n",
      "0.36733317375183105,0.09183329343795776,4147\n",
      "0.735969066619873,0.18399226665496826,4149\n",
      "0.7805731296539307,0.13009552160898843,4149\n",
      "0.8637678623199463,0.21594196557998657,4138\n",
      "1.4636619091033936,0.20909455844334193,4149\n"
     ]
    },
    {
     "name": "stderr",
     "output_type": "stream",
     "text": [
      "100%|██████████| 5/5 [01:01<00:00, 12.27s/it]\n",
      " 36%|███▋      | 4/11 [04:06<07:12, 61.75s/it]"
     ]
    },
    {
     "name": "stdout",
     "output_type": "stream",
     "text": [
      "Suitcase(value=4149, weight=2906)\n",
      "Suitcase(value=4149, weight=2906)\n",
      "Suitcase(value=4149, weight=2906)\n",
      "Suitcase(value=4149, weight=2906)\n",
      "Suitcase(value=4149, weight=2906)\n"
     ]
    },
    {
     "name": "stderr",
     "output_type": "stream",
     "text": []
    },
    {
     "name": "stdout",
     "output_type": "stream",
     "text": [
      "0.0,0.0,4136\n",
      "0.0,0.0,4139\n",
      "9.5367431640625e-07,9.5367431640625e-07,4133\n",
      "0.0,0.0,4142\n",
      "0.0,0.0,4112\n",
      "0.24394702911376953,0.12197351455688477,4149\n",
      "0.5531401634216309,0.27657008171081543,4128\n",
      "0.2528717517852783,0.12643587589263916,4149\n",
      "0.9527020454406738,0.3175673484802246,4136\n",
      "1.2293078899383545,0.3073269724845886,4131\n",
      "1.8774311542510986,0.3129051923751831,4136\n",
      "2.0811941623687744,0.3468656937281291,4149\n",
      "2.1878910064697266,0.2734863758087158,4137\n",
      "2.8354592323303223,0.28354592323303224,4140\n",
      "3.0281059741973877,0.30281059741973876,4138\n",
      "4.410566329956055,0.2756603956222534,4149\n",
      "5.037379026412964,0.29631641331840963,4149\n"
     ]
    },
    {
     "name": "stderr",
     "output_type": "stream",
     "text": [
      "100%|██████████| 5/5 [01:04<00:00, 12.98s/it]\n",
      " 45%|████▌     | 5/11 [05:12<06:17, 62.96s/it]"
     ]
    },
    {
     "name": "stdout",
     "output_type": "stream",
     "text": [
      "Suitcase(value=4149, weight=2906)\n",
      "Suitcase(value=4149, weight=2906)\n",
      "Suitcase(value=4149, weight=2906)\n",
      "Suitcase(value=4149, weight=2906)\n",
      "Suitcase(value=4149, weight=2906)\n"
     ]
    },
    {
     "name": "stderr",
     "output_type": "stream",
     "text": []
    },
    {
     "name": "stdout",
     "output_type": "stream",
     "text": [
      "0.0,0.0,4119\n",
      "0.0,0.0,4123\n",
      "0.0,0.0,4118\n",
      "0.0,0.0,4134\n",
      "0.0,0.0,4114\n",
      "0.35069990158081055,0.17534995079040527,4131\n",
      "0.38958311080932617,0.19479155540466309,4138\n",
      "0.7153770923614502,0.23845903078715006,4135\n",
      "0.4317958354949951,0.21589791774749756,4136\n",
      "0.5570061206817627,0.27850306034088135,4138\n",
      "1.1606910228729248,0.2901727557182312,4137\n",
      "1.538599967956543,0.38464999198913574,4149\n",
      "1.765704870223999,0.3531409740447998,4138\n",
      "5.09970498085022,0.36426464148930143,4149\n",
      "5.982666015625,0.460205078125,4149\n",
      "6.48993992805481,0.3817611722385182,4149\n",
      "8.843682050704956,0.40198554775931616,4139\n",
      "19.22805404663086,0.40910753290703955,4140\n",
      "23.27503204345703,0.40129365592167293,4147\n",
      "35.79052424430847,0.39330246422317,4149\n"
     ]
    },
    {
     "name": "stderr",
     "output_type": "stream",
     "text": [
      "100%|██████████| 5/5 [01:35<00:00, 19.15s/it]\n",
      " 55%|█████▍    | 6/11 [06:47<06:10, 74.16s/it]"
     ]
    },
    {
     "name": "stdout",
     "output_type": "stream",
     "text": [
      "Suitcase(value=4149, weight=2906)\n",
      "Suitcase(value=4149, weight=2906)\n",
      "Suitcase(value=4149, weight=2906)\n",
      "Suitcase(value=4149, weight=2906)\n",
      "Suitcase(value=4149, weight=2906)\n"
     ]
    },
    {
     "name": "stderr",
     "output_type": "stream",
     "text": []
    },
    {
     "name": "stdout",
     "output_type": "stream",
     "text": [
      "0.0,0.0,4133\n",
      "0.0,0.0,4125\n",
      "0.0,0.0,4109\n",
      "0.0,0.0,4119\n",
      "1.1920928955078125e-06,1.1920928955078125e-06,4117\n",
      "0.5224618911743164,0.2612309455871582,4120\n",
      "0.3749220371246338,0.1874610185623169,4131\n",
      "0.30198097229003906,0.15099048614501953,4138\n",
      "0.5949862003326416,0.2974931001663208,4138\n",
      "0.4666860103607178,0.2333430051803589,4129\n",
      "1.1884827613830566,0.39616092046101886,4147\n",
      "1.6887459754943848,0.4221864938735962,4133\n",
      "1.946444034576416,0.3892888069152832,4131\n",
      "2.4306039810180664,0.40510066350301105,4136\n",
      "2.702960252761841,0.6757400631904602,4132\n",
      "2.8186120986938477,0.4697686831156413,4147\n",
      "3.794559955596924,0.4743199944496155,4137\n",
      "3.955059051513672,0.6591765085856119,4137\n",
      "4.699954032897949,0.46999540328979494,4142\n",
      "6.486897945404053,0.4989921496464656,4147\n",
      "7.078835964202881,0.6435305422002618,4139\n",
      "8.402985095977783,0.6002132211412702,4149\n",
      "9.375974893569946,0.5515279349158791,4149\n",
      "13.581269025802612,0.5904899576435918,4149\n",
      "22.208176851272583,0.5552044212818146,4149\n",
      "24.194625854492188,0.5376583523220486,4149\n"
     ]
    },
    {
     "name": "stderr",
     "output_type": "stream",
     "text": [
      "100%|██████████| 5/5 [01:23<00:00, 16.80s/it]\n",
      " 64%|██████▎   | 7/11 [08:12<05:09, 77.45s/it]"
     ]
    },
    {
     "name": "stdout",
     "output_type": "stream",
     "text": [
      "Suitcase(value=4149, weight=2906)\n",
      "Suitcase(value=4149, weight=2906)\n",
      "Suitcase(value=4149, weight=2906)\n",
      "Suitcase(value=4149, weight=2906)\n",
      "Suitcase(value=4149, weight=2906)\n"
     ]
    },
    {
     "name": "stderr",
     "output_type": "stream",
     "text": []
    },
    {
     "name": "stdout",
     "output_type": "stream",
     "text": [
      "0.0,0.0,4140\n",
      "0.0,0.0,4135\n",
      "0.0,0.0,4138\n",
      "0.4595167636871338,0.2297583818435669,4136\n",
      "0.0,0.0,4130\n",
      "9.5367431640625e-07,9.5367431640625e-07,4138\n",
      "1.4389550685882568,0.47965168952941895,4132\n",
      "2.1379129886627197,0.5344782471656799,4138\n",
      "2.1425070762634277,0.5356267690658569,4138\n",
      "3.3871991634368896,0.5645331939061483,4149\n",
      "3.4782097339630127,0.5797016223271688,4142\n",
      "3.7047479152679443,0.6174579858779907,4149\n",
      "3.617661237716675,0.45220765471458435,4139\n",
      "5.5105390548706055,0.5009580958973278,4147\n",
      "8.687314748764038,0.5791543165842692,4139\n",
      "10.064178943634033,0.5920105260961196,4142\n",
      "18.966691732406616,0.5578438744825476,4149\n",
      "44.63719606399536,0.5722717444101969,4149\n",
      "57.87712287902832,0.6290991617285687,4147\n",
      "60.374645948410034,0.6289025619626045,4149\n"
     ]
    },
    {
     "name": "stderr",
     "output_type": "stream",
     "text": [
      "100%|██████████| 5/5 [02:00<00:00, 24.08s/it]\n",
      " 73%|███████▎  | 8/11 [10:12<04:33, 91.18s/it]"
     ]
    },
    {
     "name": "stdout",
     "output_type": "stream",
     "text": [
      "Suitcase(value=4149, weight=2906)\n",
      "Suitcase(value=4149, weight=2906)\n",
      "Suitcase(value=4149, weight=2906)\n",
      "Suitcase(value=4149, weight=2906)\n",
      "Suitcase(value=4149, weight=2906)\n"
     ]
    },
    {
     "name": "stderr",
     "output_type": "stream",
     "text": []
    },
    {
     "name": "stdout",
     "output_type": "stream",
     "text": [
      "9.5367431640625e-07,9.5367431640625e-07,4100\n",
      "0.0,0.0,4094\n",
      "0.0,0.0,4122\n",
      "0.6870379447937012,0.3435189723968506,4097\n",
      "0.0,0.0,4119\n",
      "0.0,0.0,4138\n",
      "0.8977880477905273,0.29926268259684247,4149\n",
      "0.6898469924926758,0.3449234962463379,4140\n",
      "0.8872888088226318,0.4436444044113159,4131\n",
      "1.1822090148925781,0.5911045074462891,4139\n",
      "1.1714019775390625,0.5857009887695312,4127\n",
      "2.2431249618530273,0.4486249923706055,4142\n",
      "2.4236111640930176,0.40393519401550293,4145\n",
      "2.8653669357299805,0.7163417339324951,4139\n",
      "4.762823820114136,0.5292026466793485,4149\n",
      "5.7608959674835205,0.6400995519426134,4135\n",
      "7.18006706237793,0.718006706237793,4136\n",
      "12.233105897903442,0.8155403931935629,4149\n",
      "17.591660022735596,0.7648547835971998,4147\n",
      "24.61684799194336,0.7240249409395105,4149\n",
      "29.209972858428955,0.7124383624007062,4145\n",
      "60.71735191345215,0.7685740748538247,4147\n",
      "77.12209892272949,0.6321483518256515,4149\n"
     ]
    },
    {
     "name": "stderr",
     "output_type": "stream",
     "text": [
      "100%|██████████| 5/5 [02:16<00:00, 27.38s/it]\n",
      " 82%|████████▏ | 9/11 [12:29<03:31, 105.56s/it]"
     ]
    },
    {
     "name": "stdout",
     "output_type": "stream",
     "text": [
      "Suitcase(value=4149, weight=2906)\n",
      "Suitcase(value=4149, weight=2906)\n",
      "Suitcase(value=4149, weight=2906)\n",
      "Suitcase(value=4149, weight=2906)\n",
      "Suitcase(value=4149, weight=2906)\n"
     ]
    },
    {
     "name": "stderr",
     "output_type": "stream",
     "text": []
    },
    {
     "name": "stdout",
     "output_type": "stream",
     "text": [
      "0.0,0.0,4094\n",
      "0.0,0.0,4139\n",
      "0.0,0.0,4133\n",
      "0.6103899478912354,0.3051949739456177,4129\n",
      "0.0,0.0,4147\n",
      "0.0,0.0,4129\n",
      "1.433887004852295,0.47796233495076496,4139\n",
      "1.115433931350708,0.371811310450236,4137\n",
      "1.6955451965332031,0.5651817321777344,4145\n",
      "2.3191843032836914,0.7730614344278971,4137\n",
      "2.6757428646087646,0.6689357161521912,4140\n",
      "3.242544174194336,0.810636043548584,4139\n",
      "17.91141700744629,0.8529246194022042,4145\n",
      "21.32676911354065,1.1224615322916132,4145\n",
      "25.330562114715576,1.013222484588623,4140\n",
      "28.80356001853943,1.0286985720906938,4147\n",
      "29.63015127182007,1.1852060508728028,4147\n",
      "34.20530676841736,1.0060384343652164,4147\n",
      "43.9510600566864,1.022117675736893,4147\n",
      "50.93326807022095,1.0394544504126724,4149\n"
     ]
    },
    {
     "name": "stderr",
     "output_type": "stream",
     "text": [
      "100%|██████████| 5/5 [01:50<00:00, 22.16s/it] \n",
      " 91%|█████████ | 10/11 [14:20<01:47, 107.25s/it]"
     ]
    },
    {
     "name": "stdout",
     "output_type": "stream",
     "text": [
      "Suitcase(value=4149, weight=2906)\n",
      "Suitcase(value=4147, weight=2905)\n",
      "Suitcase(value=4147, weight=2908)\n",
      "Suitcase(value=4147, weight=2908)\n",
      "Suitcase(value=4147, weight=2905)\n"
     ]
    },
    {
     "name": "stderr",
     "output_type": "stream",
     "text": []
    },
    {
     "name": "stdout",
     "output_type": "stream",
     "text": [
      "0.0,0.0,4139\n",
      "0.0,0.0,4099\n",
      "0.0,0.0,4078\n",
      "1.1920928955078125e-06,1.1920928955078125e-06,4049\n",
      "2.169776201248169,1.0848881006240845,4137\n",
      "0.0,0.0,3918\n",
      "3.2956511974334717,1.6478255987167358,4108\n",
      "15.507476329803467,2.5845793883005777,4118\n",
      "14.902775049209595,3.7256937623023987,4009\n",
      "17.552778959274292,3.510555791854858,4049\n",
      "21.4798002243042,2.386644469367133,4127\n",
      "22.420489072799683,2.8025611340999603,4118\n",
      "23.005172967910767,2.3005172967910767,4137\n",
      "24.75683283805847,3.5366904054369246,4078\n",
      "42.72753405570984,3.286733388900757,4095\n",
      "46.29728102684021,3.0864854017893473,4118\n",
      "47.600768089294434,2.644487116071913,4127\n",
      "53.19344735145569,2.6596723675727842,4133\n",
      "70.78647017478943,2.2120771929621696,4136\n",
      "73.31316590309143,2.528040203554877,4137\n"
     ]
    },
    {
     "name": "stderr",
     "output_type": "stream",
     "text": [
      "100%|██████████| 5/5 [02:13<00:00, 26.70s/it]\n",
      "100%|██████████| 11/11 [16:34<00:00, 90.42s/it] "
     ]
    },
    {
     "name": "stdout",
     "output_type": "stream",
     "text": [
      "Suitcase(value=4137, weight=2905)\n",
      "Suitcase(value=4137, weight=2905)\n",
      "Suitcase(value=4136, weight=2905)\n",
      "Suitcase(value=4137, weight=2905)\n",
      "Suitcase(value=4139, weight=2906)\n"
     ]
    },
    {
     "name": "stderr",
     "output_type": "stream",
     "text": [
      "\n"
     ]
    }
   ],
   "source": [
    "for alpha in tqdm([0.0, 0.1, 0.2, 0.3, 0.4, 0.5, 0.6, 0.7, 0.8, 0.9, 1.0]):\n",
    "\n",
    "    def grasp(instance):\n",
    "        return grasp_search(instance, qs[\"price_weight\"], alpha=alpha)\n",
    "\n",
    "    # Convert to process_map for parallelism\n",
    "    def run(_: int):\n",
    "        return runner(\n",
    "            grasp,\n",
    "            instances[\"knapsack-100-1\"],\n",
    "            max_time=5 * 60,\n",
    "            max_time_since_improvement=60,\n",
    "        )\n",
    "\n",
    "    runs = thread_map(run, range(5))\n",
    "\n",
    "    for tune, (result, iters) in enumerate(runs):\n",
    "        print(result)\n",
    "        results.append((\"knapsack-100-1\", alpha, tune, result.value, result.weight))\n"
   ]
  },
  {
   "cell_type": "code",
   "execution_count": 5,
   "metadata": {},
   "outputs": [
    {
     "name": "stderr",
     "output_type": "stream",
     "text": [
      "  0%|          | 0/11 [00:00<?, ?it/s]"
     ]
    },
    {
     "name": "stdout",
     "output_type": "stream",
     "text": [
      "0.0,0.0,19676\n",
      "0.0,0.0,19676\n",
      "0.0,0.0,19676\n",
      "0.0,0.0,19676\n",
      "0.0,0.0,19676\n"
     ]
    },
    {
     "name": "stderr",
     "output_type": "stream",
     "text": [
      "100%|██████████| 5/5 [01:04<00:00, 12.88s/it]\n",
      "  9%|▉         | 1/11 [01:04<10:45, 64.57s/it]"
     ]
    },
    {
     "name": "stdout",
     "output_type": "stream",
     "text": [
      "Suitcase(value=19676, weight=19676)\n",
      "Suitcase(value=19676, weight=19676)\n",
      "Suitcase(value=19676, weight=19676)\n",
      "Suitcase(value=19676, weight=19676)\n",
      "Suitcase(value=19676, weight=19676)\n"
     ]
    },
    {
     "name": "stderr",
     "output_type": "stream",
     "text": []
    },
    {
     "name": "stdout",
     "output_type": "stream",
     "text": [
      "0.0,0.0,19775\n",
      "9.5367431640625e-07,9.5367431640625e-07,19775\n",
      "0.0,0.0,19550\n",
      "9.5367431640625e-07,9.5367431640625e-07,19550\n",
      "0.0,0.0,19315\n",
      "16.622977018356323,8.311488509178162,19639\n",
      "30.43538999557495,10.145129998524984,19676\n",
      "32.72486710548401,10.908289035161337,19775\n",
      "64.2207441329956,12.84414882659912,19775\n"
     ]
    },
    {
     "name": "stderr",
     "output_type": "stream",
     "text": [
      "100%|██████████| 5/5 [02:05<00:00, 25.04s/it]\n",
      " 18%|█▊        | 2/11 [03:10<15:04, 100.55s/it]"
     ]
    },
    {
     "name": "stdout",
     "output_type": "stream",
     "text": [
      "Suitcase(value=19775, weight=19775)\n",
      "Suitcase(value=19775, weight=19775)\n",
      "Suitcase(value=19775, weight=19775)\n",
      "Suitcase(value=19775, weight=19775)\n",
      "Suitcase(value=19676, weight=19676)\n"
     ]
    },
    {
     "name": "stderr",
     "output_type": "stream",
     "text": []
    },
    {
     "name": "stdout",
     "output_type": "stream",
     "text": [
      "0.0,0.0,19915\n",
      "1.1920928955078125e-06,1.1920928955078125e-06,19775\n",
      "0.0,0.0,19516\n",
      "9.5367431640625e-07,9.5367431640625e-07,19890\n",
      "0.0,0.0,19226\n",
      "13.673764944076538,6.836882472038269,19872\n",
      "15.091156959533691,7.545578479766846,19676\n",
      "22.83100390434265,11.415501952171326,19676\n",
      "27.13301110267639,9.044337034225464,19973\n",
      "38.390164852142334,9.597541213035583,19936\n",
      "47.079869985580444,9.415973997116089,20000\n",
      "48.541528940200806,12.135382235050201,19872\n",
      "85.444406747818,12.206343821116857,19883\n",
      "121.65173888206482,6.75842993789249,19900\n",
      "127.96341681480408,5.8165189461274585,19911\n",
      "132.33260488510132,5.293304195404053,19927\n",
      "155.9768509864807,3.899421274662018,19950\n"
     ]
    },
    {
     "name": "stderr",
     "output_type": "stream",
     "text": [
      "100%|██████████| 5/5 [03:36<00:00, 43.28s/it] \n",
      " 27%|██▋       | 3/11 [06:47<20:29, 153.69s/it]"
     ]
    },
    {
     "name": "stdout",
     "output_type": "stream",
     "text": [
      "Suitcase(value=19950, weight=19950)\n",
      "Suitcase(value=19973, weight=19973)\n",
      "Suitcase(value=19872, weight=19872)\n",
      "Suitcase(value=19936, weight=19936)\n",
      "Suitcase(value=20000, weight=20000)\n"
     ]
    },
    {
     "name": "stderr",
     "output_type": "stream",
     "text": []
    },
    {
     "name": "stdout",
     "output_type": "stream",
     "text": [
      "1.1920928955078125e-06,1.1920928955078125e-06,19837\n",
      "0.0,0.0,19550\n",
      "0.0,0.0,19100\n",
      "0.0,0.0,19744\n",
      "0.0,0.0,19510\n",
      "14.764041900634766,7.382020950317383,19830\n",
      "13.117558002471924,6.558779001235962,19414\n",
      "15.627538204193115,7.813769102096558,19645\n",
      "26.293334007263184,8.764444669087728,19815\n",
      "28.667989253997803,9.555996417999268,19836\n",
      "31.96715998649597,10.655719995498657,19676\n",
      "38.462910890579224,9.615727722644806,19856\n",
      "61.75527811050415,12.35105562210083,19775\n",
      "73.46394801139832,12.243991335233053,19854\n",
      "90.09979701042175,10.011088556713528,19920\n",
      "94.36481475830078,8.578619523481889,19879\n",
      "107.42094421386719,6.318879071403952,19936\n"
     ]
    },
    {
     "name": "stderr",
     "output_type": "stream",
     "text": [
      "100%|██████████| 5/5 [02:47<00:00, 33.41s/it] \n",
      " 36%|███▋      | 4/11 [09:34<18:34, 159.22s/it]"
     ]
    },
    {
     "name": "stdout",
     "output_type": "stream",
     "text": [
      "Suitcase(value=19936, weight=19936)\n",
      "Suitcase(value=19830, weight=19830)\n",
      "Suitcase(value=19879, weight=19879)\n",
      "Suitcase(value=19837, weight=19837)\n",
      "Suitcase(value=19836, weight=19836)\n"
     ]
    },
    {
     "name": "stderr",
     "output_type": "stream",
     "text": []
    },
    {
     "name": "stdout",
     "output_type": "stream",
     "text": [
      "0.0,0.0,19654\n",
      "9.5367431640625e-07,9.5367431640625e-07,19556\n",
      "0.0,0.0,17975\n",
      "0.0,0.0,19271\n",
      "0.0,0.0,19471\n",
      "6.3163001537323,3.15815007686615,19646\n",
      "6.989049673080444,3.494524836540222,19815\n",
      "8.580766916275024,2.8602556387583413,19875\n",
      "10.233463048934937,3.411154349644979,19676\n",
      "19.66420292854309,6.554734309514363,19775\n",
      "39.79680395126343,5.685257707323347,19743\n"
     ]
    },
    {
     "name": "stderr",
     "output_type": "stream",
     "text": []
    },
    {
     "name": "stdout",
     "output_type": "stream",
     "text": [
      "90.84309887886047,3.78512911995252,19830\n"
     ]
    },
    {
     "name": "stderr",
     "output_type": "stream",
     "text": [
      "100%|██████████| 5/5 [02:31<00:00, 30.27s/it]\n",
      " 45%|████▌     | 5/11 [12:06<15:38, 156.41s/it]"
     ]
    },
    {
     "name": "stdout",
     "output_type": "stream",
     "text": [
      "Suitcase(value=19676, weight=19676)\n",
      "Suitcase(value=19875, weight=19875)\n",
      "Suitcase(value=19815, weight=19815)\n",
      "Suitcase(value=19775, weight=19775)\n",
      "Suitcase(value=19830, weight=19830)\n"
     ]
    },
    {
     "name": "stderr",
     "output_type": "stream",
     "text": []
    },
    {
     "name": "stdout",
     "output_type": "stream",
     "text": [
      "0.0,0.0,19469\n",
      "0.0,0.0,19216\n",
      "0.0,0.0,17975\n",
      "0.0,0.0,17975\n",
      "0.0,0.0,19100\n",
      "6.344558954238892,3.172279477119446,19499\n",
      "7.913017272949219,3.9565086364746094,19654\n",
      "8.001168012619019,4.000584006309509,18076\n",
      "26.323753118515015,6.580938279628754,19446\n",
      "27.632400035858154,5.526480007171631,19514\n",
      "27.045690774917603,6.761422693729401,19216\n",
      "38.04237127304077,6.340395212173462,19516\n",
      "45.21272015571594,6.458960022245135,19518\n",
      "77.87744188308716,7.079767443917015,19533\n",
      "79.57730221748352,6.63144185145696,19519\n",
      "88.5549681186676,6.325354865619114,19734\n",
      "107.03598189353943,5.633472731238918,19630\n",
      "127.08777213096619,4.706954523369118,19654\n"
     ]
    },
    {
     "name": "stderr",
     "output_type": "stream",
     "text": []
    },
    {
     "name": "stdout",
     "output_type": "stream",
     "text": [
      "163.05496406555176,3.6234436459011503,19676\n",
      "195.96447205543518,2.8400648123976113,19677\n"
     ]
    },
    {
     "name": "stderr",
     "output_type": "stream",
     "text": [
      "100%|██████████| 5/5 [04:16<00:00, 51.39s/it] \n",
      " 55%|█████▍    | 6/11 [16:23<15:53, 190.60s/it]"
     ]
    },
    {
     "name": "stdout",
     "output_type": "stream",
     "text": [
      "Suitcase(value=19734, weight=19734)\n",
      "Suitcase(value=19677, weight=19677)\n",
      "Suitcase(value=19216, weight=19216)\n",
      "Suitcase(value=19514, weight=19514)\n",
      "Suitcase(value=19654, weight=19654)\n"
     ]
    },
    {
     "name": "stderr",
     "output_type": "stream",
     "text": []
    },
    {
     "name": "stdout",
     "output_type": "stream",
     "text": [
      "0.0,0.0,19676\n",
      "0.0,0.0,19516\n",
      "0.0,0.0,15904\n",
      "0.0,0.0,18076\n",
      "0.0,0.0,18421\n",
      "13.340121984481812,6.670060992240906,19118\n",
      "12.53941011428833,6.269705057144165,19216\n",
      "15.00941801071167,5.00313933690389,18704\n",
      "25.55945587158203,6.389863967895508,19578\n",
      "50.90242385864258,8.483737309773764,19479\n"
     ]
    },
    {
     "name": "stderr",
     "output_type": "stream",
     "text": []
    },
    {
     "name": "stdout",
     "output_type": "stream",
     "text": [
      "57.45212388038635,8.207446268626622,19533\n",
      "68.28808093070984,7.5875645478566485,19414\n",
      "68.43996286392212,7.604440318213569,19887\n",
      "77.81063508987427,7.781063508987427,19775\n",
      "95.82269406318665,6.8444781473704746,19751\n"
     ]
    },
    {
     "name": "stderr",
     "output_type": "stream",
     "text": [
      "100%|██████████| 5/5 [02:37<00:00, 31.43s/it]\n",
      " 64%|██████▎   | 7/11 [19:00<11:58, 179.68s/it]"
     ]
    },
    {
     "name": "stdout",
     "output_type": "stream",
     "text": [
      "Suitcase(value=19676, weight=19676)\n",
      "Suitcase(value=19775, weight=19775)\n",
      "Suitcase(value=19887, weight=19887)\n",
      "Suitcase(value=19751, weight=19751)\n",
      "Suitcase(value=18704, weight=18704)\n"
     ]
    },
    {
     "name": "stderr",
     "output_type": "stream",
     "text": []
    },
    {
     "name": "stdout",
     "output_type": "stream",
     "text": [
      "1.1920928955078125e-06,1.1920928955078125e-06,15904\n",
      "0.0,0.0,15904\n",
      "0.0,0.0,15904\n",
      "0.0,0.0,17350\n",
      "0.0,0.0,18079\n",
      "8.1583731174469,4.07918655872345,16211\n",
      "15.430787086486816,5.1435956954956055,17975\n",
      "17.89919400215149,5.966398000717163,17975\n",
      "19.6253559589386,9.8126779794693,18615\n",
      "20.81579613685608,6.938598712285359,17212\n",
      "25.579560041427612,8.526520013809204,18351\n",
      "32.81044602394104,8.20261150598526,18236\n",
      "39.589776039123535,7.917955207824707,18766\n",
      "55.41067290306091,11.082134580612182,19469\n",
      "60.32576894760132,8.617966992514473,18751\n"
     ]
    },
    {
     "name": "stderr",
     "output_type": "stream",
     "text": [
      "100%|██████████| 5/5 [02:01<00:00, 24.39s/it] \n",
      " 73%|███████▎  | 8/11 [21:02<08:03, 161.31s/it]"
     ]
    },
    {
     "name": "stdout",
     "output_type": "stream",
     "text": [
      "Suitcase(value=18751, weight=18751)\n",
      "Suitcase(value=19469, weight=19469)\n",
      "Suitcase(value=18766, weight=18766)\n",
      "Suitcase(value=18351, weight=18351)\n",
      "Suitcase(value=18236, weight=18236)\n"
     ]
    },
    {
     "name": "stderr",
     "output_type": "stream",
     "text": []
    },
    {
     "name": "stdout",
     "output_type": "stream",
     "text": [
      "0.0,0.0,15904\n",
      "0.0,0.0,16940\n",
      "0.0,0.0,18236\n",
      "0.0,0.0,17446\n",
      "0.0,0.0,18076\n",
      "15.738629817962646,5.246209939320882,16940\n",
      "48.6205997467041,9.724119949340821,17804\n",
      "58.22389197349548,11.644778394699097,18236\n"
     ]
    },
    {
     "name": "stderr",
     "output_type": "stream",
     "text": []
    },
    {
     "name": "stdout",
     "output_type": "stream",
     "text": [
      "92.63854789733887,9.263854789733887,18200\n",
      "141.65728378295898,6.1590123383895214,18426\n",
      "144.10700869560242,6.004458695650101,18685\n",
      "153.49507308006287,5.481966895716531,18975\n"
     ]
    },
    {
     "name": "stderr",
     "output_type": "stream",
     "text": [
      "100%|██████████| 5/5 [03:34<00:00, 42.94s/it]\n",
      " 82%|████████▏ | 9/11 [24:37<05:56, 178.02s/it]"
     ]
    },
    {
     "name": "stdout",
     "output_type": "stream",
     "text": [
      "Suitcase(value=18236, weight=18236)\n",
      "Suitcase(value=18076, weight=18076)\n",
      "Suitcase(value=18975, weight=18975)\n",
      "Suitcase(value=18236, weight=18236)\n",
      "Suitcase(value=17446, weight=17446)\n"
     ]
    },
    {
     "name": "stderr",
     "output_type": "stream",
     "text": []
    },
    {
     "name": "stdout",
     "output_type": "stream",
     "text": [
      "0.0,0.0,15904\n",
      "0.0,0.0,18236\n",
      "0.0,0.0,17191\n",
      "7.781222820281982,3.890611410140991,17246\n",
      "0.0,0.0,18076\n",
      "0.0,0.0,17347\n",
      "41.07286810874939,13.690956036249796,18704\n"
     ]
    },
    {
     "name": "stderr",
     "output_type": "stream",
     "text": []
    },
    {
     "name": "stdout",
     "output_type": "stream",
     "text": [
      "37.867985010147095,9.466996252536774,18346\n",
      "64.4092869758606,12.88185739517212,18616\n"
     ]
    },
    {
     "name": "stderr",
     "output_type": "stream",
     "text": [
      "100%|██████████| 5/5 [02:06<00:00, 25.20s/it]\n",
      " 91%|█████████ | 10/11 [26:43<02:41, 161.97s/it]"
     ]
    },
    {
     "name": "stdout",
     "output_type": "stream",
     "text": [
      "Suitcase(value=17347, weight=17347)\n",
      "Suitcase(value=18704, weight=18704)\n",
      "Suitcase(value=18076, weight=18076)\n",
      "Suitcase(value=18616, weight=18616)\n",
      "Suitcase(value=18236, weight=18236)\n"
     ]
    },
    {
     "name": "stderr",
     "output_type": "stream",
     "text": []
    },
    {
     "name": "stdout",
     "output_type": "stream",
     "text": [
      "0.0,0.0,15904\n",
      "0.0,0.0,15904\n",
      "0.0,0.0,13879\n",
      "0.0,0.0,14140\n",
      "51.678648233413696,25.839324116706848,17775\n"
     ]
    },
    {
     "name": "stderr",
     "output_type": "stream",
     "text": []
    },
    {
     "name": "stdout",
     "output_type": "stream",
     "text": [
      "0.0,0.0,15375\n",
      "39.78105068206787,19.890525341033936,17463\n",
      "83.75407981872559,27.918026606241863,17804\n",
      "108.86353468894958,21.772706937789916,18235\n"
     ]
    },
    {
     "name": "stderr",
     "output_type": "stream",
     "text": [
      "100%|██████████| 5/5 [02:49<00:00, 33.81s/it]\n",
      "100%|██████████| 11/11 [29:32<00:00, 161.13s/it]"
     ]
    },
    {
     "name": "stdout",
     "output_type": "stream",
     "text": [
      "Suitcase(value=15375, weight=15375)\n",
      "Suitcase(value=15904, weight=15904)\n",
      "Suitcase(value=18235, weight=18235)\n",
      "Suitcase(value=17775, weight=17775)\n",
      "Suitcase(value=14140, weight=14140)\n"
     ]
    },
    {
     "name": "stderr",
     "output_type": "stream",
     "text": [
      "\n"
     ]
    }
   ],
   "source": [
    "for alpha in tqdm([0.0, 0.1, 0.2, 0.3, 0.4, 0.5, 0.6, 0.7, 0.8, 0.9, 1.0]):\n",
    "    def grasp(instance):\n",
    "        return grasp_search(instance, qs[\"side\"], alpha=alpha)\n",
    "\n",
    "    # Convert to process_map for parallelism\n",
    "    def run(_: int):\n",
    "        return runner(\n",
    "            grasp,\n",
    "            instances[\"bin_packing-100-1\"],\n",
    "            max_time=5 * 60,\n",
    "            max_time_since_improvement=60,\n",
    "        )\n",
    "\n",
    "    runs = thread_map(run, range(5))\n",
    "\n",
    "    for tune, (result, iters) in enumerate(runs):\n",
    "        print(result)\n",
    "        results.append((\"bin_packing-100-1\", alpha, tune, result.value, result.weight))\n",
    "\n"
   ]
  },
  {
   "cell_type": "code",
   "execution_count": 6,
   "metadata": {},
   "outputs": [
    {
     "name": "stderr",
     "output_type": "stream",
     "text": [
      "  0%|          | 0/11 [00:00<?, ?it/s]"
     ]
    },
    {
     "name": "stdout",
     "output_type": "stream",
     "text": [
      "0.0,0.0,10748\n",
      "0.0,0.0,10746\n",
      "0.0,0.0,10743\n",
      "0.0,0.0,10743\n",
      "0.0,0.0,10743\n",
      "37.42559623718262,18.71279811859131,10762\n",
      "44.47116684913635,22.235583424568176,10754\n"
     ]
    },
    {
     "name": "stderr",
     "output_type": "stream",
     "text": [
      "100%|██████████| 5/5 [01:46<00:00, 21.27s/it]\n",
      "  9%|▉         | 1/11 [01:46<17:43, 106.39s/it]"
     ]
    },
    {
     "name": "stdout",
     "output_type": "stream",
     "text": [
      "Suitcase(value=10743, weight=9384)\n",
      "Suitcase(value=10743, weight=9384)\n",
      "Suitcase(value=10754, weight=9623)\n",
      "Suitcase(value=10762, weight=9504)\n",
      "Suitcase(value=10743, weight=9384)\n"
     ]
    },
    {
     "name": "stderr",
     "output_type": "stream",
     "text": []
    },
    {
     "name": "stdout",
     "output_type": "stream",
     "text": [
      "0.0,0.0,10762\n",
      "0.0,0.0,10752\n",
      "0.0,0.0,10762\n",
      "0.0,0.0,10741\n",
      "0.0,0.0,10723\n",
      "52.6781861782074,26.3390930891037,10754\n"
     ]
    },
    {
     "name": "stderr",
     "output_type": "stream",
     "text": [
      "100%|██████████| 5/5 [01:54<00:00, 22.84s/it]\n",
      " 18%|█▊        | 2/11 [03:40<16:38, 111.00s/it]"
     ]
    },
    {
     "name": "stdout",
     "output_type": "stream",
     "text": [
      "Suitcase(value=10752, weight=9380)\n",
      "Suitcase(value=10754, weight=9623)\n",
      "Suitcase(value=10723, weight=9325)\n",
      "Suitcase(value=10762, weight=9504)\n",
      "Suitcase(value=10762, weight=9504)\n"
     ]
    },
    {
     "name": "stderr",
     "output_type": "stream",
     "text": []
    },
    {
     "name": "stdout",
     "output_type": "stream",
     "text": [
      "0.0,0.0,10754\n",
      "0.0,0.0,10743\n",
      "0.0,0.0,10746\n",
      "0.0,0.0,10683\n",
      "0.0,0.0,10705\n",
      "55.11867117881775,27.559335589408875,10733\n",
      "52.650514125823975,26.325257062911987,10748\n"
     ]
    },
    {
     "name": "stderr",
     "output_type": "stream",
     "text": [
      "100%|██████████| 5/5 [02:42<00:00, 32.40s/it]\n",
      " 27%|██▋       | 3/11 [06:22<17:54, 134.31s/it]"
     ]
    },
    {
     "name": "stdout",
     "output_type": "stream",
     "text": [
      "Suitcase(value=10733, weight=9579)\n",
      "Suitcase(value=10743, weight=9384)\n",
      "Suitcase(value=10705, weight=9343)\n",
      "Suitcase(value=10748, weight=9534)\n",
      "Suitcase(value=10754, weight=9623)\n"
     ]
    },
    {
     "name": "stderr",
     "output_type": "stream",
     "text": []
    },
    {
     "name": "stdout",
     "output_type": "stream",
     "text": [
      "9.5367431640625e-07,9.5367431640625e-07,10754\n",
      "0.0,0.0,10748\n",
      "9.5367431640625e-07,9.5367431640625e-07,10754\n",
      "0.0,0.0,10747\n"
     ]
    },
    {
     "name": "stderr",
     "output_type": "stream",
     "text": [
      "100%|██████████| 5/5 [02:05<00:00, 25.18s/it]\n",
      " 36%|███▋      | 4/11 [08:28<15:16, 131.00s/it]"
     ]
    },
    {
     "name": "stdout",
     "output_type": "stream",
     "text": [
      "0.0,0.0,10758\n",
      "Suitcase(value=10754, weight=9623)\n",
      "Suitcase(value=10754, weight=9623)\n",
      "Suitcase(value=10748, weight=9534)\n",
      "Suitcase(value=10747, weight=9403)\n",
      "Suitcase(value=10758, weight=9486)\n"
     ]
    },
    {
     "name": "stderr",
     "output_type": "stream",
     "text": []
    },
    {
     "name": "stdout",
     "output_type": "stream",
     "text": [
      "0.0,0.0,10748\n",
      "0.0,0.0,10750\n",
      "0.0,0.0,10732\n",
      "0.0,0.0,10723\n"
     ]
    },
    {
     "name": "stderr",
     "output_type": "stream",
     "text": [
      "100%|██████████| 5/5 [02:33<00:00, 30.75s/it]\n",
      " 45%|████▌     | 5/11 [11:02<13:55, 139.22s/it]"
     ]
    },
    {
     "name": "stdout",
     "output_type": "stream",
     "text": [
      "0.0,0.0,10703\n",
      "Suitcase(value=10748, weight=9534)\n",
      "Suitcase(value=10703, weight=9326)\n",
      "Suitcase(value=10723, weight=9293)\n",
      "Suitcase(value=10750, weight=9465)\n",
      "Suitcase(value=10732, weight=9476)\n"
     ]
    },
    {
     "name": "stderr",
     "output_type": "stream",
     "text": []
    },
    {
     "name": "stdout",
     "output_type": "stream",
     "text": [
      "1.1920928955078125e-06,1.1920928955078125e-06,10754\n",
      "7.152557373046875e-07,7.152557373046875e-07,10748\n",
      "0.0,0.0,10750\n",
      "0.0,0.0,10735\n",
      "0.0,0.0,10725\n",
      "53.171030044555664,26.585515022277832,10754\n"
     ]
    },
    {
     "name": "stderr",
     "output_type": "stream",
     "text": [
      "100%|██████████| 5/5 [01:57<00:00, 23.47s/it]\n",
      " 55%|█████▍    | 6/11 [12:59<10:59, 131.81s/it]"
     ]
    },
    {
     "name": "stdout",
     "output_type": "stream",
     "text": [
      "Suitcase(value=10754, weight=9623)\n",
      "Suitcase(value=10748, weight=9534)\n",
      "Suitcase(value=10750, weight=9465)\n",
      "Suitcase(value=10725, weight=9434)\n",
      "Suitcase(value=10754, weight=9623)\n"
     ]
    },
    {
     "name": "stderr",
     "output_type": "stream",
     "text": []
    },
    {
     "name": "stdout",
     "output_type": "stream",
     "text": [
      "0.0,0.0,10754\n",
      "9.5367431640625e-07,9.5367431640625e-07,10754\n",
      "0.0,0.0,10721\n",
      "0.0,0.0,10754\n",
      "0.0,0.0,10750\n",
      "48.74186706542969,24.370933532714844,10754\n"
     ]
    },
    {
     "name": "stderr",
     "output_type": "stream",
     "text": []
    },
    {
     "name": "stdout",
     "output_type": "stream",
     "text": [
      "41.50413393974304,20.75206696987152,10733\n"
     ]
    },
    {
     "name": "stderr",
     "output_type": "stream",
     "text": [
      "100%|██████████| 5/5 [02:07<00:00, 25.43s/it]\n",
      " 64%|██████▎   | 7/11 [15:07<08:41, 130.42s/it]"
     ]
    },
    {
     "name": "stdout",
     "output_type": "stream",
     "text": [
      "Suitcase(value=10754, weight=9623)\n",
      "Suitcase(value=10754, weight=9623)\n",
      "Suitcase(value=10733, weight=9579)\n",
      "Suitcase(value=10754, weight=9623)\n",
      "Suitcase(value=10754, weight=9623)\n"
     ]
    },
    {
     "name": "stderr",
     "output_type": "stream",
     "text": []
    },
    {
     "name": "stdout",
     "output_type": "stream",
     "text": [
      "0.0,0.0,10754\n",
      "1.1920928955078125e-06,1.1920928955078125e-06,10750\n",
      "9.5367431640625e-07,9.5367431640625e-07,10746\n",
      "9.5367431640625e-07,9.5367431640625e-07,10750\n",
      "0.0,0.0,10741\n"
     ]
    },
    {
     "name": "stderr",
     "output_type": "stream",
     "text": [
      "100%|██████████| 5/5 [01:45<00:00, 21.19s/it] \n",
      " 73%|███████▎  | 8/11 [16:53<06:07, 122.67s/it]"
     ]
    },
    {
     "name": "stdout",
     "output_type": "stream",
     "text": [
      "Suitcase(value=10754, weight=9623)\n",
      "Suitcase(value=10750, weight=9465)\n",
      "Suitcase(value=10750, weight=9465)\n",
      "Suitcase(value=10741, weight=9492)\n",
      "Suitcase(value=10746, weight=9446)\n"
     ]
    },
    {
     "name": "stderr",
     "output_type": "stream",
     "text": []
    },
    {
     "name": "stdout",
     "output_type": "stream",
     "text": [
      "0.0,0.0,10754\n",
      "0.0,0.0,10733\n",
      "0.0,0.0,10721\n",
      "9.5367431640625e-07,9.5367431640625e-07,10753\n",
      "0.0,0.0,10705\n",
      "46.260333776474,23.130166888237,10762\n",
      "39.28759980201721,19.643799901008606,10726\n"
     ]
    },
    {
     "name": "stderr",
     "output_type": "stream",
     "text": [
      "100%|██████████| 5/5 [01:46<00:00, 21.34s/it] \n",
      " 82%|████████▏ | 9/11 [18:40<03:55, 117.71s/it]"
     ]
    },
    {
     "name": "stdout",
     "output_type": "stream",
     "text": [
      "Suitcase(value=10762, weight=9504)\n",
      "Suitcase(value=10754, weight=9623)\n",
      "Suitcase(value=10726, weight=9355)\n",
      "Suitcase(value=10733, weight=9579)\n",
      "Suitcase(value=10705, weight=9343)\n"
     ]
    },
    {
     "name": "stderr",
     "output_type": "stream",
     "text": []
    },
    {
     "name": "stdout",
     "output_type": "stream",
     "text": [
      "0.0,0.0,10721\n",
      "9.5367431640625e-07,9.5367431640625e-07,10750\n",
      "0.0,0.0,10721\n",
      "26.638372659683228,13.319186329841614,10754\n",
      "0.0,0.0,10721\n",
      "36.81962323188782,18.40981161594391,10754\n",
      "0.0,0.0,10750\n"
     ]
    },
    {
     "name": "stderr",
     "output_type": "stream",
     "text": []
    },
    {
     "name": "stdout",
     "output_type": "stream",
     "text": [
      "44.81417798995972,22.40708899497986,10750\n"
     ]
    },
    {
     "name": "stderr",
     "output_type": "stream",
     "text": [
      "100%|██████████| 5/5 [01:46<00:00, 21.23s/it]\n",
      " 91%|█████████ | 10/11 [20:26<01:54, 114.19s/it]"
     ]
    },
    {
     "name": "stdout",
     "output_type": "stream",
     "text": [
      "Suitcase(value=10754, weight=9623)\n",
      "Suitcase(value=10754, weight=9623)\n",
      "Suitcase(value=10750, weight=9599)\n",
      "Suitcase(value=10721, weight=9540)\n",
      "Suitcase(value=10750, weight=9599)\n"
     ]
    },
    {
     "name": "stderr",
     "output_type": "stream",
     "text": []
    },
    {
     "name": "stdout",
     "output_type": "stream",
     "text": [
      "0.0,0.0,10735\n",
      "9.489059448242188e-05,9.489059448242188e-05,10750\n",
      "0.0,0.0,10721\n",
      "0.0,0.0,10733\n",
      "42.42109394073486,21.21054697036743,10736\n",
      "59.02079796791077,29.510398983955383,10754\n",
      "54.38646697998047,27.193233489990234,10754\n",
      "75.52037501335144,25.173458337783813,10754\n"
     ]
    },
    {
     "name": "stderr",
     "output_type": "stream",
     "text": []
    },
    {
     "name": "stdout",
     "output_type": "stream",
     "text": [
      "1.1920928955078125e-06,1.1920928955078125e-06,10729\n"
     ]
    },
    {
     "name": "stderr",
     "output_type": "stream",
     "text": [
      "100%|██████████| 5/5 [02:19<00:00, 27.84s/it]\n",
      "100%|██████████| 11/11 [22:45<00:00, 124.18s/it]"
     ]
    },
    {
     "name": "stdout",
     "output_type": "stream",
     "text": [
      "Suitcase(value=10754, weight=9623)\n",
      "Suitcase(value=10729, weight=9421)\n",
      "Suitcase(value=10733, weight=9579)\n",
      "Suitcase(value=10754, weight=9623)\n",
      "Suitcase(value=10754, weight=9623)\n"
     ]
    },
    {
     "name": "stderr",
     "output_type": "stream",
     "text": [
      "\n"
     ]
    }
   ],
   "source": [
    "for alpha in tqdm([0.0, 0.1, 0.2, 0.3, 0.4, 0.5, 0.6, 0.7, 0.8, 0.9, 1.0]):\n",
    "    def grasp(instance):\n",
    "        return grasp_search(instance, qs[\"price\"], alpha=alpha)\n",
    "\n",
    "    # Convert to process_map for parallelism\n",
    "    def run(_: int):\n",
    "        return runner(\n",
    "            grasp,\n",
    "            instances[\"mix-100-1\"],\n",
    "            max_time=5 * 60,\n",
    "            max_time_since_improvement=60,\n",
    "        )\n",
    "\n",
    "    runs = thread_map(run, range(5))\n",
    "\n",
    "    for tune, (result, iters) in enumerate(runs):\n",
    "        print(result)\n",
    "        results.append((\"mix-100-1\", alpha, tune, result.value, result.weight))\n"
   ]
  },
  {
   "cell_type": "code",
   "execution_count": 7,
   "metadata": {},
   "outputs": [],
   "source": [
    "import pandas as pd\n",
    "\n",
    "df = pd.DataFrame(results, columns=[\"instance\", \"alpha\", \"tune\", \"value\", \"weight\"])\n",
    "\n",
    "# Save results\n",
    "#df.to_csv(\"tuning.csv\", index=False)"
   ]
  },
  {
   "cell_type": "code",
   "execution_count": 12,
   "metadata": {},
   "outputs": [
    {
     "data": {
      "text/html": [
       "<div>\n",
       "<style scoped>\n",
       "    .dataframe tbody tr th:only-of-type {\n",
       "        vertical-align: middle;\n",
       "    }\n",
       "\n",
       "    .dataframe tbody tr th {\n",
       "        vertical-align: top;\n",
       "    }\n",
       "\n",
       "    .dataframe thead th {\n",
       "        text-align: right;\n",
       "    }\n",
       "</style>\n",
       "<table border=\"1\" class=\"dataframe\">\n",
       "  <thead>\n",
       "    <tr style=\"text-align: right;\">\n",
       "      <th></th>\n",
       "      <th>instance</th>\n",
       "      <th>alpha</th>\n",
       "      <th>value</th>\n",
       "    </tr>\n",
       "  </thead>\n",
       "  <tbody>\n",
       "    <tr>\n",
       "      <th>0</th>\n",
       "      <td>bin_packing-100-1</td>\n",
       "      <td>0.0</td>\n",
       "      <td>19676.0</td>\n",
       "    </tr>\n",
       "    <tr>\n",
       "      <th>1</th>\n",
       "      <td>bin_packing-100-1</td>\n",
       "      <td>0.1</td>\n",
       "      <td>19755.2</td>\n",
       "    </tr>\n",
       "    <tr>\n",
       "      <th>2</th>\n",
       "      <td>bin_packing-100-1</td>\n",
       "      <td>0.2</td>\n",
       "      <td>19946.2</td>\n",
       "    </tr>\n",
       "    <tr>\n",
       "      <th>3</th>\n",
       "      <td>bin_packing-100-1</td>\n",
       "      <td>0.3</td>\n",
       "      <td>19863.6</td>\n",
       "    </tr>\n",
       "    <tr>\n",
       "      <th>4</th>\n",
       "      <td>bin_packing-100-1</td>\n",
       "      <td>0.4</td>\n",
       "      <td>19794.2</td>\n",
       "    </tr>\n",
       "    <tr>\n",
       "      <th>5</th>\n",
       "      <td>bin_packing-100-1</td>\n",
       "      <td>0.5</td>\n",
       "      <td>19559.0</td>\n",
       "    </tr>\n",
       "    <tr>\n",
       "      <th>6</th>\n",
       "      <td>bin_packing-100-1</td>\n",
       "      <td>0.6</td>\n",
       "      <td>19558.6</td>\n",
       "    </tr>\n",
       "    <tr>\n",
       "      <th>7</th>\n",
       "      <td>bin_packing-100-1</td>\n",
       "      <td>0.7</td>\n",
       "      <td>18714.6</td>\n",
       "    </tr>\n",
       "    <tr>\n",
       "      <th>8</th>\n",
       "      <td>bin_packing-100-1</td>\n",
       "      <td>0.8</td>\n",
       "      <td>18193.8</td>\n",
       "    </tr>\n",
       "    <tr>\n",
       "      <th>9</th>\n",
       "      <td>bin_packing-100-1</td>\n",
       "      <td>0.9</td>\n",
       "      <td>18195.8</td>\n",
       "    </tr>\n",
       "    <tr>\n",
       "      <th>10</th>\n",
       "      <td>bin_packing-100-1</td>\n",
       "      <td>1.0</td>\n",
       "      <td>16285.8</td>\n",
       "    </tr>\n",
       "    <tr>\n",
       "      <th>11</th>\n",
       "      <td>knapsack-100-1</td>\n",
       "      <td>0.0</td>\n",
       "      <td>4149.0</td>\n",
       "    </tr>\n",
       "    <tr>\n",
       "      <th>12</th>\n",
       "      <td>knapsack-100-1</td>\n",
       "      <td>0.1</td>\n",
       "      <td>4149.0</td>\n",
       "    </tr>\n",
       "    <tr>\n",
       "      <th>13</th>\n",
       "      <td>knapsack-100-1</td>\n",
       "      <td>0.2</td>\n",
       "      <td>4149.0</td>\n",
       "    </tr>\n",
       "    <tr>\n",
       "      <th>14</th>\n",
       "      <td>knapsack-100-1</td>\n",
       "      <td>0.3</td>\n",
       "      <td>4149.0</td>\n",
       "    </tr>\n",
       "    <tr>\n",
       "      <th>15</th>\n",
       "      <td>knapsack-100-1</td>\n",
       "      <td>0.4</td>\n",
       "      <td>4149.0</td>\n",
       "    </tr>\n",
       "    <tr>\n",
       "      <th>16</th>\n",
       "      <td>knapsack-100-1</td>\n",
       "      <td>0.5</td>\n",
       "      <td>4149.0</td>\n",
       "    </tr>\n",
       "    <tr>\n",
       "      <th>17</th>\n",
       "      <td>knapsack-100-1</td>\n",
       "      <td>0.6</td>\n",
       "      <td>4149.0</td>\n",
       "    </tr>\n",
       "    <tr>\n",
       "      <th>18</th>\n",
       "      <td>knapsack-100-1</td>\n",
       "      <td>0.7</td>\n",
       "      <td>4149.0</td>\n",
       "    </tr>\n",
       "    <tr>\n",
       "      <th>19</th>\n",
       "      <td>knapsack-100-1</td>\n",
       "      <td>0.8</td>\n",
       "      <td>4149.0</td>\n",
       "    </tr>\n",
       "    <tr>\n",
       "      <th>20</th>\n",
       "      <td>knapsack-100-1</td>\n",
       "      <td>0.9</td>\n",
       "      <td>4147.4</td>\n",
       "    </tr>\n",
       "    <tr>\n",
       "      <th>21</th>\n",
       "      <td>knapsack-100-1</td>\n",
       "      <td>1.0</td>\n",
       "      <td>4137.2</td>\n",
       "    </tr>\n",
       "    <tr>\n",
       "      <th>22</th>\n",
       "      <td>mix-100-1</td>\n",
       "      <td>0.0</td>\n",
       "      <td>10749.0</td>\n",
       "    </tr>\n",
       "    <tr>\n",
       "      <th>23</th>\n",
       "      <td>mix-100-1</td>\n",
       "      <td>0.1</td>\n",
       "      <td>10750.6</td>\n",
       "    </tr>\n",
       "    <tr>\n",
       "      <th>24</th>\n",
       "      <td>mix-100-1</td>\n",
       "      <td>0.2</td>\n",
       "      <td>10736.6</td>\n",
       "    </tr>\n",
       "    <tr>\n",
       "      <th>25</th>\n",
       "      <td>mix-100-1</td>\n",
       "      <td>0.3</td>\n",
       "      <td>10752.2</td>\n",
       "    </tr>\n",
       "    <tr>\n",
       "      <th>26</th>\n",
       "      <td>mix-100-1</td>\n",
       "      <td>0.4</td>\n",
       "      <td>10731.2</td>\n",
       "    </tr>\n",
       "    <tr>\n",
       "      <th>27</th>\n",
       "      <td>mix-100-1</td>\n",
       "      <td>0.5</td>\n",
       "      <td>10746.2</td>\n",
       "    </tr>\n",
       "    <tr>\n",
       "      <th>28</th>\n",
       "      <td>mix-100-1</td>\n",
       "      <td>0.6</td>\n",
       "      <td>10749.8</td>\n",
       "    </tr>\n",
       "    <tr>\n",
       "      <th>29</th>\n",
       "      <td>mix-100-1</td>\n",
       "      <td>0.7</td>\n",
       "      <td>10748.2</td>\n",
       "    </tr>\n",
       "    <tr>\n",
       "      <th>30</th>\n",
       "      <td>mix-100-1</td>\n",
       "      <td>0.8</td>\n",
       "      <td>10736.0</td>\n",
       "    </tr>\n",
       "    <tr>\n",
       "      <th>31</th>\n",
       "      <td>mix-100-1</td>\n",
       "      <td>0.9</td>\n",
       "      <td>10745.8</td>\n",
       "    </tr>\n",
       "    <tr>\n",
       "      <th>32</th>\n",
       "      <td>mix-100-1</td>\n",
       "      <td>1.0</td>\n",
       "      <td>10744.8</td>\n",
       "    </tr>\n",
       "  </tbody>\n",
       "</table>\n",
       "</div>"
      ],
      "text/plain": [
       "             instance  alpha    value\n",
       "0   bin_packing-100-1    0.0  19676.0\n",
       "1   bin_packing-100-1    0.1  19755.2\n",
       "2   bin_packing-100-1    0.2  19946.2\n",
       "3   bin_packing-100-1    0.3  19863.6\n",
       "4   bin_packing-100-1    0.4  19794.2\n",
       "5   bin_packing-100-1    0.5  19559.0\n",
       "6   bin_packing-100-1    0.6  19558.6\n",
       "7   bin_packing-100-1    0.7  18714.6\n",
       "8   bin_packing-100-1    0.8  18193.8\n",
       "9   bin_packing-100-1    0.9  18195.8\n",
       "10  bin_packing-100-1    1.0  16285.8\n",
       "11     knapsack-100-1    0.0   4149.0\n",
       "12     knapsack-100-1    0.1   4149.0\n",
       "13     knapsack-100-1    0.2   4149.0\n",
       "14     knapsack-100-1    0.3   4149.0\n",
       "15     knapsack-100-1    0.4   4149.0\n",
       "16     knapsack-100-1    0.5   4149.0\n",
       "17     knapsack-100-1    0.6   4149.0\n",
       "18     knapsack-100-1    0.7   4149.0\n",
       "19     knapsack-100-1    0.8   4149.0\n",
       "20     knapsack-100-1    0.9   4147.4\n",
       "21     knapsack-100-1    1.0   4137.2\n",
       "22          mix-100-1    0.0  10749.0\n",
       "23          mix-100-1    0.1  10750.6\n",
       "24          mix-100-1    0.2  10736.6\n",
       "25          mix-100-1    0.3  10752.2\n",
       "26          mix-100-1    0.4  10731.2\n",
       "27          mix-100-1    0.5  10746.2\n",
       "28          mix-100-1    0.6  10749.8\n",
       "29          mix-100-1    0.7  10748.2\n",
       "30          mix-100-1    0.8  10736.0\n",
       "31          mix-100-1    0.9  10745.8\n",
       "32          mix-100-1    1.0  10744.8"
      ]
     },
     "execution_count": 12,
     "metadata": {},
     "output_type": "execute_result"
    }
   ],
   "source": [
    "import seaborn as sns\n",
    "\n",
    "df = pd.read_csv(\"tuning.csv\")\n",
    "\n",
    "\n",
    "mean_objective_by_instance_alpha = df.groupby([\"instance\", \"alpha\"])[\"value\"].mean().reset_index()\n",
    "mean_objective_by_instance_alpha"
   ]
  },
  {
   "cell_type": "code",
   "execution_count": 14,
   "metadata": {},
   "outputs": [
    {
     "data": {
      "text/plain": [
       "<seaborn.axisgrid.FacetGrid at 0x147e22540>"
      ]
     },
     "execution_count": 14,
     "metadata": {},
     "output_type": "execute_result"
    },
    {
     "data": {
      "image/png": "[encoded data removed]",
      "text/plain": [
       "<Figure size 900x300 with 3 Axes>"
      ]
     },
     "metadata": {},
     "output_type": "display_data"
    }
   ],
   "source": [
    "# FacetGrid with mean objective value by instance and alpha\n",
    "g = sns.FacetGrid(mean_objective_by_instance_alpha, col=\"instance\", col_wrap=3, sharey=False)\n",
    "g.map(sns.lineplot, \"alpha\", \"value\")\n",
    "g.set_axis_labels(\"Alpha\", \"Objective value\")\n"
   ]
  },
  {
   "cell_type": "code",
   "execution_count": null,
   "metadata": {},
   "outputs": [],
   "source": []
  }
 ],
 "metadata": {
  "kernelspec": {
   "display_name": ".venv",
   "language": "python",
   "name": "python3"
  },
  "language_info": {
   "codemirror_mode": {
    "name": "ipython",
    "version": 3
   },
   "file_extension": ".py",
   "mimetype": "text/x-python",
   "name": "python",
   "nbconvert_exporter": "python",
   "pygments_lexer": "ipython3",
   "version": "3.12.2"
  }
 },
 "nbformat": 4,
 "nbformat_minor": 2
}
