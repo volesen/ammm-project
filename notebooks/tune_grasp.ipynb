{
 "cells": [
  {
   "cell_type": "code",
   "execution_count": 1,
   "metadata": {},
   "outputs": [
    {
     "name": "stderr",
     "output_type": "stream",
     "text": [
      "/Users/vol/UPC/ammm/ammm-project/.venv/lib/python3.12/site-packages/tqdm/auto.py:21: TqdmWarning: IProgress not found. Please update jupyter and ipywidgets. See https://ipywidgets.readthedocs.io/en/stable/user_install.html\n",
      "  from .autonotebook import tqdm as notebook_tqdm\n"
     ]
    }
   ],
   "source": [
    "import os\n",
    "\n",
    "from ammm_project.grasp import grasp_search\n",
    "from ammm_project.greedy_functions import qs\n",
    "from ammm_project.parsers.dat import parse\n",
    "from ammm_project.problem import Problem\n",
    "from ammm_project.runner import run as runner\n",
    "from tqdm import tqdm\n",
    "from tqdm.contrib.concurrent import thread_map"
   ]
  },
  {
   "cell_type": "code",
   "execution_count": 2,
   "metadata": {},
   "outputs": [
    {
     "data": {
      "text/plain": [
       "{'knapsack-100-1': Problem(width=1, height=100, max_weight=2908, squares=[Square(id=0, side=1, price=100, weight=38), Square(id=1, side=1, price=44, weight=91), Square(id=2, side=1, price=66, weight=64), Square(id=3, side=1, price=12, weight=50), Square(id=4, side=1, price=58, weight=88), Square(id=5, side=1, price=89, weight=98), Square(id=6, side=1, price=76, weight=43), Square(id=7, side=1, price=67, weight=23), Square(id=8, side=1, price=1, weight=14), Square(id=9, side=1, price=5, weight=69), Square(id=10, side=1, price=60, weight=67), Square(id=11, side=1, price=19, weight=3), Square(id=12, side=1, price=85, weight=55), Square(id=13, side=1, price=53, weight=85), Square(id=14, side=1, price=16, weight=71), Square(id=15, side=1, price=41, weight=99), Square(id=16, side=1, price=56, weight=1), Square(id=17, side=1, price=50, weight=79), Square(id=18, side=1, price=18, weight=81), Square(id=19, side=1, price=48, weight=20), Square(id=20, side=1, price=94, weight=63), Square(id=21, side=1, price=58, weight=8), Square(id=22, side=1, price=53, weight=4), Square(id=23, side=1, price=86, weight=55), Square(id=24, side=1, price=50, weight=5), Square(id=25, side=1, price=11, weight=25), Square(id=26, side=1, price=25, weight=40), Square(id=27, side=1, price=36, weight=71), Square(id=28, side=1, price=29, weight=59), Square(id=29, side=1, price=8, weight=77), Square(id=30, side=1, price=67, weight=33), Square(id=31, side=1, price=87, weight=42), Square(id=32, side=1, price=21, weight=61), Square(id=33, side=1, price=60, weight=65), Square(id=34, side=1, price=46, weight=42), Square(id=35, side=1, price=8, weight=79), Square(id=36, side=1, price=100, weight=74), Square(id=37, side=1, price=5, weight=91), Square(id=38, side=1, price=40, weight=43), Square(id=39, side=1, price=58, weight=16), Square(id=40, side=1, price=70, weight=29), Square(id=41, side=1, price=45, weight=1), Square(id=42, side=1, price=74, weight=94), Square(id=43, side=1, price=85, weight=85), Square(id=44, side=1, price=21, weight=83), Square(id=45, side=1, price=20, weight=18), Square(id=46, side=1, price=69, weight=31), Square(id=47, side=1, price=9, weight=65), Square(id=48, side=1, price=37, weight=12), Square(id=49, side=1, price=7, weight=93), Square(id=50, side=1, price=65, weight=68), Square(id=51, side=1, price=29, weight=3), Square(id=52, side=1, price=23, weight=72), Square(id=53, side=1, price=85, weight=37), Square(id=54, side=1, price=62, weight=42), Square(id=55, side=1, price=12, weight=25), Square(id=56, side=1, price=52, weight=81), Square(id=57, side=1, price=98, weight=43), Square(id=58, side=1, price=53, weight=81), Square(id=59, side=1, price=65, weight=86), Square(id=60, side=1, price=81, weight=61), Square(id=61, side=1, price=78, weight=100), Square(id=62, side=1, price=61, weight=39), Square(id=63, side=1, price=21, weight=51), Square(id=64, side=1, price=14, weight=57), Square(id=65, side=1, price=97, weight=73), Square(id=66, side=1, price=12, weight=62), Square(id=67, side=1, price=33, weight=44), Square(id=68, side=1, price=20, weight=94), Square(id=69, side=1, price=97, weight=72), Square(id=70, side=1, price=100, weight=26), Square(id=71, side=1, price=2, weight=1), Square(id=72, side=1, price=80, weight=49), Square(id=73, side=1, price=80, weight=11), Square(id=74, side=1, price=13, weight=98), Square(id=75, side=1, price=98, weight=65), Square(id=76, side=1, price=67, weight=100), Square(id=77, side=1, price=55, weight=47), Square(id=78, side=1, price=60, weight=40), Square(id=79, side=1, price=31, weight=60), Square(id=80, side=1, price=27, weight=99), Square(id=81, side=1, price=1, weight=55), Square(id=82, side=1, price=93, weight=33), Square(id=83, side=1, price=52, weight=60), Square(id=84, side=1, price=99, weight=96), Square(id=85, side=1, price=18, weight=87), Square(id=86, side=1, price=41, weight=98), Square(id=87, side=1, price=89, weight=95), Square(id=88, side=1, price=22, weight=91), Square(id=89, side=1, price=20, weight=25), Square(id=90, side=1, price=80, weight=30), Square(id=91, side=1, price=48, weight=21), Square(id=92, side=1, price=32, weight=65), Square(id=93, side=1, price=68, weight=2), Square(id=94, side=1, price=49, weight=63), Square(id=95, side=1, price=2, weight=31), Square(id=96, side=1, price=26, weight=61), Square(id=97, side=1, price=87, weight=32), Square(id=98, side=1, price=43, weight=60), Square(id=99, side=1, price=21, weight=60)]),\n",
       " 'mix-100-1': Problem(width=100, height=200, max_weight=19800, squares=[Square(id=0, side=53, price=33, weight=83), Square(id=1, side=32, price=26, weight=79), Square(id=2, side=21, price=22, weight=54), Square(id=3, side=11, price=78, weight=73), Square(id=4, side=10, price=31, weight=7), Square(id=5, side=1, price=14, weight=19), Square(id=6, side=1, price=3, weight=60), Square(id=7, side=1, price=70, weight=78), Square(id=8, side=1, price=72, weight=56), Square(id=9, side=1, price=28, weight=63), Square(id=10, side=1, price=54, weight=17), Square(id=11, side=1, price=99, weight=99), Square(id=12, side=1, price=84, weight=88), Square(id=13, side=1, price=80, weight=100), Square(id=14, side=1, price=51, weight=45), Square(id=15, side=37, price=97, weight=46), Square(id=16, side=37, price=21, weight=44), Square(id=17, side=17, price=94, weight=42), Square(id=18, side=17, price=3, weight=62), Square(id=19, side=3, price=97, weight=9), Square(id=20, side=3, price=63, weight=20), Square(id=21, side=3, price=74, weight=43), Square(id=22, side=3, price=69, weight=43), Square(id=23, side=3, price=74, weight=48), Square(id=24, side=2, price=74, weight=6), Square(id=25, side=1, price=68, weight=82), Square(id=26, side=1, price=85, weight=54), Square(id=27, side=24, price=20, weight=91), Square(id=28, side=1, price=50, weight=30), Square(id=29, side=1, price=10, weight=30), Square(id=30, side=1, price=96, weight=59), Square(id=31, side=1, price=54, weight=30), Square(id=32, side=1, price=97, weight=77), Square(id=33, side=1, price=5, weight=18), Square(id=34, side=1, price=85, weight=75), Square(id=35, side=1, price=85, weight=61), Square(id=36, side=1, price=73, weight=6), Square(id=37, side=1, price=87, weight=25), Square(id=38, side=1, price=51, weight=6), Square(id=39, side=1, price=33, weight=60), Square(id=40, side=1, price=61, weight=14), Square(id=41, side=1, price=25, weight=15), Square(id=42, side=1, price=64, weight=10), Square(id=43, side=1, price=99, weight=9), Square(id=44, side=1, price=78, weight=26), Square(id=45, side=1, price=29, weight=22), Square(id=46, side=1, price=53, weight=88), Square(id=47, side=1, price=91, weight=97), Square(id=48, side=1, price=85, weight=25), Square(id=49, side=1, price=97, weight=74), Square(id=50, side=1, price=48, weight=35), Square(id=51, side=1, price=19, weight=64), Square(id=52, side=25, price=6, weight=89), Square(id=53, side=25, price=16, weight=58), Square(id=54, side=17, price=7, weight=62), Square(id=55, side=8, price=38, weight=11), Square(id=56, side=8, price=87, weight=8), Square(id=57, side=1, price=26, weight=35), Square(id=58, side=1, price=66, weight=35), Square(id=59, side=1, price=68, weight=24), Square(id=60, side=1, price=57, weight=99), Square(id=61, side=1, price=80, weight=69), Square(id=62, side=1, price=61, weight=81), Square(id=63, side=1, price=94, weight=45), Square(id=64, side=1, price=74, weight=64), Square(id=65, side=19, price=38, weight=3), Square(id=66, side=19, price=60, weight=58), Square(id=67, side=16, price=97, weight=74), Square(id=68, side=3, price=25, weight=67), Square(id=69, side=3, price=75, weight=55), Square(id=70, side=3, price=9, weight=59), Square(id=71, side=3, price=27, weight=13), Square(id=72, side=3, price=74, weight=41), Square(id=73, side=1, price=30, weight=71), Square(id=74, side=1, price=47, weight=14), Square(id=75, side=1, price=100, weight=11), Square(id=76, side=3, price=69, weight=72), Square(id=77, side=3, price=73, weight=95), Square(id=78, side=2, price=56, weight=98), Square(id=79, side=1, price=100, weight=5), Square(id=80, side=1, price=70, weight=44), Square(id=81, side=8, price=43, weight=32), Square(id=82, side=1, price=13, weight=100), Square(id=83, side=1, price=68, weight=89), Square(id=84, side=1, price=86, weight=15), Square(id=85, side=1, price=58, weight=93), Square(id=86, side=1, price=22, weight=51), Square(id=87, side=1, price=26, weight=50), Square(id=88, side=1, price=83, weight=59), Square(id=89, side=1, price=82, weight=30), Square(id=90, side=19, price=31, weight=54), Square(id=91, side=3, price=3, weight=47), Square(id=92, side=3, price=47, weight=33), Square(id=93, side=3, price=66, weight=91), Square(id=94, side=3, price=12, weight=73), Square(id=95, side=3, price=54, weight=79), Square(id=96, side=3, price=78, weight=76), Square(id=97, side=1, price=17, weight=5), Square(id=98, side=1, price=83, weight=99), Square(id=99, side=1, price=52, weight=15), Square(id=100, side=1, price=92, weight=5), Square(id=101, side=1, price=74, weight=45), Square(id=102, side=1, price=82, weight=6), Square(id=103, side=1, price=93, weight=10), Square(id=104, side=1, price=3, weight=21), Square(id=105, side=1, price=79, weight=28), Square(id=106, side=11, price=72, weight=88), Square(id=107, side=5, price=36, weight=94), Square(id=108, side=5, price=18, weight=40), Square(id=109, side=1, price=66, weight=71), Square(id=110, side=1, price=18, weight=14), Square(id=111, side=1, price=30, weight=17), Square(id=112, side=1, price=55, weight=56), Square(id=113, side=1, price=7, weight=47), Square(id=114, side=8, price=16, weight=65), Square(id=115, side=8, price=36, weight=2), Square(id=116, side=1, price=81, weight=87), Square(id=117, side=1, price=61, weight=34), Square(id=118, side=1, price=11, weight=72), Square(id=119, side=27, price=21, weight=12), Square(id=120, side=27, price=97, weight=69), Square(id=121, side=21, price=92, weight=15), Square(id=122, side=6, price=82, weight=78), Square(id=123, side=6, price=66, weight=4), Square(id=124, side=6, price=78, weight=34), Square(id=125, side=3, price=98, weight=14), Square(id=126, side=3, price=37, weight=23), Square(id=127, side=64, price=35, weight=14), Square(id=128, side=11, price=25, weight=34), Square(id=129, side=11, price=66, weight=49), Square(id=130, side=11, price=26, weight=64), Square(id=131, side=11, price=31, weight=75), Square(id=132, side=11, price=99, weight=93), Square(id=133, side=9, price=39, weight=60), Square(id=134, side=2, price=48, weight=65), Square(id=135, side=2, price=15, weight=4), Square(id=136, side=2, price=36, weight=30), Square(id=137, side=2, price=2, weight=23), Square(id=138, side=1, price=90, weight=23), Square(id=139, side=1, price=28, weight=77), Square(id=140, side=15, price=97, weight=94), Square(id=141, side=3, price=26, weight=35), Square(id=142, side=3, price=68, weight=17), Square(id=143, side=3, price=88, weight=48), Square(id=144, side=3, price=75, weight=68), Square(id=145, side=3, price=76, weight=97), Square(id=146, side=3, price=90, weight=49), Square(id=147, side=3, price=37, weight=39), Square(id=148, side=3, price=28, weight=59), Square(id=149, side=3, price=42, weight=100), Square(id=150, side=3, price=47, weight=93), Square(id=151, side=14, price=87, weight=79), Square(id=152, side=1, price=64, weight=12), Square(id=153, side=1, price=38, weight=78), Square(id=154, side=1, price=19, weight=31), Square(id=155, side=1, price=54, weight=67), Square(id=156, side=1, price=18, weight=12), Square(id=157, side=1, price=68, weight=10), Square(id=158, side=1, price=10, weight=94), Square(id=159, side=1, price=78, weight=51), Square(id=160, side=1, price=21, weight=55), Square(id=161, side=1, price=92, weight=15), Square(id=162, side=1, price=22, weight=66), Square(id=163, side=1, price=65, weight=2), Square(id=164, side=1, price=92, weight=49), Square(id=165, side=1, price=79, weight=9), Square(id=166, side=15, price=39, weight=64), Square(id=167, side=3, price=2, weight=17), Square(id=168, side=3, price=33, weight=71), Square(id=169, side=3, price=74, weight=44), Square(id=170, side=3, price=88, weight=89), Square(id=171, side=3, price=93, weight=81), Square(id=172, side=6, price=96, weight=11), Square(id=173, side=3, price=42, weight=54), Square(id=174, side=3, price=31, weight=45), Square(id=175, side=9, price=36, weight=45), Square(id=176, side=9, price=77, weight=37), Square(id=177, side=4, price=76, weight=17), Square(id=178, side=4, price=45, weight=48), Square(id=179, side=1, price=79, weight=17), Square(id=180, side=1, price=56, weight=74), Square(id=181, side=1, price=2, weight=1), Square(id=182, side=1, price=4, weight=99), Square(id=183, side=8, price=6, weight=21), Square(id=184, side=1, price=34, weight=34), Square(id=185, side=1, price=65, weight=41), Square(id=186, side=1, price=66, weight=42), Square(id=187, side=1, price=26, weight=18), Square(id=188, side=1, price=83, weight=84), Square(id=189, side=1, price=37, weight=45), Square(id=190, side=1, price=74, weight=90), Square(id=191, side=1, price=12, weight=3), Square(id=192, side=7, price=35, weight=47), Square(id=193, side=1, price=51, weight=37), Square(id=194, side=1, price=74, weight=62), Square(id=195, side=1, price=6, weight=38), Square(id=196, side=1, price=49, weight=4), Square(id=197, side=1, price=72, weight=71), Square(id=198, side=1, price=22, weight=94), Square(id=199, side=1, price=69, weight=83)]),\n",
       " 'bin_packing-100-1': Problem(width=100, height=200, max_weight=20000, squares=[Square(id=0, side=27, price=729, weight=729), Square(id=1, side=22, price=484, weight=484), Square(id=2, side=5, price=25, weight=25), Square(id=3, side=5, price=25, weight=25), Square(id=4, side=5, price=25, weight=25), Square(id=5, side=5, price=25, weight=25), Square(id=6, side=2, price=4, weight=4), Square(id=7, side=2, price=4, weight=4), Square(id=8, side=1, price=1, weight=1), Square(id=9, side=1, price=1, weight=1), Square(id=10, side=64, price=4096, weight=4096), Square(id=11, side=36, price=1296, weight=1296), Square(id=12, side=28, price=784, weight=784), Square(id=13, side=8, price=64, weight=64), Square(id=14, side=8, price=64, weight=64), Square(id=15, side=8, price=64, weight=64), Square(id=16, side=4, price=16, weight=16), Square(id=17, side=4, price=16, weight=16), Square(id=18, side=20, price=400, weight=400), Square(id=19, side=7, price=49, weight=49), Square(id=20, side=7, price=49, weight=49), Square(id=21, side=6, price=36, weight=36), Square(id=22, side=1, price=1, weight=1), Square(id=23, side=1, price=1, weight=1), Square(id=24, side=1, price=1, weight=1), Square(id=25, side=1, price=1, weight=1), Square(id=26, side=1, price=1, weight=1), Square(id=27, side=1, price=1, weight=1), Square(id=28, side=11, price=121, weight=121), Square(id=29, side=1, price=1, weight=1), Square(id=30, side=1, price=1, weight=1), Square(id=31, side=1, price=1, weight=1), Square(id=32, side=1, price=1, weight=1), Square(id=33, side=1, price=1, weight=1), Square(id=34, side=1, price=1, weight=1), Square(id=35, side=1, price=1, weight=1), Square(id=36, side=1, price=1, weight=1), Square(id=37, side=1, price=1, weight=1), Square(id=38, side=1, price=1, weight=1), Square(id=39, side=1, price=1, weight=1), Square(id=40, side=5, price=25, weight=25), Square(id=41, side=5, price=25, weight=25), Square(id=42, side=5, price=25, weight=25), Square(id=43, side=3, price=9, weight=9), Square(id=44, side=2, price=4, weight=4), Square(id=45, side=1, price=1, weight=1), Square(id=46, side=1, price=1, weight=1), Square(id=47, side=11, price=121, weight=121), Square(id=48, side=1, price=1, weight=1), Square(id=49, side=1, price=1, weight=1), Square(id=50, side=1, price=1, weight=1), Square(id=51, side=1, price=1, weight=1), Square(id=52, side=1, price=1, weight=1), Square(id=53, side=1, price=1, weight=1), Square(id=54, side=1, price=1, weight=1), Square(id=55, side=1, price=1, weight=1), Square(id=56, side=1, price=1, weight=1), Square(id=57, side=1, price=1, weight=1), Square(id=58, side=1, price=1, weight=1), Square(id=59, side=45, price=2025, weight=2025), Square(id=60, side=30, price=900, weight=900), Square(id=61, side=15, price=225, weight=225), Square(id=62, side=15, price=225, weight=225), Square(id=63, side=4, price=16, weight=16), Square(id=64, side=2, price=4, weight=4), Square(id=65, side=2, price=4, weight=4), Square(id=66, side=6, price=36, weight=36), Square(id=67, side=2, price=4, weight=4), Square(id=68, side=2, price=4, weight=4), Square(id=69, side=2, price=4, weight=4), Square(id=70, side=3, price=9, weight=9), Square(id=71, side=3, price=9, weight=9), Square(id=72, side=3, price=9, weight=9), Square(id=73, side=3, price=9, weight=9), Square(id=74, side=3, price=9, weight=9), Square(id=75, side=3, price=9, weight=9), Square(id=76, side=1, price=1, weight=1), Square(id=77, side=1, price=1, weight=1), Square(id=78, side=1, price=1, weight=1), Square(id=79, side=19, price=361, weight=361), Square(id=80, side=12, price=144, weight=144), Square(id=81, side=7, price=49, weight=49), Square(id=82, side=5, price=25, weight=25), Square(id=83, side=2, price=4, weight=4), Square(id=84, side=2, price=4, weight=4), Square(id=85, side=1, price=1, weight=1), Square(id=86, side=1, price=1, weight=1), Square(id=87, side=42, price=1764, weight=1764), Square(id=88, side=2, price=4, weight=4), Square(id=89, side=2, price=4, weight=4), Square(id=90, side=2, price=4, weight=4), Square(id=91, side=2, price=4, weight=4), Square(id=92, side=2, price=4, weight=4), Square(id=93, side=2, price=4, weight=4), Square(id=94, side=2, price=4, weight=4), Square(id=95, side=2, price=4, weight=4), Square(id=96, side=2, price=4, weight=4), Square(id=97, side=2, price=4, weight=4), Square(id=98, side=2, price=4, weight=4), Square(id=99, side=2, price=4, weight=4), Square(id=100, side=2, price=4, weight=4), Square(id=101, side=2, price=4, weight=4), Square(id=102, side=2, price=4, weight=4), Square(id=103, side=2, price=4, weight=4), Square(id=104, side=2, price=4, weight=4), Square(id=105, side=2, price=4, weight=4), Square(id=106, side=2, price=4, weight=4), Square(id=107, side=2, price=4, weight=4), Square(id=108, side=2, price=4, weight=4), Square(id=109, side=11, price=121, weight=121), Square(id=110, side=11, price=121, weight=121), Square(id=111, side=11, price=121, weight=121), Square(id=112, side=9, price=81, weight=81), Square(id=113, side=2, price=4, weight=4), Square(id=114, side=2, price=4, weight=4), Square(id=115, side=2, price=4, weight=4), Square(id=116, side=2, price=4, weight=4), Square(id=117, side=1, price=1, weight=1), Square(id=118, side=1, price=1, weight=1), Square(id=119, side=6, price=36, weight=36), Square(id=120, side=1, price=1, weight=1), Square(id=121, side=1, price=1, weight=1), Square(id=122, side=1, price=1, weight=1), Square(id=123, side=1, price=1, weight=1), Square(id=124, side=1, price=1, weight=1), Square(id=125, side=1, price=1, weight=1), Square(id=126, side=30, price=900, weight=900), Square(id=127, side=3, price=9, weight=9), Square(id=128, side=3, price=9, weight=9), Square(id=129, side=3, price=9, weight=9), Square(id=130, side=3, price=9, weight=9), Square(id=131, side=3, price=9, weight=9), Square(id=132, side=3, price=9, weight=9), Square(id=133, side=3, price=9, weight=9), Square(id=134, side=3, price=9, weight=9), Square(id=135, side=3, price=9, weight=9), Square(id=136, side=3, price=9, weight=9), Square(id=137, side=25, price=625, weight=625), Square(id=138, side=8, price=64, weight=64), Square(id=139, side=8, price=64, weight=64), Square(id=140, side=8, price=64, weight=64), Square(id=141, side=1, price=1, weight=1), Square(id=142, side=1, price=1, weight=1), Square(id=143, side=1, price=1, weight=1), Square(id=144, side=1, price=1, weight=1), Square(id=145, side=1, price=1, weight=1), Square(id=146, side=1, price=1, weight=1), Square(id=147, side=1, price=1, weight=1), Square(id=148, side=1, price=1, weight=1), Square(id=149, side=9, price=81, weight=81), Square(id=150, side=2, price=4, weight=4), Square(id=151, side=2, price=4, weight=4), Square(id=152, side=2, price=4, weight=4), Square(id=153, side=2, price=4, weight=4), Square(id=154, side=1, price=1, weight=1), Square(id=155, side=1, price=1, weight=1), Square(id=156, side=7, price=49, weight=49), Square(id=157, side=2, price=4, weight=4), Square(id=158, side=2, price=4, weight=4), Square(id=159, side=2, price=4, weight=4), Square(id=160, side=1, price=1, weight=1), Square(id=161, side=1, price=1, weight=1), Square(id=162, side=1, price=1, weight=1), Square(id=163, side=1, price=1, weight=1), Square(id=164, side=1, price=1, weight=1), Square(id=165, side=1, price=1, weight=1), Square(id=166, side=1, price=1, weight=1), Square(id=167, side=1, price=1, weight=1), Square(id=168, side=1, price=1, weight=1), Square(id=169, side=1, price=1, weight=1), Square(id=170, side=1, price=1, weight=1), Square(id=171, side=1, price=1, weight=1), Square(id=172, side=1, price=1, weight=1), Square(id=173, side=1, price=1, weight=1), Square(id=174, side=1, price=1, weight=1), Square(id=175, side=1, price=1, weight=1), Square(id=176, side=1, price=1, weight=1), Square(id=177, side=1, price=1, weight=1), Square(id=178, side=1, price=1, weight=1), Square(id=179, side=1, price=1, weight=1), Square(id=180, side=18, price=324, weight=324), Square(id=181, side=1, price=1, weight=1), Square(id=182, side=1, price=1, weight=1), Square(id=183, side=1, price=1, weight=1), Square(id=184, side=1, price=1, weight=1), Square(id=185, side=1, price=1, weight=1), Square(id=186, side=1, price=1, weight=1), Square(id=187, side=1, price=1, weight=1), Square(id=188, side=1, price=1, weight=1), Square(id=189, side=1, price=1, weight=1), Square(id=190, side=1, price=1, weight=1), Square(id=191, side=1, price=1, weight=1), Square(id=192, side=1, price=1, weight=1), Square(id=193, side=1, price=1, weight=1), Square(id=194, side=1, price=1, weight=1), Square(id=195, side=1, price=1, weight=1), Square(id=196, side=1, price=1, weight=1), Square(id=197, side=1, price=1, weight=1), Square(id=198, side=1, price=1, weight=1), Square(id=199, side=3, price=9, weight=9), Square(id=200, side=2, price=4, weight=4), Square(id=201, side=1, price=1, weight=1), Square(id=202, side=1, price=1, weight=1), Square(id=203, side=3, price=9, weight=9), Square(id=204, side=2, price=4, weight=4), Square(id=205, side=1, price=1, weight=1), Square(id=206, side=1, price=1, weight=1), Square(id=207, side=19, price=361, weight=361), Square(id=208, side=15, price=225, weight=225), Square(id=209, side=4, price=16, weight=16), Square(id=210, side=4, price=16, weight=16), Square(id=211, side=4, price=16, weight=16), Square(id=212, side=3, price=9, weight=9), Square(id=213, side=1, price=1, weight=1), Square(id=214, side=1, price=1, weight=1), Square(id=215, side=1, price=1, weight=1), Square(id=216, side=32, price=1024, weight=1024), Square(id=217, side=2, price=4, weight=4), Square(id=218, side=2, price=4, weight=4), Square(id=219, side=2, price=4, weight=4), Square(id=220, side=2, price=4, weight=4), Square(id=221, side=2, price=4, weight=4), Square(id=222, side=2, price=4, weight=4), Square(id=223, side=2, price=4, weight=4), Square(id=224, side=2, price=4, weight=4), Square(id=225, side=2, price=4, weight=4), Square(id=226, side=2, price=4, weight=4), Square(id=227, side=2, price=4, weight=4), Square(id=228, side=2, price=4, weight=4), Square(id=229, side=2, price=4, weight=4), Square(id=230, side=2, price=4, weight=4), Square(id=231, side=2, price=4, weight=4), Square(id=232, side=2, price=4, weight=4), Square(id=233, side=23, price=529, weight=529), Square(id=234, side=4, price=16, weight=16), Square(id=235, side=4, price=16, weight=16), Square(id=236, side=4, price=16, weight=16), Square(id=237, side=4, price=16, weight=16), Square(id=238, side=4, price=16, weight=16), Square(id=239, side=3, price=9, weight=9), Square(id=240, side=1, price=1, weight=1), Square(id=241, side=1, price=1, weight=1), Square(id=242, side=1, price=1, weight=1), Square(id=243, side=8, price=64, weight=64), Square(id=244, side=8, price=64, weight=64), Square(id=245, side=8, price=64, weight=64), Square(id=246, side=3, price=9, weight=9), Square(id=247, side=3, price=9, weight=9), Square(id=248, side=2, price=4, weight=4), Square(id=249, side=1, price=1, weight=1), Square(id=250, side=1, price=1, weight=1)])}"
      ]
     },
     "execution_count": 2,
     "metadata": {},
     "output_type": "execute_result"
    }
   ],
   "source": [
    "instances = {}\n",
    "\n",
    "for filename in os.listdir(\"../instances\"):\n",
    "    if not filename.endswith(\"100-1.dat\"):\n",
    "        continue\n",
    "\n",
    "    name, _ = os.path.splitext(filename)\n",
    "\n",
    "    with open(f\"../instances/{filename}\", \"r\") as f:\n",
    "        dat = parse(f)\n",
    "\n",
    "    problem = Problem.from_dat(dat)\n",
    "\n",
    "    instances[name] = problem\n",
    "\n",
    "instances\n"
   ]
  },
  {
   "cell_type": "code",
   "execution_count": 3,
   "metadata": {},
   "outputs": [],
   "source": [
    "results = []"
   ]
  },
  {
   "cell_type": "code",
   "execution_count": 4,
   "metadata": {},
   "outputs": [
    {
     "name": "stderr",
     "output_type": "stream",
     "text": [
      "  0%|          | 0/11 [00:00<?, ?it/s]"
     ]
    },
    {
     "name": "stdout",
     "output_type": "stream",
     "text": [
      "9.5367431640625e-07,9.5367431640625e-07,41491.1920928955078125e-06,1.1920928955078125e-06,4149\n",
      "\n"
     ]
    },
    {
     "name": "stderr",
     "output_type": "stream",
     "text": []
    },
    {
     "name": "stdout",
     "output_type": "stream",
     "text": [
      "0.0,0.0,4149\n",
      "0.0,0.0,4149\n",
      "0.0,0.0,4149\n"
     ]
    },
    {
     "name": "stderr",
     "output_type": "stream",
     "text": [
      "100%|██████████| 5/5 [00:59<00:00, 11.98s/it]\n",
      "  9%|▉         | 1/11 [01:00<10:01, 60.18s/it]"
     ]
    },
    {
     "name": "stdout",
     "output_type": "stream",
     "text": [
      "Suitcase(value=4149, weight=2906)\n",
      "Suitcase(value=4149, weight=2906)\n",
      "Suitcase(value=4149, weight=2906)\n",
      "Suitcase(value=4149, weight=2906)\n",
      "Suitcase(value=4149, weight=2906)\n"
     ]
    },
    {
     "name": "stderr",
     "output_type": "stream",
     "text": []
    },
    {
     "name": "stdout",
     "output_type": "stream",
     "text": [
      "0.0,0.0,4147\n",
      "7.152557373046875e-07,7.152557373046875e-07,4135\n",
      "0.0,0.0,4149\n",
      "9.5367431640625e-07,9.5367431640625e-07,4129\n",
      "0.0,0.0,4135\n",
      "0.10538005828857422,0.05269002914428711,41490.20281600952148438,0.10140800476074219,4149\n",
      "\n",
      "0.4950718879699707,0.1650239626566569,4136\n",
      "0.28034400939941406,0.14017200469970703,4149\n",
      "0.5697798728942871,0.14244496822357178,4138\n",
      "1.4186689853668213,0.2026669979095459,4149\n"
     ]
    },
    {
     "name": "stderr",
     "output_type": "stream",
     "text": [
      "100%|██████████| 5/5 [01:01<00:00, 12.23s/it]\n",
      " 18%|█▊        | 2/11 [02:01<09:08, 60.92s/it]"
     ]
    },
    {
     "name": "stdout",
     "output_type": "stream",
     "text": [
      "Suitcase(value=4149, weight=2906)\n",
      "Suitcase(value=4149, weight=2906)\n",
      "Suitcase(value=4149, weight=2906)\n",
      "Suitcase(value=4149, weight=2906)\n",
      "Suitcase(value=4149, weight=2906)\n"
     ]
    },
    {
     "name": "stderr",
     "output_type": "stream",
     "text": []
    },
    {
     "name": "stdout",
     "output_type": "stream",
     "text": [
      "0.0,0.0,4147\n",
      "0.0,0.0,4133\n",
      "0.0,0.0,4149\n",
      "0.0,0.0,4149\n",
      "0.0,0.0,4135\n",
      "0.20400786399841309,0.10200393199920654,4149\n",
      "0.33049488067626953,0.08262372016906738,4149\n",
      "0.3283841609954834,0.1641920804977417,4149\n"
     ]
    }
   ],
   "source": [
    "for alpha in tqdm([0.0, 0.1, 0.2, 0.3, 0.4, 0.5, 0.6, 0.7, 0.8, 0.9, 1.0]):\n",
    "\n",
    "    def grasp(instance):\n",
    "        return grasp_search(instance, qs[\"price_weight\"], alpha=alpha)\n",
    "\n",
    "    # Convert to process_map for parallelism\n",
    "    def run(_: int):\n",
    "        return runner(\n",
    "            grasp,\n",
    "            instances[\"knapsack-100-1\"],\n",
    "            max_time=5 * 60,\n",
    "            max_time_since_improvement=60,\n",
    "        )\n",
    "\n",
    "    runs = thread_map(run, range(5))\n",
    "\n",
    "    for tune, (result, iters) in enumerate(runs):\n",
    "        print(result)\n",
    "        results.append((\"knapsack-100-1\", alpha, tune, result.value, result.weight))\n"
   ]
  },
  {
   "cell_type": "code",
   "execution_count": null,
   "metadata": {},
   "outputs": [],
   "source": [
    "for alpha in tqdm([0.0, 0.1, 0.2, 0.3, 0.4, 0.5, 0.6, 0.7, 0.8, 0.9, 1.0]):\n",
    "    def grasp(instance):\n",
    "        return grasp_search(instance, qs[\"side\"], alpha=alpha)\n",
    "\n",
    "    # Convert to process_map for parallelism\n",
    "    def run(_: int):\n",
    "        return runner(\n",
    "            grasp,\n",
    "            instances[\"bin_packing-100-1\"],\n",
    "            max_time=5 * 60,\n",
    "            max_time_since_improvement=60,\n",
    "        )\n",
    "\n",
    "    runs = thread_map(run, range(5))\n",
    "\n",
    "    for tune, (result, iters) in enumerate(runs):\n",
    "        print(result)\n",
    "        results.append((\"bin_packing-100-1\", alpha, tune, result.value, result.weight))\n",
    "\n"
   ]
  },
  {
   "cell_type": "code",
   "execution_count": null,
   "metadata": {},
   "outputs": [],
   "source": [
    "for alpha in tqdm([0.0, 0.1, 0.2, 0.3, 0.4, 0.5, 0.6, 0.7, 0.8, 0.9, 1.0]):\n",
    "    def grasp(instance):\n",
    "        return grasp_search(instance, qs[\"price\"], alpha=alpha)\n",
    "\n",
    "    # Convert to process_map for parallelism\n",
    "    def run(_: int):\n",
    "        return runner(\n",
    "            grasp,\n",
    "            instances[\"mix-100-1\"],\n",
    "            max_time=5 * 60,\n",
    "            max_time_since_improvement=60,\n",
    "        )\n",
    "\n",
    "    runs = thread_map(run, range(5))\n",
    "\n",
    "    for tune, (result, iters) in enumerate(runs):\n",
    "        print(result)\n",
    "        results.append((\"mix-100-1\", alpha, tune, result.value, result.weight))\n"
   ]
  },
  {
   "cell_type": "code",
   "execution_count": null,
   "metadata": {},
   "outputs": [],
   "source": [
    "import pandas as pd\n",
    "\n",
    "df = pd.DataFrame(results, columns=[\"instance\", \"alpha\", \"tune\", \"value\", \"weight\"])\n",
    "\n",
    "# Save results\n",
    "df.to_csv(\"tuning.csv\", index=False)"
   ]
  },
  {
   "cell_type": "code",
   "execution_count": null,
   "metadata": {},
   "outputs": [],
   "source": []
  }
 ],
 "metadata": {
  "kernelspec": {
   "display_name": ".venv",
   "language": "python",
   "name": "python3"
  },
  "language_info": {
   "codemirror_mode": {
    "name": "ipython",
    "version": 3
   },
   "file_extension": ".py",
   "mimetype": "text/x-python",
   "name": "python",
   "nbconvert_exporter": "python",
   "pygments_lexer": "ipython3",
   "version": "3.12.2"
  }
 },
 "nbformat": 4,
 "nbformat_minor": 2
}
