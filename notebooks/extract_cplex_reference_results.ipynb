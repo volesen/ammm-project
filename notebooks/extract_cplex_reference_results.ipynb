{
 "cells": [
  {
   "cell_type": "code",
   "execution_count": null,
   "metadata": {},
   "outputs": [],
   "source": [
    "import os\n",
    "import re\n",
    "\n",
    "import pandas as pd\n",
    "\n",
    "OBJECTIVE_PATTERN = re.compile(r'OBJECTIVE: (\\d+)')\n",
    "TIME_PATTERN = re.compile(r\"Total \\(root\\+branch&cut\\) =\\s+(\\d+\\.\\d+) sec.\")"
   ]
  },
  {
   "cell_type": "code",
   "execution_count": null,
   "metadata": {},
   "outputs": [],
   "source": [
    "results = []\n",
    "\n",
    "for filename in os.listdir(\"../results/cplex-reference-benchmarks\"):\n",
    "    if not filename.endswith(\".out\"):\n",
    "        continue\n",
    "\n",
    "    name, _ = os.path.splitext(filename)\n",
    "\n",
    "    solver, instance = name.split(\"-\")\n",
    "\n",
    "    with open(os.path.join(\"../results/cplex-reference-benchmarks\", filename)) as f:\n",
    "        content = f.read()\n",
    "\n",
    "    objective_match = OBJECTIVE_PATTERN.search(content)\n",
    "    if objective_match:\n",
    "        objective = int(objective_match.group(1))\n",
    "    else:\n",
    "        objective = None\n",
    "\n",
    "    time_match = TIME_PATTERN.search(content)\n",
    "    if time_match:\n",
    "        time = float(time_match.group(1))\n",
    "    else:\n",
    "        time = None\n",
    "\n",
    "    results.append((solver, instance, objective, time))"
   ]
  },
  {
   "cell_type": "code",
   "execution_count": null,
   "metadata": {},
   "outputs": [],
   "source": [
    "results"
   ]
  },
  {
   "cell_type": "code",
   "execution_count": null,
   "metadata": {},
   "outputs": [],
   "source": [
    "df = pd.DataFrame(results, columns=['solver', 'instance', 'objective', 'time'])\n",
    "df"
   ]
  },
  {
   "cell_type": "code",
   "execution_count": null,
   "metadata": {},
   "outputs": [],
   "source": [
    "# Pivot the table\n",
    "df.pivot_table(index=['solver', 'instance'], values=['objective', 'time'])"
   ]
  },
  {
   "cell_type": "code",
   "execution_count": null,
   "metadata": {},
   "outputs": [],
   "source": [
    "df.pivot_table(index=['instance', 'solver'], values=['objective', 'time'])"
   ]
  },
  {
   "cell_type": "code",
   "execution_count": null,
   "metadata": {},
   "outputs": [],
   "source": [
    "# Save the table\n",
    "#df.write_csv('../results/cplex-reference-results.csv')"
   ]
  },
  {
   "cell_type": "code",
   "execution_count": null,
   "metadata": {},
   "outputs": [],
   "source": []
  }
 ],
 "metadata": {
  "kernelspec": {
   "display_name": ".venv",
   "language": "python",
   "name": "python3"
  },
  "language_info": {
   "codemirror_mode": {
    "name": "ipython",
    "version": 3
   },
   "file_extension": ".py",
   "mimetype": "text/x-python",
   "name": "python",
   "nbconvert_exporter": "python",
   "pygments_lexer": "ipython3",
   "version": "3.12.2"
  }
 },
 "nbformat": 4,
 "nbformat_minor": 2
}
