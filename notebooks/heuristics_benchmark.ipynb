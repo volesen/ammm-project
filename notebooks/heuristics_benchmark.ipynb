{
 "cells": [
  {
   "cell_type": "code",
   "execution_count": 1,
   "metadata": {},
   "outputs": [
    {
     "name": "stderr",
     "output_type": "stream",
     "text": [
      "/Users/vol/UPC/ammm/ammm-project/.venv/lib/python3.12/site-packages/tqdm/auto.py:21: TqdmWarning: IProgress not found. Please update jupyter and ipywidgets. See https://ipywidgets.readthedocs.io/en/stable/user_install.html\n",
      "  from .autonotebook import tqdm as notebook_tqdm\n"
     ]
    }
   ],
   "source": [
    "import os\n",
    "import time\n",
    "\n",
    "import pandas as pd\n",
    "from ammm_project.grasp import grasp_search\n",
    "from ammm_project.greedy import greedy_search\n",
    "from ammm_project.greedy_functions import qs\n",
    "from ammm_project.local_search import local_search\n",
    "from ammm_project.parsers.dat import parse\n",
    "from ammm_project.problem import Problem\n",
    "from ammm_project.runner import run as runner\n",
    "from tqdm import tqdm"
   ]
  },
  {
   "cell_type": "code",
   "execution_count": 2,
   "metadata": {},
   "outputs": [
    {
     "data": {
      "text/plain": [
       "{'knapsack-50-2': Problem(width=1, height=50, max_weight=1569, squares=[Square(id=0, side=1, price=97, weight=17), Square(id=1, side=1, price=38, weight=8), Square(id=2, side=1, price=73, weight=27), Square(id=3, side=1, price=41, weight=54), Square(id=4, side=1, price=60, weight=59), Square(id=5, side=1, price=39, weight=39), Square(id=6, side=1, price=39, weight=81), Square(id=7, side=1, price=82, weight=67), Square(id=8, side=1, price=80, weight=25), Square(id=9, side=1, price=4, weight=78), Square(id=10, side=1, price=94, weight=49), Square(id=11, side=1, price=60, weight=58), Square(id=12, side=1, price=29, weight=100), Square(id=13, side=1, price=67, weight=63), Square(id=14, side=1, price=97, weight=97), Square(id=15, side=1, price=45, weight=60), Square(id=16, side=1, price=90, weight=53), Square(id=17, side=1, price=98, weight=13), Square(id=18, side=1, price=94, weight=91), Square(id=19, side=1, price=64, weight=52), Square(id=20, side=1, price=20, weight=12), Square(id=21, side=1, price=5, weight=6), Square(id=22, side=1, price=29, weight=48), Square(id=23, side=1, price=54, weight=69), Square(id=24, side=1, price=45, weight=52), Square(id=25, side=1, price=69, weight=75), Square(id=26, side=1, price=83, weight=52), Square(id=27, side=1, price=53, weight=75), Square(id=28, side=1, price=80, weight=73), Square(id=29, side=1, price=89, weight=65), Square(id=30, side=1, price=85, weight=85), Square(id=31, side=1, price=7, weight=97), Square(id=32, side=1, price=30, weight=75), Square(id=33, side=1, price=39, weight=78), Square(id=34, side=1, price=4, weight=64), Square(id=35, side=1, price=22, weight=91), Square(id=36, side=1, price=26, weight=91), Square(id=37, side=1, price=14, weight=44), Square(id=38, side=1, price=62, weight=52), Square(id=39, side=1, price=27, weight=14), Square(id=40, side=1, price=6, weight=54), Square(id=41, side=1, price=85, weight=81), Square(id=42, side=1, price=62, weight=65), Square(id=43, side=1, price=23, weight=39), Square(id=44, side=1, price=29, weight=59), Square(id=45, side=1, price=59, weight=93), Square(id=46, side=1, price=47, weight=49), Square(id=47, side=1, price=11, weight=82), Square(id=48, side=1, price=3, weight=89), Square(id=49, side=1, price=95, weight=5)]),\n",
       " 'knapsack-200-2': Problem(width=1, height=200, max_weight=7292, squares=[Square(id=0, side=1, price=81, weight=66), Square(id=1, side=1, price=59, weight=59), Square(id=2, side=1, price=61, weight=44), Square(id=3, side=1, price=70, weight=12), Square(id=4, side=1, price=31, weight=14), Square(id=5, side=1, price=30, weight=88), Square(id=6, side=1, price=29, weight=15), Square(id=7, side=1, price=62, weight=67), Square(id=8, side=1, price=28, weight=68), Square(id=9, side=1, price=95, weight=86), Square(id=10, side=1, price=51, weight=60), Square(id=11, side=1, price=99, weight=24), Square(id=12, side=1, price=18, weight=98), Square(id=13, side=1, price=95, weight=14), Square(id=14, side=1, price=70, weight=73), Square(id=15, side=1, price=59, weight=39), Square(id=16, side=1, price=52, weight=92), Square(id=17, side=1, price=39, weight=12), Square(id=18, side=1, price=42, weight=4), Square(id=19, side=1, price=40, weight=55), Square(id=20, side=1, price=49, weight=43), Square(id=21, side=1, price=23, weight=9), Square(id=22, side=1, price=54, weight=13), Square(id=23, side=1, price=87, weight=12), Square(id=24, side=1, price=93, weight=99), Square(id=25, side=1, price=42, weight=33), Square(id=26, side=1, price=27, weight=20), Square(id=27, side=1, price=88, weight=42), Square(id=28, side=1, price=97, weight=22), Square(id=29, side=1, price=64, weight=99), Square(id=30, side=1, price=61, weight=56), Square(id=31, side=1, price=65, weight=36), Square(id=32, side=1, price=30, weight=76), Square(id=33, side=1, price=2, weight=14), Square(id=34, side=1, price=93, weight=40), Square(id=35, side=1, price=97, weight=34), Square(id=36, side=1, price=76, weight=65), Square(id=37, side=1, price=12, weight=8), Square(id=38, side=1, price=71, weight=88), Square(id=39, side=1, price=76, weight=18), Square(id=40, side=1, price=37, weight=1), Square(id=41, side=1, price=28, weight=11), Square(id=42, side=1, price=7, weight=73), Square(id=43, side=1, price=17, weight=22), Square(id=44, side=1, price=64, weight=80), Square(id=45, side=1, price=44, weight=29), Square(id=46, side=1, price=68, weight=51), Square(id=47, side=1, price=98, weight=13), Square(id=48, side=1, price=92, weight=67), Square(id=49, side=1, price=86, weight=37), Square(id=50, side=1, price=37, weight=41), Square(id=51, side=1, price=54, weight=51), Square(id=52, side=1, price=68, weight=98), Square(id=53, side=1, price=98, weight=14), Square(id=54, side=1, price=73, weight=58), Square(id=55, side=1, price=11, weight=83), Square(id=56, side=1, price=78, weight=38), Square(id=57, side=1, price=55, weight=55), Square(id=58, side=1, price=58, weight=7), Square(id=59, side=1, price=84, weight=79), Square(id=60, side=1, price=88, weight=47), Square(id=61, side=1, price=70, weight=15), Square(id=62, side=1, price=93, weight=13), Square(id=63, side=1, price=48, weight=88), Square(id=64, side=1, price=70, weight=5), Square(id=65, side=1, price=23, weight=67), Square(id=66, side=1, price=81, weight=96), Square(id=67, side=1, price=96, weight=79), Square(id=68, side=1, price=58, weight=61), Square(id=69, side=1, price=85, weight=63), Square(id=70, side=1, price=65, weight=75), Square(id=71, side=1, price=86, weight=80), Square(id=72, side=1, price=40, weight=52), Square(id=73, side=1, price=64, weight=59), Square(id=74, side=1, price=94, weight=67), Square(id=75, side=1, price=36, weight=94), Square(id=76, side=1, price=14, weight=86), Square(id=77, side=1, price=30, weight=12), Square(id=78, side=1, price=29, weight=16), Square(id=79, side=1, price=93, weight=60), Square(id=80, side=1, price=20, weight=28), Square(id=81, side=1, price=31, weight=39), Square(id=82, side=1, price=58, weight=60), Square(id=83, side=1, price=47, weight=47), Square(id=84, side=1, price=69, weight=18), Square(id=85, side=1, price=62, weight=79), Square(id=86, side=1, price=93, weight=25), Square(id=87, side=1, price=36, weight=19), Square(id=88, side=1, price=22, weight=49), Square(id=89, side=1, price=3, weight=52), Square(id=90, side=1, price=55, weight=25), Square(id=91, side=1, price=9, weight=68), Square(id=92, side=1, price=95, weight=84), Square(id=93, side=1, price=48, weight=14), Square(id=94, side=1, price=20, weight=82), Square(id=95, side=1, price=15, weight=63), Square(id=96, side=1, price=40, weight=84), Square(id=97, side=1, price=100, weight=34), Square(id=98, side=1, price=18, weight=40), Square(id=99, side=1, price=31, weight=95), Square(id=100, side=1, price=51, weight=93), Square(id=101, side=1, price=65, weight=14), Square(id=102, side=1, price=13, weight=58), Square(id=103, side=1, price=93, weight=80), Square(id=104, side=1, price=66, weight=76), Square(id=105, side=1, price=77, weight=31), Square(id=106, side=1, price=48, weight=85), Square(id=107, side=1, price=84, weight=37), Square(id=108, side=1, price=38, weight=44), Square(id=109, side=1, price=91, weight=33), Square(id=110, side=1, price=26, weight=4), Square(id=111, side=1, price=70, weight=48), Square(id=112, side=1, price=67, weight=27), Square(id=113, side=1, price=82, weight=13), Square(id=114, side=1, price=66, weight=43), Square(id=115, side=1, price=34, weight=52), Square(id=116, side=1, price=43, weight=1), Square(id=117, side=1, price=68, weight=25), Square(id=118, side=1, price=21, weight=9), Square(id=119, side=1, price=76, weight=93), Square(id=120, side=1, price=22, weight=99), Square(id=121, side=1, price=67, weight=66), Square(id=122, side=1, price=42, weight=28), Square(id=123, side=1, price=24, weight=8), Square(id=124, side=1, price=10, weight=21), Square(id=125, side=1, price=83, weight=40), Square(id=126, side=1, price=44, weight=82), Square(id=127, side=1, price=81, weight=86), Square(id=128, side=1, price=38, weight=47), Square(id=129, side=1, price=8, weight=83), Square(id=130, side=1, price=76, weight=59), Square(id=131, side=1, price=23, weight=47), Square(id=132, side=1, price=67, weight=41), Square(id=133, side=1, price=76, weight=23), Square(id=134, side=1, price=100, weight=5), Square(id=135, side=1, price=44, weight=61), Square(id=136, side=1, price=65, weight=52), Square(id=137, side=1, price=56, weight=84), Square(id=138, side=1, price=82, weight=97), Square(id=139, side=1, price=31, weight=59), Square(id=140, side=1, price=22, weight=82), Square(id=141, side=1, price=44, weight=33), Square(id=142, side=1, price=94, weight=27), Square(id=143, side=1, price=44, weight=38), Square(id=144, side=1, price=31, weight=94), Square(id=145, side=1, price=38, weight=67), Square(id=146, side=1, price=5, weight=83), Square(id=147, side=1, price=100, weight=33), Square(id=148, side=1, price=95, weight=99), Square(id=149, side=1, price=49, weight=61), Square(id=150, side=1, price=69, weight=100), Square(id=151, side=1, price=7, weight=43), Square(id=152, side=1, price=81, weight=51), Square(id=153, side=1, price=89, weight=54), Square(id=154, side=1, price=92, weight=36), Square(id=155, side=1, price=62, weight=27), Square(id=156, side=1, price=16, weight=40), Square(id=157, side=1, price=72, weight=34), Square(id=158, side=1, price=14, weight=97), Square(id=159, side=1, price=11, weight=26), Square(id=160, side=1, price=81, weight=25), Square(id=161, side=1, price=12, weight=74), Square(id=162, side=1, price=39, weight=59), Square(id=163, side=1, price=43, weight=27), Square(id=164, side=1, price=58, weight=95), Square(id=165, side=1, price=76, weight=16), Square(id=166, side=1, price=57, weight=2), Square(id=167, side=1, price=79, weight=46), Square(id=168, side=1, price=29, weight=93), Square(id=169, side=1, price=5, weight=15), Square(id=170, side=1, price=18, weight=80), Square(id=171, side=1, price=69, weight=36), Square(id=172, side=1, price=58, weight=62), Square(id=173, side=1, price=38, weight=49), Square(id=174, side=1, price=22, weight=77), Square(id=175, side=1, price=63, weight=100), Square(id=176, side=1, price=97, weight=58), Square(id=177, side=1, price=15, weight=11), Square(id=178, side=1, price=77, weight=90), Square(id=179, side=1, price=1, weight=64), Square(id=180, side=1, price=52, weight=71), Square(id=181, side=1, price=77, weight=14), Square(id=182, side=1, price=15, weight=84), Square(id=183, side=1, price=9, weight=21), Square(id=184, side=1, price=5, weight=32), Square(id=185, side=1, price=34, weight=27), Square(id=186, side=1, price=73, weight=99), Square(id=187, side=1, price=80, weight=30), Square(id=188, side=1, price=18, weight=86), Square(id=189, side=1, price=49, weight=64), Square(id=190, side=1, price=67, weight=56), Square(id=191, side=1, price=1, weight=23), Square(id=192, side=1, price=37, weight=75), Square(id=193, side=1, price=39, weight=9), Square(id=194, side=1, price=24, weight=6), Square(id=195, side=1, price=56, weight=90), Square(id=196, side=1, price=65, weight=43), Square(id=197, side=1, price=34, weight=99), Square(id=198, side=1, price=25, weight=60), Square(id=199, side=1, price=15, weight=1)]),\n",
       " 'knapsack-100-2': Problem(width=1, height=100, max_weight=3817, squares=[Square(id=0, side=1, price=74, weight=39), Square(id=1, side=1, price=5, weight=21), Square(id=2, side=1, price=65, weight=69), Square(id=3, side=1, price=2, weight=37), Square(id=4, side=1, price=23, weight=67), Square(id=5, side=1, price=44, weight=41), Square(id=6, side=1, price=44, weight=8), Square(id=7, side=1, price=88, weight=62), Square(id=8, side=1, price=18, weight=14), Square(id=9, side=1, price=80, weight=21), Square(id=10, side=1, price=40, weight=25), Square(id=11, side=1, price=28, weight=58), Square(id=12, side=1, price=38, weight=15), Square(id=13, side=1, price=60, weight=66), Square(id=14, side=1, price=61, weight=79), Square(id=15, side=1, price=59, weight=91), Square(id=16, side=1, price=15, weight=100), Square(id=17, side=1, price=29, weight=99), Square(id=18, side=1, price=24, weight=31), Square(id=19, side=1, price=49, weight=83), Square(id=20, side=1, price=5, weight=89), Square(id=21, side=1, price=57, weight=14), Square(id=22, side=1, price=66, weight=77), Square(id=23, side=1, price=6, weight=75), Square(id=24, side=1, price=69, weight=66), Square(id=25, side=1, price=16, weight=61), Square(id=26, side=1, price=84, weight=25), Square(id=27, side=1, price=59, weight=4), Square(id=28, side=1, price=88, weight=73), Square(id=29, side=1, price=48, weight=52), Square(id=30, side=1, price=52, weight=35), Square(id=31, side=1, price=29, weight=78), Square(id=32, side=1, price=25, weight=59), Square(id=33, side=1, price=16, weight=32), Square(id=34, side=1, price=31, weight=32), Square(id=35, side=1, price=44, weight=65), Square(id=36, side=1, price=7, weight=7), Square(id=37, side=1, price=16, weight=53), Square(id=38, side=1, price=94, weight=57), Square(id=39, side=1, price=63, weight=98), Square(id=40, side=1, price=61, weight=71), Square(id=41, side=1, price=7, weight=34), Square(id=42, side=1, price=15, weight=47), Square(id=43, side=1, price=84, weight=33), Square(id=44, side=1, price=95, weight=24), Square(id=45, side=1, price=95, weight=36), Square(id=46, side=1, price=97, weight=37), Square(id=47, side=1, price=62, weight=91), Square(id=48, side=1, price=27, weight=9), Square(id=49, side=1, price=52, weight=89), Square(id=50, side=1, price=2, weight=35), Square(id=51, side=1, price=28, weight=24), Square(id=52, side=1, price=29, weight=25), Square(id=53, side=1, price=46, weight=96), Square(id=54, side=1, price=17, weight=74), Square(id=55, side=1, price=42, weight=99), Square(id=56, side=1, price=63, weight=59), Square(id=57, side=1, price=34, weight=85), Square(id=58, side=1, price=60, weight=29), Square(id=59, side=1, price=70, weight=3), Square(id=60, side=1, price=77, weight=36), Square(id=61, side=1, price=85, weight=80), Square(id=62, side=1, price=59, weight=66), Square(id=63, side=1, price=83, weight=70), Square(id=64, side=1, price=60, weight=57), Square(id=65, side=1, price=14, weight=74), Square(id=66, side=1, price=89, weight=90), Square(id=67, side=1, price=100, weight=28), Square(id=68, side=1, price=70, weight=12), Square(id=69, side=1, price=67, weight=79), Square(id=70, side=1, price=25, weight=99), Square(id=71, side=1, price=55, weight=35), Square(id=72, side=1, price=69, weight=11), Square(id=73, side=1, price=75, weight=69), Square(id=74, side=1, price=89, weight=70), Square(id=75, side=1, price=77, weight=38), Square(id=76, side=1, price=25, weight=35), Square(id=77, side=1, price=76, weight=88), Square(id=78, side=1, price=5, weight=94), Square(id=79, side=1, price=56, weight=73), Square(id=80, side=1, price=3, weight=15), Square(id=81, side=1, price=85, weight=88), Square(id=82, side=1, price=62, weight=67), Square(id=83, side=1, price=3, weight=100), Square(id=84, side=1, price=84, weight=50), Square(id=85, side=1, price=38, weight=89), Square(id=86, side=1, price=96, weight=50), Square(id=87, side=1, price=3, weight=27), Square(id=88, side=1, price=21, weight=22), Square(id=89, side=1, price=93, weight=30), Square(id=90, side=1, price=26, weight=49), Square(id=91, side=1, price=87, weight=79), Square(id=92, side=1, price=59, weight=18), Square(id=93, side=1, price=94, weight=78), Square(id=94, side=1, price=26, weight=33), Square(id=95, side=1, price=16, weight=45), Square(id=96, side=1, price=46, weight=33), Square(id=97, side=1, price=41, weight=25), Square(id=98, side=1, price=59, weight=47), Square(id=99, side=1, price=9, weight=50)])}"
      ]
     },
     "execution_count": 2,
     "metadata": {},
     "output_type": "execute_result"
    }
   ],
   "source": [
    "# Benchmark mix-instances\n",
    "knapsack_instances = {}\n",
    "\n",
    "for filename in os.listdir(\"../instances\"):\n",
    "    if not filename.endswith(\"-2.dat\"):\n",
    "        continue\n",
    "\n",
    "    if not filename.startswith(\"knapsack\"):\n",
    "        continue\n",
    "\n",
    "    name, _ = os.path.splitext(filename)\n",
    "\n",
    "    with open(f\"../instances/{filename}\", \"r\") as f:\n",
    "        dat = parse(f)\n",
    "\n",
    "    problem = Problem.from_dat(dat)\n",
    "\n",
    "    knapsack_instances[name] = problem\n",
    "\n",
    "knapsack_instances"
   ]
  },
  {
   "cell_type": "code",
   "execution_count": 3,
   "metadata": {},
   "outputs": [
    {
     "data": {
      "text/plain": [
       "{'bin_packing-50-2': Problem(width=50, height=100, max_weight=5000, squares=[Square(id=0, side=19, price=361, weight=361), Square(id=1, side=13, price=169, weight=169), Square(id=2, side=6, price=36, weight=36), Square(id=3, side=6, price=36, weight=36), Square(id=4, side=1, price=1, weight=1), Square(id=5, side=1, price=1, weight=1), Square(id=6, side=1, price=1, weight=1), Square(id=7, side=1, price=1, weight=1), Square(id=8, side=1, price=1, weight=1), Square(id=9, side=1, price=1, weight=1), Square(id=10, side=41, price=1681, weight=1681), Square(id=11, side=9, price=81, weight=81), Square(id=12, side=9, price=81, weight=81), Square(id=13, side=9, price=81, weight=81), Square(id=14, side=9, price=81, weight=81), Square(id=15, side=5, price=25, weight=25), Square(id=16, side=4, price=16, weight=16), Square(id=17, side=1, price=1, weight=1), Square(id=18, side=1, price=1, weight=1), Square(id=19, side=1, price=1, weight=1), Square(id=20, side=1, price=1, weight=1), Square(id=21, side=14, price=196, weight=196), Square(id=22, side=4, price=16, weight=16), Square(id=23, side=4, price=16, weight=16), Square(id=24, side=4, price=16, weight=16), Square(id=25, side=2, price=4, weight=4), Square(id=26, side=2, price=4, weight=4), Square(id=27, side=1, price=1, weight=1), Square(id=28, side=1, price=1, weight=1), Square(id=29, side=1, price=1, weight=1), Square(id=30, side=1, price=1, weight=1), Square(id=31, side=1, price=1, weight=1), Square(id=32, side=1, price=1, weight=1), Square(id=33, side=1, price=1, weight=1), Square(id=34, side=1, price=1, weight=1), Square(id=35, side=1, price=1, weight=1), Square(id=36, side=1, price=1, weight=1), Square(id=37, side=1, price=1, weight=1), Square(id=38, side=1, price=1, weight=1), Square(id=39, side=2, price=4, weight=4), Square(id=40, side=2, price=4, weight=4), Square(id=41, side=2, price=4, weight=4), Square(id=42, side=2, price=4, weight=4), Square(id=43, side=2, price=4, weight=4), Square(id=44, side=2, price=4, weight=4), Square(id=45, side=2, price=4, weight=4), Square(id=46, side=2, price=4, weight=4), Square(id=47, side=2, price=4, weight=4), Square(id=48, side=2, price=4, weight=4), Square(id=49, side=2, price=4, weight=4), Square(id=50, side=2, price=4, weight=4), Square(id=51, side=2, price=4, weight=4), Square(id=52, side=2, price=4, weight=4), Square(id=53, side=2, price=4, weight=4), Square(id=54, side=2, price=4, weight=4), Square(id=55, side=2, price=4, weight=4), Square(id=56, side=2, price=4, weight=4), Square(id=57, side=36, price=1296, weight=1296), Square(id=58, side=12, price=144, weight=144), Square(id=59, side=12, price=144, weight=144), Square(id=60, side=12, price=144, weight=144), Square(id=61, side=1, price=1, weight=1), Square(id=62, side=1, price=1, weight=1), Square(id=63, side=4, price=16, weight=16), Square(id=64, side=4, price=16, weight=16), Square(id=65, side=4, price=16, weight=16), Square(id=66, side=4, price=16, weight=16), Square(id=67, side=3, price=9, weight=9), Square(id=68, side=1, price=1, weight=1), Square(id=69, side=1, price=1, weight=1), Square(id=70, side=1, price=1, weight=1), Square(id=71, side=4, price=16, weight=16), Square(id=72, side=4, price=16, weight=16), Square(id=73, side=4, price=16, weight=16), Square(id=74, side=4, price=16, weight=16), Square(id=75, side=4, price=16, weight=16), Square(id=76, side=4, price=16, weight=16), Square(id=77, side=4, price=16, weight=16), Square(id=78, side=3, price=9, weight=9), Square(id=79, side=1, price=1, weight=1), Square(id=80, side=1, price=1, weight=1), Square(id=81, side=1, price=1, weight=1), Square(id=82, side=4, price=16, weight=16), Square(id=83, side=4, price=16, weight=16), Square(id=84, side=4, price=16, weight=16), Square(id=85, side=2, price=4, weight=4), Square(id=86, side=2, price=4, weight=4), Square(id=87, side=4, price=16, weight=16), Square(id=88, side=1, price=1, weight=1), Square(id=89, side=1, price=1, weight=1), Square(id=90, side=1, price=1, weight=1), Square(id=91, side=1, price=1, weight=1)]),\n",
       " 'bin_packing-100-2': Problem(width=100, height=200, max_weight=20000, squares=[Square(id=0, side=34, price=1156, weight=1156), Square(id=1, side=34, price=1156, weight=1156), Square(id=2, side=6, price=36, weight=36), Square(id=3, side=6, price=36, weight=36), Square(id=4, side=6, price=36, weight=36), Square(id=5, side=6, price=36, weight=36), Square(id=6, side=6, price=36, weight=36), Square(id=7, side=4, price=16, weight=16), Square(id=8, side=2, price=4, weight=4), Square(id=9, side=2, price=4, weight=4), Square(id=10, side=45, price=2025, weight=2025), Square(id=11, side=6, price=36, weight=36), Square(id=12, side=6, price=36, weight=36), Square(id=13, side=6, price=36, weight=36), Square(id=14, side=6, price=36, weight=36), Square(id=15, side=6, price=36, weight=36), Square(id=16, side=6, price=36, weight=36), Square(id=17, side=6, price=36, weight=36), Square(id=18, side=3, price=9, weight=9), Square(id=19, side=3, price=9, weight=9), Square(id=20, side=4, price=16, weight=16), Square(id=21, side=4, price=16, weight=16), Square(id=22, side=4, price=16, weight=16), Square(id=23, side=2, price=4, weight=4), Square(id=24, side=2, price=4, weight=4), Square(id=25, side=4, price=16, weight=16), Square(id=26, side=1, price=1, weight=1), Square(id=27, side=1, price=1, weight=1), Square(id=28, side=1, price=1, weight=1), Square(id=29, side=1, price=1, weight=1), Square(id=30, side=65, price=4225, weight=4225), Square(id=31, side=14, price=196, weight=196), Square(id=32, side=14, price=196, weight=196), Square(id=33, side=14, price=196, weight=196), Square(id=34, side=14, price=196, weight=196), Square(id=35, side=9, price=81, weight=81), Square(id=36, side=5, price=25, weight=25), Square(id=37, side=4, price=16, weight=16), Square(id=38, side=1, price=1, weight=1), Square(id=39, side=1, price=1, weight=1), Square(id=40, side=1, price=1, weight=1), Square(id=41, side=1, price=1, weight=1), Square(id=42, side=12, price=144, weight=144), Square(id=43, side=5, price=25, weight=25), Square(id=44, side=5, price=25, weight=25), Square(id=45, side=2, price=4, weight=4), Square(id=46, side=2, price=4, weight=4), Square(id=47, side=1, price=1, weight=1), Square(id=48, side=1, price=1, weight=1), Square(id=49, side=9, price=81, weight=81), Square(id=50, side=3, price=9, weight=9), Square(id=51, side=3, price=9, weight=9), Square(id=52, side=3, price=9, weight=9), Square(id=53, side=39, price=1521, weight=1521), Square(id=54, side=6, price=36, weight=36), Square(id=55, side=6, price=36, weight=36), Square(id=56, side=6, price=36, weight=36), Square(id=57, side=6, price=36, weight=36), Square(id=58, side=6, price=36, weight=36), Square(id=59, side=6, price=36, weight=36), Square(id=60, side=3, price=9, weight=9), Square(id=61, side=3, price=9, weight=9), Square(id=62, side=10, price=100, weight=100), Square(id=63, side=8, price=64, weight=64), Square(id=64, side=2, price=4, weight=4), Square(id=65, side=2, price=4, weight=4), Square(id=66, side=2, price=4, weight=4), Square(id=67, side=2, price=4, weight=4), Square(id=68, side=30, price=900, weight=900), Square(id=69, side=12, price=144, weight=144), Square(id=70, side=12, price=144, weight=144), Square(id=71, side=6, price=36, weight=36), Square(id=72, side=6, price=36, weight=36), Square(id=73, side=17, price=289, weight=289), Square(id=74, side=9, price=81, weight=81), Square(id=75, side=8, price=64, weight=64), Square(id=76, side=1, price=1, weight=1), Square(id=77, side=1, price=1, weight=1), Square(id=78, side=1, price=1, weight=1), Square(id=79, side=1, price=1, weight=1), Square(id=80, side=1, price=1, weight=1), Square(id=81, side=1, price=1, weight=1), Square(id=82, side=1, price=1, weight=1), Square(id=83, side=1, price=1, weight=1), Square(id=84, side=26, price=676, weight=676), Square(id=85, side=4, price=16, weight=16), Square(id=86, side=4, price=16, weight=16), Square(id=87, side=2, price=4, weight=4), Square(id=88, side=2, price=4, weight=4), Square(id=89, side=15, price=225, weight=225), Square(id=90, side=2, price=4, weight=4), Square(id=91, side=2, price=4, weight=4), Square(id=92, side=2, price=4, weight=4), Square(id=93, side=2, price=4, weight=4), Square(id=94, side=2, price=4, weight=4), Square(id=95, side=2, price=4, weight=4), Square(id=96, side=2, price=4, weight=4), Square(id=97, side=1, price=1, weight=1), Square(id=98, side=1, price=1, weight=1), Square(id=99, side=10, price=100, weight=100), Square(id=100, side=1, price=1, weight=1), Square(id=101, side=1, price=1, weight=1), Square(id=102, side=1, price=1, weight=1), Square(id=103, side=1, price=1, weight=1), Square(id=104, side=1, price=1, weight=1), Square(id=105, side=1, price=1, weight=1), Square(id=106, side=1, price=1, weight=1), Square(id=107, side=1, price=1, weight=1), Square(id=108, side=1, price=1, weight=1), Square(id=109, side=1, price=1, weight=1), Square(id=110, side=35, price=1225, weight=1225), Square(id=111, side=35, price=1225, weight=1225), Square(id=112, side=1, price=1, weight=1), Square(id=113, side=1, price=1, weight=1), Square(id=114, side=1, price=1, weight=1), Square(id=115, side=1, price=1, weight=1), Square(id=116, side=1, price=1, weight=1), Square(id=117, side=1, price=1, weight=1), Square(id=118, side=1, price=1, weight=1), Square(id=119, side=1, price=1, weight=1), Square(id=120, side=1, price=1, weight=1), Square(id=121, side=1, price=1, weight=1), Square(id=122, side=1, price=1, weight=1), Square(id=123, side=1, price=1, weight=1), Square(id=124, side=1, price=1, weight=1), Square(id=125, side=1, price=1, weight=1), Square(id=126, side=1, price=1, weight=1), Square(id=127, side=1, price=1, weight=1), Square(id=128, side=1, price=1, weight=1), Square(id=129, side=1, price=1, weight=1), Square(id=130, side=1, price=1, weight=1), Square(id=131, side=1, price=1, weight=1), Square(id=132, side=1, price=1, weight=1), Square(id=133, side=1, price=1, weight=1), Square(id=134, side=1, price=1, weight=1), Square(id=135, side=1, price=1, weight=1), Square(id=136, side=1, price=1, weight=1), Square(id=137, side=1, price=1, weight=1), Square(id=138, side=1, price=1, weight=1), Square(id=139, side=1, price=1, weight=1), Square(id=140, side=1, price=1, weight=1), Square(id=141, side=1, price=1, weight=1), Square(id=142, side=1, price=1, weight=1), Square(id=143, side=1, price=1, weight=1), Square(id=144, side=1, price=1, weight=1), Square(id=145, side=1, price=1, weight=1), Square(id=146, side=1, price=1, weight=1), Square(id=147, side=4, price=16, weight=16), Square(id=148, side=3, price=9, weight=9), Square(id=149, side=1, price=1, weight=1), Square(id=150, side=1, price=1, weight=1), Square(id=151, side=1, price=1, weight=1), Square(id=152, side=7, price=49, weight=49), Square(id=153, side=26, price=676, weight=676), Square(id=154, side=16, price=256, weight=256), Square(id=155, side=10, price=100, weight=100), Square(id=156, side=6, price=36, weight=36), Square(id=157, side=4, price=16, weight=16), Square(id=158, side=2, price=4, weight=4), Square(id=159, side=2, price=4, weight=4), Square(id=160, side=18, price=324, weight=324), Square(id=161, side=18, price=324, weight=324), Square(id=162, side=6, price=36, weight=36), Square(id=163, side=6, price=36, weight=36), Square(id=164, side=6, price=36, weight=36), Square(id=165, side=8, price=64, weight=64), Square(id=166, side=8, price=64, weight=64), Square(id=167, side=6, price=36, weight=36), Square(id=168, side=2, price=4, weight=4), Square(id=169, side=2, price=4, weight=4), Square(id=170, side=2, price=4, weight=4), Square(id=171, side=8, price=64, weight=64), Square(id=172, side=5, price=25, weight=25), Square(id=173, side=3, price=9, weight=9), Square(id=174, side=2, price=4, weight=4), Square(id=175, side=1, price=1, weight=1), Square(id=176, side=1, price=1, weight=1), Square(id=177, side=2, price=4, weight=4), Square(id=178, side=2, price=4, weight=4), Square(id=179, side=4, price=16, weight=16), Square(id=180, side=1, price=1, weight=1), Square(id=181, side=1, price=1, weight=1), Square(id=182, side=1, price=1, weight=1), Square(id=183, side=1, price=1, weight=1), Square(id=184, side=10, price=100, weight=100), Square(id=185, side=8, price=64, weight=64), Square(id=186, side=2, price=4, weight=4), Square(id=187, side=2, price=4, weight=4), Square(id=188, side=2, price=4, weight=4), Square(id=189, side=2, price=4, weight=4), Square(id=190, side=5, price=25, weight=25), Square(id=191, side=5, price=25, weight=25)]),\n",
       " 'bin_packing-200-2': Problem(width=200, height=400, max_weight=80000, squares=[Square(id=0, side=20, price=400, weight=400), Square(id=1, side=20, price=400, weight=400), Square(id=2, side=20, price=400, weight=400), Square(id=3, side=20, price=400, weight=400), Square(id=4, side=20, price=400, weight=400), Square(id=5, side=20, price=400, weight=400), Square(id=6, side=18, price=324, weight=324), Square(id=7, side=2, price=4, weight=4), Square(id=8, side=2, price=4, weight=4), Square(id=9, side=2, price=4, weight=4), Square(id=10, side=2, price=4, weight=4), Square(id=11, side=2, price=4, weight=4), Square(id=12, side=2, price=4, weight=4), Square(id=13, side=2, price=4, weight=4), Square(id=14, side=2, price=4, weight=4), Square(id=15, side=2, price=4, weight=4), Square(id=16, side=60, price=3600, weight=3600), Square(id=17, side=53, price=2809, weight=2809), Square(id=18, side=7, price=49, weight=49), Square(id=19, side=7, price=49, weight=49), Square(id=20, side=7, price=49, weight=49), Square(id=21, side=7, price=49, weight=49), Square(id=22, side=7, price=49, weight=49), Square(id=23, side=7, price=49, weight=49), Square(id=24, side=7, price=49, weight=49), Square(id=25, side=4, price=16, weight=16), Square(id=26, side=3, price=9, weight=9), Square(id=27, side=1, price=1, weight=1), Square(id=28, side=1, price=1, weight=1), Square(id=29, side=1, price=1, weight=1), Square(id=30, side=92, price=8464, weight=8464), Square(id=31, side=34, price=1156, weight=1156), Square(id=32, side=34, price=1156, weight=1156), Square(id=33, side=24, price=576, weight=576), Square(id=34, side=10, price=100, weight=100), Square(id=35, side=10, price=100, weight=100), Square(id=36, side=4, price=16, weight=16), Square(id=37, side=4, price=16, weight=16), Square(id=38, side=2, price=4, weight=4), Square(id=39, side=2, price=4, weight=4), Square(id=40, side=15, price=225, weight=225), Square(id=41, side=15, price=225, weight=225), Square(id=42, side=6, price=36, weight=36), Square(id=43, side=6, price=36, weight=36), Square(id=44, side=3, price=9, weight=9), Square(id=45, side=3, price=9, weight=9), Square(id=46, side=12, price=144, weight=144), Square(id=47, side=5, price=25, weight=25), Square(id=48, side=5, price=25, weight=25), Square(id=49, side=2, price=4, weight=4), Square(id=50, side=2, price=4, weight=4), Square(id=51, side=1, price=1, weight=1), Square(id=52, side=1, price=1, weight=1), Square(id=53, side=18, price=324, weight=324), Square(id=54, side=8, price=64, weight=64), Square(id=55, side=8, price=64, weight=64), Square(id=56, side=2, price=4, weight=4), Square(id=57, side=2, price=4, weight=4), Square(id=58, side=2, price=4, weight=4), Square(id=59, side=2, price=4, weight=4), Square(id=60, side=31, price=961, weight=961), Square(id=61, side=6, price=36, weight=36), Square(id=62, side=6, price=36, weight=36), Square(id=63, side=6, price=36, weight=36), Square(id=64, side=6, price=36, weight=36), Square(id=65, side=6, price=36, weight=36), Square(id=66, side=1, price=1, weight=1), Square(id=67, side=1, price=1, weight=1), Square(id=68, side=1, price=1, weight=1), Square(id=69, side=1, price=1, weight=1), Square(id=70, side=1, price=1, weight=1), Square(id=71, side=1, price=1, weight=1), Square(id=72, side=5, price=25, weight=25), Square(id=73, side=5, price=25, weight=25), Square(id=74, side=5, price=25, weight=25), Square(id=75, side=5, price=25, weight=25), Square(id=76, side=5, price=25, weight=25), Square(id=77, side=5, price=25, weight=25), Square(id=78, side=5, price=25, weight=25), Square(id=79, side=5, price=25, weight=25), Square(id=80, side=5, price=25, weight=25), Square(id=81, side=5, price=25, weight=25), Square(id=82, side=5, price=25, weight=25), Square(id=83, side=5, price=25, weight=25), Square(id=84, side=5, price=25, weight=25), Square(id=85, side=5, price=25, weight=25), Square(id=86, side=4, price=16, weight=16), Square(id=87, side=1, price=1, weight=1), Square(id=88, side=1, price=1, weight=1), Square(id=89, side=1, price=1, weight=1), Square(id=90, side=1, price=1, weight=1), Square(id=91, side=19, price=361, weight=361), Square(id=92, side=15, price=225, weight=225), Square(id=93, side=4, price=16, weight=16), Square(id=94, side=4, price=16, weight=16), Square(id=95, side=4, price=16, weight=16), Square(id=96, side=3, price=9, weight=9), Square(id=97, side=1, price=1, weight=1), Square(id=98, side=1, price=1, weight=1), Square(id=99, side=1, price=1, weight=1), Square(id=100, side=15, price=225, weight=225), Square(id=101, side=15, price=225, weight=225), Square(id=102, side=11, price=121, weight=121), Square(id=103, side=4, price=16, weight=16), Square(id=104, side=4, price=16, weight=16), Square(id=105, side=3, price=9, weight=9), Square(id=106, side=1, price=1, weight=1), Square(id=107, side=1, price=1, weight=1), Square(id=108, side=1, price=1, weight=1), Square(id=109, side=1, price=1, weight=1), Square(id=110, side=1, price=1, weight=1), Square(id=111, side=1, price=1, weight=1), Square(id=112, side=6, price=36, weight=36), Square(id=113, side=6, price=36, weight=36), Square(id=114, side=6, price=36, weight=36), Square(id=115, side=6, price=36, weight=36), Square(id=116, side=6, price=36, weight=36), Square(id=117, side=6, price=36, weight=36), Square(id=118, side=1, price=1, weight=1), Square(id=119, side=1, price=1, weight=1), Square(id=120, side=1, price=1, weight=1), Square(id=121, side=1, price=1, weight=1), Square(id=122, side=1, price=1, weight=1), Square(id=123, side=1, price=1, weight=1), Square(id=124, side=6, price=36, weight=36), Square(id=125, side=34, price=1156, weight=1156), Square(id=126, side=34, price=1156, weight=1156), Square(id=127, side=10, price=100, weight=100), Square(id=128, side=10, price=100, weight=100), Square(id=129, side=10, price=100, weight=100), Square(id=130, side=4, price=16, weight=16), Square(id=131, side=4, price=16, weight=16), Square(id=132, side=2, price=4, weight=4), Square(id=133, side=2, price=4, weight=4), Square(id=134, side=12, price=144, weight=144), Square(id=135, side=12, price=144, weight=144), Square(id=136, side=10, price=100, weight=100), Square(id=137, side=2, price=4, weight=4), Square(id=138, side=2, price=4, weight=4), Square(id=139, side=2, price=4, weight=4), Square(id=140, side=2, price=4, weight=4), Square(id=141, side=2, price=4, weight=4), Square(id=142, side=3, price=9, weight=9), Square(id=143, side=1, price=1, weight=1), Square(id=144, side=1, price=1, weight=1), Square(id=145, side=1, price=1, weight=1), Square(id=146, side=1, price=1, weight=1), Square(id=147, side=1, price=1, weight=1), Square(id=148, side=1, price=1, weight=1), Square(id=149, side=26, price=676, weight=676), Square(id=150, side=12, price=144, weight=144), Square(id=151, side=12, price=144, weight=144), Square(id=152, side=2, price=4, weight=4), Square(id=153, side=2, price=4, weight=4), Square(id=154, side=2, price=4, weight=4), Square(id=155, side=2, price=4, weight=4), Square(id=156, side=2, price=4, weight=4), Square(id=157, side=2, price=4, weight=4), Square(id=158, side=28, price=784, weight=784), Square(id=159, side=1, price=1, weight=1), Square(id=160, side=1, price=1, weight=1), Square(id=161, side=1, price=1, weight=1), Square(id=162, side=1, price=1, weight=1), Square(id=163, side=1, price=1, weight=1), Square(id=164, side=1, price=1, weight=1), Square(id=165, side=1, price=1, weight=1), Square(id=166, side=1, price=1, weight=1), Square(id=167, side=1, price=1, weight=1), Square(id=168, side=1, price=1, weight=1), Square(id=169, side=1, price=1, weight=1), Square(id=170, side=1, price=1, weight=1), Square(id=171, side=1, price=1, weight=1), Square(id=172, side=1, price=1, weight=1), Square(id=173, side=1, price=1, weight=1), Square(id=174, side=1, price=1, weight=1), Square(id=175, side=1, price=1, weight=1), Square(id=176, side=1, price=1, weight=1), Square(id=177, side=1, price=1, weight=1), Square(id=178, side=1, price=1, weight=1), Square(id=179, side=1, price=1, weight=1), Square(id=180, side=1, price=1, weight=1), Square(id=181, side=1, price=1, weight=1), Square(id=182, side=1, price=1, weight=1), Square(id=183, side=1, price=1, weight=1), Square(id=184, side=1, price=1, weight=1), Square(id=185, side=1, price=1, weight=1), Square(id=186, side=1, price=1, weight=1), Square(id=187, side=6, price=36, weight=36), Square(id=188, side=6, price=36, weight=36), Square(id=189, side=6, price=36, weight=36), Square(id=190, side=6, price=36, weight=36), Square(id=191, side=5, price=25, weight=25), Square(id=192, side=1, price=1, weight=1), Square(id=193, side=1, price=1, weight=1), Square(id=194, side=1, price=1, weight=1), Square(id=195, side=1, price=1, weight=1), Square(id=196, side=1, price=1, weight=1), Square(id=197, side=36, price=1296, weight=1296), Square(id=198, side=20, price=400, weight=400), Square(id=199, side=16, price=256, weight=256), Square(id=200, side=4, price=16, weight=16), Square(id=201, side=4, price=16, weight=16), Square(id=202, side=4, price=16, weight=16), Square(id=203, side=4, price=16, weight=16), Square(id=204, side=24, price=576, weight=576), Square(id=205, side=24, price=576, weight=576), Square(id=206, side=8, price=64, weight=64), Square(id=207, side=8, price=64, weight=64), Square(id=208, side=8, price=64, weight=64), Square(id=209, side=66, price=4356, weight=4356), Square(id=210, side=34, price=1156, weight=1156), Square(id=211, side=32, price=1024, weight=1024), Square(id=212, side=2, price=4, weight=4), Square(id=213, side=2, price=4, weight=4), Square(id=214, side=2, price=4, weight=4), Square(id=215, side=2, price=4, weight=4), Square(id=216, side=2, price=4, weight=4), Square(id=217, side=2, price=4, weight=4), Square(id=218, side=2, price=4, weight=4), Square(id=219, side=2, price=4, weight=4), Square(id=220, side=2, price=4, weight=4), Square(id=221, side=2, price=4, weight=4), Square(id=222, side=2, price=4, weight=4), Square(id=223, side=2, price=4, weight=4), Square(id=224, side=2, price=4, weight=4), Square(id=225, side=2, price=4, weight=4), Square(id=226, side=2, price=4, weight=4), Square(id=227, side=2, price=4, weight=4), Square(id=228, side=48, price=2304, weight=2304), Square(id=229, side=48, price=2304, weight=2304), Square(id=230, side=4, price=16, weight=16), Square(id=231, side=4, price=16, weight=16), Square(id=232, side=4, price=16, weight=16), Square(id=233, side=4, price=16, weight=16), Square(id=234, side=4, price=16, weight=16), Square(id=235, side=4, price=16, weight=16), Square(id=236, side=4, price=16, weight=16), Square(id=237, side=4, price=16, weight=16), Square(id=238, side=4, price=16, weight=16), Square(id=239, side=4, price=16, weight=16), Square(id=240, side=4, price=16, weight=16), Square(id=241, side=4, price=16, weight=16), Square(id=242, side=32, price=1024, weight=1024), Square(id=243, side=8, price=64, weight=64), Square(id=244, side=8, price=64, weight=64), Square(id=245, side=8, price=64, weight=64), Square(id=246, side=8, price=64, weight=64), Square(id=247, side=20, price=400, weight=400), Square(id=248, side=20, price=400, weight=400), Square(id=249, side=20, price=400, weight=400), Square(id=250, side=3, price=9, weight=9), Square(id=251, side=3, price=9, weight=9), Square(id=252, side=3, price=9, weight=9), Square(id=253, side=3, price=9, weight=9), Square(id=254, side=3, price=9, weight=9), Square(id=255, side=3, price=9, weight=9), Square(id=256, side=2, price=4, weight=4), Square(id=257, side=1, price=1, weight=1), Square(id=258, side=1, price=1, weight=1), Square(id=259, side=4, price=16, weight=16), Square(id=260, side=4, price=16, weight=16), Square(id=261, side=3, price=9, weight=9), Square(id=262, side=1, price=1, weight=1), Square(id=263, side=1, price=1, weight=1), Square(id=264, side=1, price=1, weight=1), Square(id=265, side=11, price=121, weight=121), Square(id=266, side=20, price=400, weight=400), Square(id=267, side=20, price=400, weight=400), Square(id=268, side=20, price=400, weight=400), Square(id=269, side=20, price=400, weight=400), Square(id=270, side=20, price=400, weight=400), Square(id=271, side=9, price=81, weight=81), Square(id=272, side=9, price=81, weight=81), Square(id=273, side=2, price=4, weight=4), Square(id=274, side=2, price=4, weight=4), Square(id=275, side=2, price=4, weight=4), Square(id=276, side=2, price=4, weight=4), Square(id=277, side=1, price=1, weight=1), Square(id=278, side=1, price=1, weight=1), Square(id=279, side=32, price=1024, weight=1024), Square(id=280, side=32, price=1024, weight=1024), Square(id=281, side=10, price=100, weight=100), Square(id=282, side=10, price=100, weight=100), Square(id=283, side=10, price=100, weight=100), Square(id=284, side=2, price=4, weight=4), Square(id=285, side=2, price=4, weight=4), Square(id=286, side=2, price=4, weight=4), Square(id=287, side=2, price=4, weight=4), Square(id=288, side=2, price=4, weight=4), Square(id=289, side=15, price=225, weight=225), Square(id=290, side=3, price=9, weight=9), Square(id=291, side=3, price=9, weight=9), Square(id=292, side=3, price=9, weight=9), Square(id=293, side=3, price=9, weight=9), Square(id=294, side=3, price=9, weight=9), Square(id=295, side=8, price=64, weight=64), Square(id=296, side=7, price=49, weight=49), Square(id=297, side=1, price=1, weight=1), Square(id=298, side=1, price=1, weight=1), Square(id=299, side=1, price=1, weight=1), Square(id=300, side=1, price=1, weight=1), Square(id=301, side=1, price=1, weight=1), Square(id=302, side=1, price=1, weight=1), Square(id=303, side=1, price=1, weight=1), Square(id=304, side=20, price=400, weight=400), Square(id=305, side=3, price=9, weight=9), Square(id=306, side=3, price=9, weight=9), Square(id=307, side=3, price=9, weight=9), Square(id=308, side=3, price=9, weight=9), Square(id=309, side=3, price=9, weight=9), Square(id=310, side=3, price=9, weight=9), Square(id=311, side=2, price=4, weight=4), Square(id=312, side=1, price=1, weight=1), Square(id=313, side=1, price=1, weight=1), Square(id=314, side=6, price=36, weight=36), Square(id=315, side=6, price=36, weight=36), Square(id=316, side=6, price=36, weight=36), Square(id=317, side=2, price=4, weight=4), Square(id=318, side=2, price=4, weight=4), Square(id=319, side=2, price=4, weight=4), Square(id=320, side=18, price=324, weight=324), Square(id=321, side=5, price=25, weight=25), Square(id=322, side=5, price=25, weight=25), Square(id=323, side=5, price=25, weight=25), Square(id=324, side=3, price=9, weight=9), Square(id=325, side=2, price=4, weight=4), Square(id=326, side=1, price=1, weight=1), Square(id=327, side=1, price=1, weight=1), Square(id=328, side=13, price=169, weight=169), Square(id=329, side=10, price=100, weight=100), Square(id=330, side=3, price=9, weight=9), Square(id=331, side=3, price=9, weight=9), Square(id=332, side=3, price=9, weight=9), Square(id=333, side=1, price=1, weight=1), Square(id=334, side=1, price=1, weight=1), Square(id=335, side=1, price=1, weight=1), Square(id=336, side=1, price=1, weight=1), Square(id=337, side=1, price=1, weight=1), Square(id=338, side=1, price=1, weight=1), Square(id=339, side=1, price=1, weight=1), Square(id=340, side=4, price=16, weight=16), Square(id=341, side=15, price=225, weight=225), Square(id=342, side=8, price=64, weight=64), Square(id=343, side=7, price=49, weight=49), Square(id=344, side=1, price=1, weight=1), Square(id=345, side=1, price=1, weight=1), Square(id=346, side=1, price=1, weight=1), Square(id=347, side=1, price=1, weight=1), Square(id=348, side=1, price=1, weight=1), Square(id=349, side=1, price=1, weight=1), Square(id=350, side=1, price=1, weight=1), Square(id=351, side=23, price=529, weight=529), Square(id=352, side=23, price=529, weight=529), Square(id=353, side=2, price=4, weight=4), Square(id=354, side=2, price=4, weight=4), Square(id=355, side=2, price=4, weight=4), Square(id=356, side=2, price=4, weight=4), Square(id=357, side=2, price=4, weight=4), Square(id=358, side=2, price=4, weight=4), Square(id=359, side=2, price=4, weight=4), Square(id=360, side=2, price=4, weight=4), Square(id=361, side=2, price=4, weight=4), Square(id=362, side=2, price=4, weight=4), Square(id=363, side=2, price=4, weight=4), Square(id=364, side=1, price=1, weight=1), Square(id=365, side=1, price=1, weight=1), Square(id=366, side=45, price=2025, weight=2025), Square(id=367, side=1, price=1, weight=1), Square(id=368, side=1, price=1, weight=1), Square(id=369, side=1, price=1, weight=1), Square(id=370, side=1, price=1, weight=1), Square(id=371, side=1, price=1, weight=1), Square(id=372, side=1, price=1, weight=1), Square(id=373, side=1, price=1, weight=1), Square(id=374, side=1, price=1, weight=1), Square(id=375, side=1, price=1, weight=1), Square(id=376, side=1, price=1, weight=1), Square(id=377, side=1, price=1, weight=1), Square(id=378, side=1, price=1, weight=1), Square(id=379, side=1, price=1, weight=1), Square(id=380, side=1, price=1, weight=1), Square(id=381, side=1, price=1, weight=1), Square(id=382, side=1, price=1, weight=1), Square(id=383, side=1, price=1, weight=1), Square(id=384, side=1, price=1, weight=1), Square(id=385, side=1, price=1, weight=1), Square(id=386, side=1, price=1, weight=1), Square(id=387, side=1, price=1, weight=1), Square(id=388, side=1, price=1, weight=1), Square(id=389, side=1, price=1, weight=1), Square(id=390, side=1, price=1, weight=1), Square(id=391, side=1, price=1, weight=1), Square(id=392, side=1, price=1, weight=1), Square(id=393, side=1, price=1, weight=1), Square(id=394, side=1, price=1, weight=1), Square(id=395, side=1, price=1, weight=1), Square(id=396, side=1, price=1, weight=1), Square(id=397, side=1, price=1, weight=1), Square(id=398, side=1, price=1, weight=1), Square(id=399, side=1, price=1, weight=1), Square(id=400, side=1, price=1, weight=1), Square(id=401, side=1, price=1, weight=1), Square(id=402, side=1, price=1, weight=1), Square(id=403, side=1, price=1, weight=1), Square(id=404, side=1, price=1, weight=1), Square(id=405, side=1, price=1, weight=1), Square(id=406, side=1, price=1, weight=1), Square(id=407, side=1, price=1, weight=1), Square(id=408, side=1, price=1, weight=1), Square(id=409, side=1, price=1, weight=1), Square(id=410, side=1, price=1, weight=1), Square(id=411, side=1, price=1, weight=1), Square(id=412, side=46, price=2116, weight=2116), Square(id=413, side=29, price=841, weight=841), Square(id=414, side=17, price=289, weight=289), Square(id=415, side=12, price=144, weight=144), Square(id=416, side=5, price=25, weight=25), Square(id=417, side=5, price=25, weight=25), Square(id=418, side=2, price=4, weight=4), Square(id=419, side=2, price=4, weight=4), Square(id=420, side=1, price=1, weight=1), Square(id=421, side=1, price=1, weight=1), Square(id=422, side=5, price=25, weight=25), Square(id=423, side=5, price=25, weight=25), Square(id=424, side=5, price=25, weight=25), Square(id=425, side=5, price=25, weight=25), Square(id=426, side=2, price=4, weight=4), Square(id=427, side=2, price=4, weight=4), Square(id=428, side=1, price=1, weight=1), Square(id=429, side=1, price=1, weight=1), Square(id=430, side=5, price=25, weight=25), Square(id=431, side=5, price=25, weight=25), Square(id=432, side=4, price=16, weight=16), Square(id=433, side=1, price=1, weight=1), Square(id=434, side=1, price=1, weight=1), Square(id=435, side=1, price=1, weight=1), Square(id=436, side=1, price=1, weight=1), Square(id=437, side=33, price=1089, weight=1089), Square(id=438, side=33, price=1089, weight=1089), Square(id=439, side=22, price=484, weight=484), Square(id=440, side=11, price=121, weight=121), Square(id=441, side=11, price=121, weight=121), Square(id=442, side=88, price=7744, weight=7744), Square(id=443, side=38, price=1444, weight=1444), Square(id=444, side=38, price=1444, weight=1444), Square(id=445, side=12, price=144, weight=144), Square(id=446, side=12, price=144, weight=144), Square(id=447, side=12, price=144, weight=144), Square(id=448, side=2, price=4, weight=4), Square(id=449, side=2, price=4, weight=4), Square(id=450, side=2, price=4, weight=4), Square(id=451, side=2, price=4, weight=4), Square(id=452, side=2, price=4, weight=4), Square(id=453, side=2, price=4, weight=4), Square(id=454, side=1, price=1, weight=1), Square(id=455, side=1, price=1, weight=1), Square(id=456, side=1, price=1, weight=1), Square(id=457, side=1, price=1, weight=1), Square(id=458, side=1, price=1, weight=1), Square(id=459, side=1, price=1, weight=1), Square(id=460, side=1, price=1, weight=1), Square(id=461, side=1, price=1, weight=1), Square(id=462, side=1, price=1, weight=1), Square(id=463, side=1, price=1, weight=1), Square(id=464, side=1, price=1, weight=1), Square(id=465, side=1, price=1, weight=1), Square(id=466, side=1, price=1, weight=1), Square(id=467, side=1, price=1, weight=1), Square(id=468, side=14, price=196, weight=196), Square(id=469, side=2, price=4, weight=4), Square(id=470, side=2, price=4, weight=4), Square(id=471, side=2, price=4, weight=4), Square(id=472, side=2, price=4, weight=4), Square(id=473, side=2, price=4, weight=4), Square(id=474, side=2, price=4, weight=4), Square(id=475, side=2, price=4, weight=4), Square(id=476, side=56, price=3136, weight=3136), Square(id=477, side=7, price=49, weight=49), Square(id=478, side=7, price=49, weight=49), Square(id=479, side=7, price=49, weight=49), Square(id=480, side=7, price=49, weight=49), Square(id=481, side=7, price=49, weight=49), Square(id=482, side=7, price=49, weight=49), Square(id=483, side=7, price=49, weight=49), Square(id=484, side=7, price=49, weight=49), Square(id=485, side=15, price=225, weight=225), Square(id=486, side=15, price=225, weight=225), Square(id=487, side=15, price=225, weight=225), Square(id=488, side=15, price=225, weight=225), Square(id=489, side=3, price=9, weight=9), Square(id=490, side=3, price=9, weight=9), Square(id=491, side=3, price=9, weight=9), Square(id=492, side=3, price=9, weight=9), Square(id=493, side=3, price=9, weight=9)])}"
      ]
     },
     "execution_count": 3,
     "metadata": {},
     "output_type": "execute_result"
    }
   ],
   "source": [
    "\n",
    "bin_packing_instances = {}\n",
    "\n",
    "for filename in os.listdir(\"../instances\"):\n",
    "    if not filename.endswith(\"-2.dat\"):\n",
    "        continue\n",
    "\n",
    "    if not filename.startswith(\"bin_packing\"):\n",
    "        continue\n",
    "\n",
    "    name, _ = os.path.splitext(filename)\n",
    "\n",
    "    with open(f\"../instances/{filename}\", \"r\") as f:\n",
    "        dat = parse(f)\n",
    "\n",
    "    problem = Problem.from_dat(dat)\n",
    "\n",
    "    bin_packing_instances[name] = problem\n",
    "\n",
    "bin_packing_instances"
   ]
  },
  {
   "cell_type": "code",
   "execution_count": 4,
   "metadata": {},
   "outputs": [
    {
     "data": {
      "text/plain": [
       "{'mix-200-2': Problem(width=200, height=400, max_weight=79200, squares=[Square(id=0, side=126, price=5, weight=29), Square(id=1, side=37, price=85, weight=45), Square(id=2, side=37, price=77, weight=50), Square(id=3, side=37, price=52, weight=98), Square(id=4, side=15, price=68, weight=40), Square(id=5, side=15, price=39, weight=94), Square(id=6, side=7, price=49, weight=54), Square(id=7, side=7, price=26, weight=24), Square(id=8, side=1, price=73, weight=51), Square(id=9, side=1, price=61, weight=75), Square(id=10, side=1, price=31, weight=57), Square(id=11, side=1, price=22, weight=97), Square(id=12, side=1, price=34, weight=26), Square(id=13, side=1, price=44, weight=5), Square(id=14, side=1, price=58, weight=16), Square(id=15, side=6, price=33, weight=8), Square(id=16, side=4, price=25, weight=12), Square(id=17, side=2, price=36, weight=43), Square(id=18, side=2, price=35, weight=86), Square(id=19, side=61, price=18, weight=36), Square(id=20, side=61, price=69, weight=20), Square(id=21, side=5, price=91, weight=94), Square(id=22, side=5, price=27, weight=54), Square(id=23, side=5, price=35, weight=39), Square(id=24, side=5, price=12, weight=26), Square(id=25, side=5, price=67, weight=81), Square(id=26, side=5, price=38, weight=59), Square(id=27, side=5, price=83, weight=79), Square(id=28, side=5, price=18, weight=44), Square(id=29, side=5, price=45, weight=36), Square(id=30, side=5, price=64, weight=37), Square(id=31, side=5, price=27, weight=35), Square(id=32, side=5, price=36, weight=57), Square(id=33, side=1, price=21, weight=7), Square(id=34, side=1, price=37, weight=22), Square(id=35, side=1, price=97, weight=60), Square(id=36, side=1, price=1, weight=32), Square(id=37, side=1, price=35, weight=39), Square(id=38, side=36, price=20, weight=41), Square(id=39, side=25, price=32, weight=78), Square(id=40, side=11, price=57, weight=78), Square(id=41, side=11, price=11, weight=100), Square(id=42, side=3, price=85, weight=4), Square(id=43, side=3, price=55, weight=50), Square(id=44, side=3, price=10, weight=24), Square(id=45, side=2, price=72, weight=91), Square(id=46, side=1, price=10, weight=24), Square(id=47, side=1, price=62, weight=9), Square(id=48, side=12, price=67, weight=89), Square(id=49, side=10, price=14, weight=24), Square(id=50, side=2, price=42, weight=34), Square(id=51, side=2, price=84, weight=55), Square(id=52, side=2, price=56, weight=86), Square(id=53, side=2, price=57, weight=63), Square(id=54, side=2, price=2, weight=15), Square(id=55, side=24, price=30, weight=15), Square(id=56, side=13, price=79, weight=55), Square(id=57, side=11, price=31, weight=78), Square(id=58, side=2, price=78, weight=4), Square(id=59, side=2, price=18, weight=67), Square(id=60, side=2, price=59, weight=8), Square(id=61, side=2, price=9, weight=63), Square(id=62, side=2, price=28, weight=71), Square(id=63, side=1, price=54, weight=96), Square(id=64, side=1, price=26, weight=38), Square(id=65, side=37, price=54, weight=96), Square(id=66, side=37, price=78, weight=49), Square(id=67, side=7, price=43, weight=82), Square(id=68, side=7, price=74, weight=86), Square(id=69, side=7, price=32, weight=29), Square(id=70, side=7, price=23, weight=75), Square(id=71, side=7, price=35, weight=6), Square(id=72, side=2, price=58, weight=21), Square(id=73, side=2, price=45, weight=94), Square(id=74, side=2, price=79, weight=12), Square(id=75, side=1, price=40, weight=21), Square(id=76, side=1, price=78, weight=40), Square(id=77, side=6, price=60, weight=82), Square(id=78, side=18, price=53, weight=66), Square(id=79, side=18, price=46, weight=54), Square(id=80, side=10, price=76, weight=92), Square(id=81, side=8, price=32, weight=53), Square(id=82, side=2, price=60, weight=5), Square(id=83, side=2, price=13, weight=66), Square(id=84, side=2, price=47, weight=58), Square(id=85, side=2, price=36, weight=46), Square(id=86, side=2, price=59, weight=58), Square(id=87, side=2, price=7, weight=44), Square(id=88, side=2, price=96, weight=4), Square(id=89, side=1, price=13, weight=63), Square(id=90, side=1, price=99, weight=90), Square(id=91, side=2, price=22, weight=59), Square(id=92, side=1, price=94, weight=77), Square(id=93, side=1, price=75, weight=94), Square(id=94, side=1, price=86, weight=8), Square(id=95, side=1, price=74, weight=44), Square(id=96, side=20, price=83, weight=33), Square(id=97, side=17, price=83, weight=75), Square(id=98, side=3, price=77, weight=8), Square(id=99, side=3, price=54, weight=5), Square(id=100, side=3, price=17, weight=82), Square(id=101, side=3, price=62, weight=27), Square(id=102, side=3, price=65, weight=39), Square(id=103, side=2, price=34, weight=41), Square(id=104, side=1, price=98, weight=88), Square(id=105, side=1, price=52, weight=27), Square(id=106, side=8, price=5, weight=14), Square(id=107, side=8, price=14, weight=86), Square(id=108, side=16, price=7, weight=4), Square(id=109, side=16, price=76, weight=3), Square(id=110, side=16, price=30, weight=70), Square(id=111, side=12, price=42, weight=68), Square(id=112, side=4, price=8, weight=82), Square(id=113, side=4, price=90, weight=61), Square(id=114, side=4, price=41, weight=13), Square(id=115, side=12, price=16, weight=5), Square(id=116, side=12, price=1, weight=88), Square(id=117, side=11, price=26, weight=60), Square(id=118, side=1, price=73, weight=30), Square(id=119, side=1, price=71, weight=77), Square(id=120, side=1, price=24, weight=44), Square(id=121, side=1, price=7, weight=9), Square(id=122, side=1, price=63, weight=45), Square(id=123, side=1, price=44, weight=10), Square(id=124, side=1, price=15, weight=14), Square(id=125, side=1, price=12, weight=45), Square(id=126, side=1, price=92, weight=53), Square(id=127, side=1, price=51, weight=48), Square(id=128, side=1, price=51, weight=49), Square(id=129, side=25, price=55, weight=51), Square(id=130, side=10, price=91, weight=31), Square(id=131, side=10, price=85, weight=89), Square(id=132, side=5, price=64, weight=23), Square(id=133, side=5, price=67, weight=22), Square(id=134, side=5, price=23, weight=50), Square(id=135, side=5, price=53, weight=72), Square(id=136, side=5, price=15, weight=62), Square(id=137, side=5, price=93, weight=75), Square(id=138, side=5, price=53, weight=61), Square(id=139, side=3, price=84, weight=41), Square(id=140, side=2, price=69, weight=32), Square(id=141, side=1, price=65, weight=66), Square(id=142, side=1, price=69, weight=92), Square(id=143, side=2, price=92, weight=38), Square(id=144, side=2, price=53, weight=27), Square(id=145, side=12, price=51, weight=25), Square(id=146, side=3, price=69, weight=25), Square(id=147, side=3, price=36, weight=2), Square(id=148, side=3, price=68, weight=88), Square(id=149, side=3, price=2, weight=16), Square(id=150, side=17, price=45, weight=87), Square(id=151, side=1, price=87, weight=44), Square(id=152, side=1, price=38, weight=20), Square(id=153, side=1, price=13, weight=2), Square(id=154, side=1, price=18, weight=99), Square(id=155, side=1, price=5, weight=27), Square(id=156, side=1, price=28, weight=35), Square(id=157, side=1, price=53, weight=89), Square(id=158, side=1, price=45, weight=8), Square(id=159, side=1, price=36, weight=86), Square(id=160, side=1, price=3, weight=13), Square(id=161, side=1, price=99, weight=37), Square(id=162, side=1, price=17, weight=30), Square(id=163, side=1, price=33, weight=15), Square(id=164, side=1, price=39, weight=77), Square(id=165, side=1, price=68, weight=63), Square(id=166, side=1, price=58, weight=81), Square(id=167, side=1, price=45, weight=6), Square(id=168, side=1, price=10, weight=44), Square(id=169, side=1, price=99, weight=82), Square(id=170, side=18, price=44, weight=93), Square(id=171, side=18, price=50, weight=18), Square(id=172, side=1, price=17, weight=75), Square(id=173, side=1, price=70, weight=3), Square(id=174, side=1, price=32, weight=1), Square(id=175, side=1, price=37, weight=17), Square(id=176, side=1, price=94, weight=75), Square(id=177, side=1, price=28, weight=61), Square(id=178, side=1, price=16, weight=27), Square(id=179, side=1, price=27, weight=64), Square(id=180, side=1, price=89, weight=24), Square(id=181, side=1, price=18, weight=34), Square(id=182, side=1, price=2, weight=79), Square(id=183, side=1, price=87, weight=88), Square(id=184, side=1, price=23, weight=68), Square(id=185, side=1, price=93, weight=3), Square(id=186, side=1, price=50, weight=55), Square(id=187, side=1, price=59, weight=58), Square(id=188, side=1, price=32, weight=64), Square(id=189, side=1, price=86, weight=18), Square(id=190, side=3, price=73, weight=56), Square(id=191, side=1, price=36, weight=58), Square(id=192, side=1, price=89, weight=31), Square(id=193, side=1, price=63, weight=4), Square(id=194, side=2, price=100, weight=59), Square(id=195, side=1, price=84, weight=49), Square(id=196, side=1, price=73, weight=83), Square(id=197, side=1, price=10, weight=88), Square(id=198, side=1, price=57, weight=42), Square(id=199, side=5, price=17, weight=64), Square(id=200, side=2, price=39, weight=37), Square(id=201, side=2, price=37, weight=16), Square(id=202, side=1, price=38, weight=80), Square(id=203, side=1, price=100, weight=60), Square(id=204, side=2, price=11, weight=96), Square(id=205, side=2, price=15, weight=81), Square(id=206, side=1, price=79, weight=71), Square(id=207, side=1, price=87, weight=7), Square(id=208, side=2, price=45, weight=25), Square(id=209, side=2, price=36, weight=92), Square(id=210, side=1, price=90, weight=23), Square(id=211, side=1, price=88, weight=100), Square(id=212, side=2, price=20, weight=91), Square(id=213, side=2, price=28, weight=25), Square(id=214, side=2, price=36, weight=14), Square(id=215, side=16, price=8, weight=16), Square(id=216, side=16, price=17, weight=67), Square(id=217, side=16, price=22, weight=73), Square(id=218, side=10, price=32, weight=37), Square(id=219, side=8, price=95, weight=89), Square(id=220, side=2, price=71, weight=87), Square(id=221, side=2, price=43, weight=65), Square(id=222, side=2, price=36, weight=68), Square(id=223, side=2, price=48, weight=63), Square(id=224, side=18, price=3, weight=49), Square(id=225, side=8, price=91, weight=98), Square(id=226, side=8, price=20, weight=10), Square(id=227, side=2, price=30, weight=78), Square(id=228, side=2, price=46, weight=73), Square(id=229, side=2, price=18, weight=9), Square(id=230, side=2, price=11, weight=1), Square(id=231, side=7, price=13, weight=48), Square(id=232, side=5, price=90, weight=1), Square(id=233, side=2, price=88, weight=61), Square(id=234, side=2, price=47, weight=48), Square(id=235, side=1, price=11, weight=64), Square(id=236, side=1, price=25, weight=21), Square(id=237, side=18, price=41, weight=68), Square(id=238, side=18, price=19, weight=11), Square(id=239, side=6, price=58, weight=36), Square(id=240, side=6, price=82, weight=86), Square(id=241, side=6, price=83, weight=79), Square(id=242, side=4, price=97, weight=86), Square(id=243, side=1, price=27, weight=1), Square(id=244, side=1, price=52, weight=27), Square(id=245, side=1, price=88, weight=47), Square(id=246, side=1, price=19, weight=9), Square(id=247, side=5, price=73, weight=48), Square(id=248, side=3, price=3, weight=2), Square(id=249, side=2, price=93, weight=26), Square(id=250, side=1, price=77, weight=93), Square(id=251, side=1, price=50, weight=1), Square(id=252, side=5, price=89, weight=76), Square(id=253, side=2, price=45, weight=36), Square(id=254, side=2, price=80, weight=28), Square(id=255, side=1, price=93, weight=74), Square(id=256, side=1, price=67, weight=38), Square(id=257, side=3, price=6, weight=63), Square(id=258, side=3, price=49, weight=37), Square(id=259, side=1, price=72, weight=34), Square(id=260, side=1, price=64, weight=26), Square(id=261, side=1, price=1, weight=48), Square(id=262, side=175, price=18, weight=58), Square(id=263, side=7, price=13, weight=1), Square(id=264, side=7, price=9, weight=49), Square(id=265, side=7, price=33, weight=19), Square(id=266, side=7, price=69, weight=74), Square(id=267, side=7, price=62, weight=75), Square(id=268, side=7, price=33, weight=99), Square(id=269, side=7, price=33, weight=43), Square(id=270, side=7, price=27, weight=83), Square(id=271, side=7, price=66, weight=76), Square(id=272, side=7, price=3, weight=19), Square(id=273, side=7, price=75, weight=73), Square(id=274, side=7, price=5, weight=67), Square(id=275, side=7, price=10, weight=23), Square(id=276, side=7, price=83, weight=80), Square(id=277, side=7, price=4, weight=55), Square(id=278, side=7, price=24, weight=30), Square(id=279, side=7, price=23, weight=49), Square(id=280, side=7, price=68, weight=66), Square(id=281, side=7, price=12, weight=82), Square(id=282, side=7, price=71, weight=39), Square(id=283, side=7, price=99, weight=77), Square(id=284, side=7, price=60, weight=65), Square(id=285, side=7, price=59, weight=36), Square(id=286, side=7, price=88, weight=95), Square(id=287, side=7, price=5, weight=11), Square(id=288, side=22, price=29, weight=29), Square(id=289, side=22, price=99, weight=93), Square(id=290, side=22, price=13, weight=43), Square(id=291, side=22, price=85, weight=32), Square(id=292, side=22, price=66, weight=89), Square(id=293, side=22, price=83, weight=41), Square(id=294, side=22, price=39, weight=62), Square(id=295, side=22, price=77, weight=72), Square(id=296, side=6, price=26, weight=29), Square(id=297, side=6, price=43, weight=81), Square(id=298, side=6, price=68, weight=46), Square(id=299, side=4, price=40, weight=86), Square(id=300, side=2, price=75, weight=56), Square(id=301, side=2, price=52, weight=42), Square(id=302, side=7, price=19, weight=45), Square(id=303, side=7, price=54, weight=13), Square(id=304, side=2, price=55, weight=46), Square(id=305, side=2, price=80, weight=21), Square(id=306, side=2, price=20, weight=99), Square(id=307, side=1, price=27, weight=69), Square(id=308, side=1, price=39, weight=95), Square(id=309, side=16, price=74, weight=75), Square(id=310, side=16, price=63, weight=28), Square(id=311, side=16, price=51, weight=63), Square(id=312, side=16, price=96, weight=95), Square(id=313, side=13, price=32, weight=92), Square(id=314, side=3, price=61, weight=80), Square(id=315, side=3, price=83, weight=19), Square(id=316, side=3, price=88, weight=56), Square(id=317, side=3, price=48, weight=14), Square(id=318, side=1, price=64, weight=7), Square(id=319, side=1, price=63, weight=9), Square(id=320, side=1, price=73, weight=98), Square(id=321, side=8, price=68, weight=59), Square(id=322, side=8, price=72, weight=89), Square(id=323, side=2, price=30, weight=63), Square(id=324, side=2, price=26, weight=83), Square(id=325, side=2, price=9, weight=58), Square(id=326, side=2, price=59, weight=25), Square(id=327, side=6, price=32, weight=38), Square(id=328, side=5, price=70, weight=54), Square(id=329, side=1, price=81, weight=87), Square(id=330, side=1, price=46, weight=98), Square(id=331, side=1, price=11, weight=26), Square(id=332, side=1, price=81, weight=70), Square(id=333, side=1, price=88, weight=16), Square(id=334, side=6, price=26, weight=18), Square(id=335, side=5, price=22, weight=22), Square(id=336, side=1, price=81, weight=96), Square(id=337, side=1, price=20, weight=50), Square(id=338, side=1, price=16, weight=86), Square(id=339, side=1, price=58, weight=54), Square(id=340, side=1, price=72, weight=100), Square(id=341, side=6, price=5, weight=82), Square(id=342, side=4, price=13, weight=86), Square(id=343, side=2, price=63, weight=70), Square(id=344, side=2, price=16, weight=4), Square(id=345, side=1, price=29, weight=61), Square(id=346, side=1, price=80, weight=97), Square(id=347, side=1, price=6, weight=46), Square(id=348, side=1, price=40, weight=67), Square(id=349, side=1, price=38, weight=84), Square(id=350, side=1, price=48, weight=21)]),\n",
       " 'mix-100-2': Problem(width=100, height=200, max_weight=19800, squares=[Square(id=0, side=100, price=68, weight=83), Square(id=1, side=73, price=87, weight=56), Square(id=2, side=27, price=3, weight=28), Square(id=3, side=27, price=76, weight=22), Square(id=4, side=19, price=59, weight=60), Square(id=5, side=8, price=5, weight=50), Square(id=6, side=8, price=68, weight=31), Square(id=7, side=3, price=33, weight=14), Square(id=8, side=3, price=4, weight=63), Square(id=9, side=2, price=34, weight=64), Square(id=10, side=1, price=1, weight=83), Square(id=11, side=1, price=9, weight=86), Square(id=12, side=4, price=85, weight=31), Square(id=13, side=3, price=99, weight=18), Square(id=14, side=1, price=12, weight=70), Square(id=15, side=1, price=5, weight=91), Square(id=16, side=1, price=70, weight=49), Square(id=17, side=4, price=28, weight=97), Square(id=18, side=4, price=55, weight=97), Square(id=19, side=4, price=47, weight=27), Square(id=20, side=18, price=8, weight=75), Square(id=21, side=9, price=86, weight=23), Square(id=22, side=9, price=60, weight=28), Square(id=23, side=4, price=12, weight=84), Square(id=24, side=4, price=39, weight=52), Square(id=25, side=4, price=25, weight=7), Square(id=26, side=4, price=20, weight=84), Square(id=27, side=4, price=29, weight=12), Square(id=28, side=4, price=32, weight=16), Square(id=29, side=3, price=13, weight=16), Square(id=30, side=1, price=25, weight=90), Square(id=31, side=1, price=68, weight=47), Square(id=32, side=1, price=62, weight=26), Square(id=33, side=10, price=5, weight=45), Square(id=34, side=5, price=15, weight=16), Square(id=35, side=5, price=87, weight=32), Square(id=36, side=7, price=24, weight=68), Square(id=37, side=7, price=2, weight=83), Square(id=38, side=1, price=21, weight=60), Square(id=39, side=1, price=83, weight=90), Square(id=40, side=1, price=91, weight=45), Square(id=41, side=1, price=3, weight=46), Square(id=42, side=1, price=44, weight=5), Square(id=43, side=1, price=17, weight=40), Square(id=44, side=1, price=63, weight=32), Square(id=45, side=5, price=28, weight=35), Square(id=46, side=5, price=67, weight=33), Square(id=47, side=5, price=95, weight=47), Square(id=48, side=5, price=83, weight=48), Square(id=49, side=5, price=85, weight=24), Square(id=50, side=2, price=38, weight=17), Square(id=51, side=2, price=5, weight=2), Square(id=52, side=1, price=87, weight=16), Square(id=53, side=1, price=62, weight=95), Square(id=54, side=3, price=53, weight=75), Square(id=55, side=3, price=33, weight=70), Square(id=56, side=3, price=24, weight=4), Square(id=57, side=3, price=99, weight=93), Square(id=58, side=3, price=37, weight=28), Square(id=59, side=4, price=74, weight=12), Square(id=60, side=3, price=48, weight=38), Square(id=61, side=1, price=50, weight=59), Square(id=62, side=1, price=59, weight=72), Square(id=63, side=1, price=93, weight=38), Square(id=64, side=1, price=78, weight=68), Square(id=65, side=1, price=77, weight=62), Square(id=66, side=1, price=67, weight=73), Square(id=67, side=1, price=4, weight=59), Square(id=68, side=2, price=8, weight=22), Square(id=69, side=1, price=46, weight=64), Square(id=70, side=1, price=66, weight=13), Square(id=71, side=15, price=95, weight=66), Square(id=72, side=4, price=21, weight=78), Square(id=73, side=4, price=48, weight=73), Square(id=74, side=4, price=74, weight=5), Square(id=75, side=3, price=81, weight=4), Square(id=76, side=1, price=82, weight=3), Square(id=77, side=1, price=66, weight=91), Square(id=78, side=1, price=69, weight=15), Square(id=79, side=2, price=38, weight=90), Square(id=80, side=2, price=15, weight=24), Square(id=81, side=2, price=68, weight=47), Square(id=82, side=2, price=17, weight=58), Square(id=83, side=2, price=92, weight=34), Square(id=84, side=2, price=53, weight=81), Square(id=85, side=2, price=52, weight=59), Square(id=86, side=1, price=15, weight=27), Square(id=87, side=1, price=62, weight=18), Square(id=88, side=23, price=98, weight=34), Square(id=89, side=2, price=77, weight=47), Square(id=90, side=2, price=13, weight=13), Square(id=91, side=2, price=4, weight=73), Square(id=92, side=2, price=49, weight=30), Square(id=93, side=2, price=85, weight=92), Square(id=94, side=2, price=84, weight=41), Square(id=95, side=2, price=100, weight=100), Square(id=96, side=2, price=12, weight=100), Square(id=97, side=2, price=90, weight=62), Square(id=98, side=2, price=53, weight=91), Square(id=99, side=2, price=19, weight=49), Square(id=100, side=1, price=80, weight=12), Square(id=101, side=1, price=94, weight=58), Square(id=102, side=4, price=83, weight=45), Square(id=103, side=4, price=30, weight=39), Square(id=104, side=4, price=10, weight=62), Square(id=105, side=4, price=30, weight=77), Square(id=106, side=4, price=64, weight=11), Square(id=107, side=4, price=64, weight=75), Square(id=108, side=1, price=37, weight=99), Square(id=109, side=1, price=39, weight=71), Square(id=110, side=1, price=50, weight=74), Square(id=111, side=1, price=44, weight=81), Square(id=112, side=7, price=75, weight=17), Square(id=113, side=3, price=92, weight=11), Square(id=114, side=3, price=75, weight=59), Square(id=115, side=1, price=16, weight=3), Square(id=116, side=1, price=60, weight=82), Square(id=117, side=1, price=88, weight=5), Square(id=118, side=8, price=65, weight=41), Square(id=119, side=2, price=42, weight=9), Square(id=120, side=2, price=17, weight=10), Square(id=121, side=2, price=100, weight=12), Square(id=122, side=2, price=26, weight=83), Square(id=123, side=3, price=24, weight=97), Square(id=124, side=2, price=82, weight=96), Square(id=125, side=1, price=72, weight=97), Square(id=126, side=1, price=38, weight=22), Square(id=127, side=3, price=27, weight=13), Square(id=128, side=3, price=49, weight=80), Square(id=129, side=2, price=30, weight=36), Square(id=130, side=1, price=96, weight=88), Square(id=131, side=1, price=70, weight=28), Square(id=132, side=5, price=38, weight=24), Square(id=133, side=5, price=23, weight=54), Square(id=134, side=4, price=63, weight=44), Square(id=135, side=1, price=17, weight=44), Square(id=136, side=1, price=58, weight=48), Square(id=137, side=1, price=59, weight=53), Square(id=138, side=1, price=55, weight=98), Square(id=139, side=14, price=94, weight=68), Square(id=140, side=8, price=4, weight=43), Square(id=141, side=6, price=42, weight=90), Square(id=142, side=2, price=87, weight=69), Square(id=143, side=2, price=77, weight=38), Square(id=144, side=2, price=32, weight=14)]),\n",
       " 'mix-50-2': Problem(width=50, height=100, max_weight=4950, squares=[Square(id=0, side=19, price=87, weight=2), Square(id=1, side=8, price=81, weight=3), Square(id=2, side=8, price=1, weight=100), Square(id=3, side=3, price=31, weight=77), Square(id=4, side=3, price=53, weight=16), Square(id=5, side=2, price=76, weight=94), Square(id=6, side=1, price=80, weight=90), Square(id=7, side=1, price=60, weight=61), Square(id=8, side=25, price=17, weight=52), Square(id=9, side=3, price=10, weight=10), Square(id=10, side=3, price=2, weight=47), Square(id=11, side=3, price=65, weight=5), Square(id=12, side=3, price=94, weight=76), Square(id=13, side=3, price=72, weight=75), Square(id=14, side=3, price=24, weight=85), Square(id=15, side=3, price=20, weight=15), Square(id=16, side=3, price=59, weight=85), Square(id=17, side=1, price=99, weight=50), Square(id=18, side=1, price=52, weight=47), Square(id=19, side=1, price=94, weight=60), Square(id=20, side=22, price=92, weight=69), Square(id=21, side=22, price=58, weight=68), Square(id=22, side=1, price=13, weight=74), Square(id=23, side=1, price=14, weight=8), Square(id=24, side=1, price=89, weight=37), Square(id=25, side=1, price=5, weight=77), Square(id=26, side=1, price=69, weight=28), Square(id=27, side=1, price=73, weight=61), Square(id=28, side=1, price=16, weight=45), Square(id=29, side=1, price=34, weight=24), Square(id=30, side=1, price=67, weight=18), Square(id=31, side=1, price=6, weight=100), Square(id=32, side=1, price=62, weight=78), Square(id=33, side=1, price=48, weight=7), Square(id=34, side=1, price=29, weight=95), Square(id=35, side=1, price=44, weight=64), Square(id=36, side=1, price=48, weight=41), Square(id=37, side=1, price=9, weight=73), Square(id=38, side=1, price=89, weight=12), Square(id=39, side=1, price=97, weight=68), Square(id=40, side=1, price=64, weight=39), Square(id=41, side=1, price=92, weight=60), Square(id=42, side=1, price=87, weight=25), Square(id=43, side=1, price=37, weight=40), Square(id=44, side=17, price=98, weight=66), Square(id=45, side=11, price=95, weight=82), Square(id=46, side=6, price=66, weight=9), Square(id=47, side=5, price=63, weight=46), Square(id=48, side=1, price=49, weight=97), Square(id=49, side=1, price=25, weight=92), Square(id=50, side=1, price=58, weight=44), Square(id=51, side=1, price=89, weight=8), Square(id=52, side=1, price=18, weight=29), Square(id=53, side=28, price=28, weight=95), Square(id=54, side=3, price=17, weight=77), Square(id=55, side=2, price=79, weight=7), Square(id=56, side=1, price=22, weight=17), Square(id=57, side=1, price=67, weight=57), Square(id=58, side=5, price=92, weight=9), Square(id=59, side=5, price=47, weight=68), Square(id=60, side=4, price=4, weight=51), Square(id=61, side=1, price=40, weight=98), Square(id=62, side=1, price=58, weight=25), Square(id=63, side=1, price=93, weight=82), Square(id=64, side=1, price=82, weight=32), Square(id=65, side=8, price=28, weight=6), Square(id=66, side=1, price=9, weight=86), Square(id=67, side=1, price=36, weight=86), Square(id=68, side=1, price=65, weight=3), Square(id=69, side=1, price=67, weight=12), Square(id=70, side=1, price=23, weight=95), Square(id=71, side=1, price=25, weight=46), Square(id=72, side=1, price=63, weight=77), Square(id=73, side=1, price=95, weight=99), Square(id=74, side=8, price=59, weight=17), Square(id=75, side=8, price=68, weight=6), Square(id=76, side=3, price=61, weight=30), Square(id=77, side=3, price=13, weight=39), Square(id=78, side=2, price=4, weight=25), Square(id=79, side=1, price=95, weight=19), Square(id=80, side=1, price=49, weight=43), Square(id=81, side=11, price=29, weight=47), Square(id=82, side=6, price=12, weight=99), Square(id=83, side=5, price=89, weight=38), Square(id=84, side=1, price=22, weight=48), Square(id=85, side=1, price=49, weight=79), Square(id=86, side=1, price=4, weight=42), Square(id=87, side=1, price=97, weight=90), Square(id=88, side=1, price=35, weight=8), Square(id=89, side=12, price=11, weight=32), Square(id=90, side=5, price=32, weight=84), Square(id=91, side=5, price=76, weight=93), Square(id=92, side=2, price=51, weight=77), Square(id=93, side=2, price=62, weight=6), Square(id=94, side=1, price=42, weight=39), Square(id=95, side=1, price=38, weight=96), Square(id=96, side=13, price=66, weight=24), Square(id=97, side=13, price=46, weight=80), Square(id=98, side=1, price=36, weight=11), Square(id=99, side=1, price=73, weight=8), Square(id=100, side=1, price=96, weight=72), Square(id=101, side=1, price=60, weight=6), Square(id=102, side=1, price=56, weight=76), Square(id=103, side=1, price=81, weight=15), Square(id=104, side=1, price=69, weight=10), Square(id=105, side=1, price=76, weight=17), Square(id=106, side=1, price=13, weight=8), Square(id=107, side=1, price=71, weight=14), Square(id=108, side=1, price=77, weight=69), Square(id=109, side=1, price=77, weight=17), Square(id=110, side=1, price=41, weight=55), Square(id=111, side=18, price=83, weight=80), Square(id=112, side=9, price=86, weight=72), Square(id=113, side=9, price=37, weight=55)])}"
      ]
     },
     "execution_count": 4,
     "metadata": {},
     "output_type": "execute_result"
    }
   ],
   "source": [
    "# Benchmark mix-instances\n",
    "mix_instances = {}\n",
    "\n",
    "for filename in os.listdir(\"../instances\"):\n",
    "    if not filename.endswith(\"-2.dat\"):\n",
    "        continue\n",
    "\n",
    "    if not filename.startswith(\"mix\"):\n",
    "        continue\n",
    "\n",
    "    name, _ = os.path.splitext(filename)\n",
    "\n",
    "    with open(f\"../instances/{filename}\", \"r\") as f:\n",
    "        dat = parse(f)\n",
    "\n",
    "    problem = Problem.from_dat(dat)\n",
    "\n",
    "    mix_instances[name] = problem\n",
    "\n",
    "mix_instances"
   ]
  },
  {
   "cell_type": "code",
   "execution_count": 5,
   "metadata": {},
   "outputs": [],
   "source": [
    "results = []"
   ]
  },
  {
   "cell_type": "code",
   "execution_count": 6,
   "metadata": {},
   "outputs": [
    {
     "name": "stderr",
     "output_type": "stream",
     "text": [
      "  0%|          | 0/3 [00:00<?, ?it/s]"
     ]
    },
    {
     "name": "stdout",
     "output_type": "stream",
     "text": [
      "0.0,0.0,2105\n"
     ]
    },
    {
     "name": "stderr",
     "output_type": "stream",
     "text": [
      " 33%|███▎      | 1/3 [05:00<10:00, 300.01s/it]"
     ]
    },
    {
     "name": "stdout",
     "output_type": "stream",
     "text": [
      "1.1920928955078125e-06,1.1920928955078125e-06,9904\n",
      "0.47935914993286133,0.09587182998657226,9905\n",
      "0.719635009765625,0.10280500139508929,9906\n"
     ]
    },
    {
     "name": "stderr",
     "output_type": "stream",
     "text": [
      " 67%|██████▋   | 2/3 [10:00<05:00, 300.52s/it]"
     ]
    },
    {
     "name": "stdout",
     "output_type": "stream",
     "text": [
      "0.0,0.0,4611\n"
     ]
    },
    {
     "name": "stderr",
     "output_type": "stream",
     "text": [
      "100%|██████████| 3/3 [15:00<00:00, 300.33s/it]\n"
     ]
    }
   ],
   "source": [
    "for name, problem in tqdm(knapsack_instances.items()):\n",
    "    # Run Greedy\n",
    "\n",
    "    time_start = time.time()\n",
    "    greedy_solution = greedy_search(problem, qs[\"price_weight\"])\n",
    "    time_end = time.time()\n",
    "\n",
    "    results.append([name, \"greedy\", greedy_solution.value, time_end - time_start])\n",
    "\n",
    "    # Run Local Search\n",
    "    time_start = time.time()\n",
    "    greedy_solution = greedy_search(problem, qs[\"price_weight\"])\n",
    "    local_search_solution = local_search(problem, greedy_solution)\n",
    "    time_end = time.time()\n",
    "\n",
    "    results.append(\n",
    "        (name, \"local_search\", local_search_solution.value, time_end - time_start)\n",
    "    )\n",
    "\n",
    "    # Run GRASP\n",
    "    def knapsack_grasp(problem):\n",
    "        return grasp_search(problem=problem, q=qs[\"price_weight\"], alpha=0.1)\n",
    "\n",
    "    time_start = time.time()\n",
    "\n",
    "    grasp_solution, iters = runner(\n",
    "        search_algorithm=knapsack_grasp,\n",
    "        problem=problem,\n",
    "        max_time=30 * 60,\n",
    "        max_time_since_improvement=5 * 60,\n",
    "    )\n",
    "\n",
    "    time_end = time.time()\n",
    "\n",
    "    results.append(\n",
    "        [\n",
    "            name,\n",
    "            \"grasp\",\n",
    "            grasp_solution.value if grasp_solution else None,\n",
    "            time_end - time_start,\n",
    "        ]\n",
    "    )"
   ]
  },
  {
   "cell_type": "code",
   "execution_count": 7,
   "metadata": {},
   "outputs": [
    {
     "name": "stderr",
     "output_type": "stream",
     "text": [
      "  0%|          | 0/3 [00:00<?, ?it/s]"
     ]
    },
    {
     "name": "stdout",
     "output_type": "stream",
     "text": [
      "9.5367431640625e-07,9.5367431640625e-07,4856\n",
      "1.4761369228363037,0.14761369228363036,4968\n"
     ]
    },
    {
     "name": "stderr",
     "output_type": "stream",
     "text": [
      " 33%|███▎      | 1/3 [05:01<10:03, 301.74s/it]"
     ]
    },
    {
     "name": "stdout",
     "output_type": "stream",
     "text": [
      "7.152557373046875e-07,7.152557373046875e-07,19668\n",
      "4.235153913497925,1.0587884783744812,19795\n",
      "36.8007287979126,2.3000455498695374,19874\n",
      "247.1830756664276,2.3998356860818215,19880\n"
     ]
    },
    {
     "name": "stderr",
     "output_type": "stream",
     "text": [
      " 67%|██████▋   | 2/3 [14:09<07:26, 446.61s/it]"
     ]
    },
    {
     "name": "stdout",
     "output_type": "stream",
     "text": [
      "0.0,0.0,79435\n",
      "227.1441957950592,20.649472345005382,79447\n",
      "237.86133289337158,19.8217777411143,79468\n",
      "385.30198192596436,21.405665662553574,79532\n",
      "419.855331659317,20.99276658296585,79557\n",
      "438.81824469566345,20.89610689026969,79678\n"
     ]
    },
    {
     "name": "stderr",
     "output_type": "stream",
     "text": [
      "100%|██████████| 3/3 [26:39<00:00, 533.33s/it]\n"
     ]
    }
   ],
   "source": [
    "for name, problem in tqdm(bin_packing_instances.items()):\n",
    "    # Run Greedy\n",
    "\n",
    "    time_start = time.time()\n",
    "    greedy_solution = greedy_search(problem, qs[\"side\"])\n",
    "    time_end = time.time()\n",
    "\n",
    "    results.append([name, \"greedy\", greedy_solution.value, time_end - time_start])\n",
    "\n",
    "    # Run Local Search\n",
    "    time_start = time.time()\n",
    "    greedy_solution = greedy_search(problem, qs[\"side\"])\n",
    "    local_search_solution = local_search(problem, greedy_solution)\n",
    "    time_end = time.time()\n",
    "\n",
    "    results.append(\n",
    "        (name, \"local_search\", local_search_solution.value, time_end - time_start)\n",
    "    )\n",
    "\n",
    "    # Run GRASP\n",
    "    def bin_packing_grasp(problem):\n",
    "        return grasp_search(problem=problem, q=qs[\"side\"], alpha=0.2)\n",
    "\n",
    "    time_start = time.time()\n",
    "\n",
    "    grasp_solution, iters = runner(\n",
    "        search_algorithm=bin_packing_grasp,\n",
    "        problem=problem,\n",
    "        max_time=30 * 60,\n",
    "        max_time_since_improvement=5 * 60,\n",
    "    )\n",
    "\n",
    "    time_end = time.time()\n",
    "\n",
    "    results.append(\n",
    "        [\n",
    "            name,\n",
    "            \"grasp\",\n",
    "            grasp_solution.value if grasp_solution else None,\n",
    "            time_end - time_start,\n",
    "        ]\n",
    "    )"
   ]
  },
  {
   "cell_type": "code",
   "execution_count": 8,
   "metadata": {},
   "outputs": [
    {
     "name": "stderr",
     "output_type": "stream",
     "text": [
      "  0%|          | 0/3 [00:00<?, ?it/s]"
     ]
    },
    {
     "name": "stdout",
     "output_type": "stream",
     "text": [
      "0.0,0.0,16907\n"
     ]
    },
    {
     "name": "stderr",
     "output_type": "stream",
     "text": [
      " 33%|███▎      | 1/3 [05:20<10:40, 320.28s/it]"
     ]
    },
    {
     "name": "stdout",
     "output_type": "stream",
     "text": [
      "0.0,0.0,7230\n"
     ]
    },
    {
     "name": "stderr",
     "output_type": "stream",
     "text": [
      " 67%|██████▋   | 2/3 [10:21<05:08, 308.95s/it]"
     ]
    },
    {
     "name": "stdout",
     "output_type": "stream",
     "text": [
      "0.0,0.0,5982\n",
      "0.5127017498016357,0.25635087490081787,5983\n",
      "178.87618494033813,0.5436966107609061,5991\n",
      "301.8407897949219,0.5448389707489565,5994\n"
     ]
    },
    {
     "name": "stderr",
     "output_type": "stream",
     "text": [
      "100%|██████████| 3/3 [20:23<00:00, 407.88s/it]\n"
     ]
    }
   ],
   "source": [
    "for name, problem in tqdm(mix_instances.items()):\n",
    "    # Run Greedy\n",
    "\n",
    "    time_start = time.time()\n",
    "    greedy_solution = greedy_search(problem, qs[\"price\"])\n",
    "    time_end = time.time()\n",
    "\n",
    "    results.append([name, \"greedy\", greedy_solution.value, time_end - time_start])\n",
    "\n",
    "    # Run Local Search\n",
    "    time_start = time.time()\n",
    "    greedy_solution = greedy_search(problem, qs[\"price\"])\n",
    "    local_search_solution = local_search(problem, greedy_solution)\n",
    "    time_end = time.time()\n",
    "\n",
    "    results.append(\n",
    "        (name, \"local_search\", local_search_solution.value, time_end - time_start)\n",
    "    )\n",
    "\n",
    "    # Run GRASP\n",
    "    def mix_grasp(problem):\n",
    "        return grasp_search(problem=problem, q=qs[\"price\"], alpha=0.3)\n",
    "\n",
    "    time_start = time.time()\n",
    "\n",
    "    grasp_solution, iters = runner(\n",
    "        search_algorithm=mix_grasp,\n",
    "        problem=problem,\n",
    "        max_time=30 * 60,\n",
    "        max_time_since_improvement=5 * 60,\n",
    "    )\n",
    "\n",
    "    time_end = time.time()\n",
    "\n",
    "    results.append(\n",
    "        [\n",
    "            name,\n",
    "            \"grasp\",\n",
    "            grasp_solution.value if grasp_solution else None,\n",
    "            time_end - time_start,\n",
    "        ]\n",
    "    )"
   ]
  },
  {
   "cell_type": "code",
   "execution_count": 9,
   "metadata": {},
   "outputs": [
    {
     "data": {
      "text/html": [
       "<div>\n",
       "<style scoped>\n",
       "    .dataframe tbody tr th:only-of-type {\n",
       "        vertical-align: middle;\n",
       "    }\n",
       "\n",
       "    .dataframe tbody tr th {\n",
       "        vertical-align: top;\n",
       "    }\n",
       "\n",
       "    .dataframe thead th {\n",
       "        text-align: right;\n",
       "    }\n",
       "</style>\n",
       "<table border=\"1\" class=\"dataframe\">\n",
       "  <thead>\n",
       "    <tr style=\"text-align: right;\">\n",
       "      <th></th>\n",
       "      <th>name</th>\n",
       "      <th>algorithm</th>\n",
       "      <th>objective</th>\n",
       "      <th>time</th>\n",
       "    </tr>\n",
       "  </thead>\n",
       "  <tbody>\n",
       "    <tr>\n",
       "      <th>0</th>\n",
       "      <td>knapsack-50-2</td>\n",
       "      <td>greedy</td>\n",
       "      <td>2105</td>\n",
       "      <td>0.001066</td>\n",
       "    </tr>\n",
       "    <tr>\n",
       "      <th>1</th>\n",
       "      <td>knapsack-50-2</td>\n",
       "      <td>local_search</td>\n",
       "      <td>2105</td>\n",
       "      <td>0.003247</td>\n",
       "    </tr>\n",
       "    <tr>\n",
       "      <th>2</th>\n",
       "      <td>knapsack-50-2</td>\n",
       "      <td>grasp</td>\n",
       "      <td>2105</td>\n",
       "      <td>300.004473</td>\n",
       "    </tr>\n",
       "    <tr>\n",
       "      <th>3</th>\n",
       "      <td>knapsack-200-2</td>\n",
       "      <td>greedy</td>\n",
       "      <td>9905</td>\n",
       "      <td>0.002569</td>\n",
       "    </tr>\n",
       "    <tr>\n",
       "      <th>4</th>\n",
       "      <td>knapsack-200-2</td>\n",
       "      <td>local_search</td>\n",
       "      <td>9905</td>\n",
       "      <td>0.046536</td>\n",
       "    </tr>\n",
       "    <tr>\n",
       "      <th>5</th>\n",
       "      <td>knapsack-200-2</td>\n",
       "      <td>grasp</td>\n",
       "      <td>9906</td>\n",
       "      <td>300.830453</td>\n",
       "    </tr>\n",
       "    <tr>\n",
       "      <th>6</th>\n",
       "      <td>knapsack-100-2</td>\n",
       "      <td>greedy</td>\n",
       "      <td>4606</td>\n",
       "      <td>0.001461</td>\n",
       "    </tr>\n",
       "    <tr>\n",
       "      <th>7</th>\n",
       "      <td>knapsack-100-2</td>\n",
       "      <td>local_search</td>\n",
       "      <td>4606</td>\n",
       "      <td>0.031766</td>\n",
       "    </tr>\n",
       "    <tr>\n",
       "      <th>8</th>\n",
       "      <td>knapsack-100-2</td>\n",
       "      <td>grasp</td>\n",
       "      <td>4611</td>\n",
       "      <td>300.069528</td>\n",
       "    </tr>\n",
       "    <tr>\n",
       "      <th>9</th>\n",
       "      <td>bin_packing-50-2</td>\n",
       "      <td>greedy</td>\n",
       "      <td>4952</td>\n",
       "      <td>0.083149</td>\n",
       "    </tr>\n",
       "    <tr>\n",
       "      <th>10</th>\n",
       "      <td>bin_packing-50-2</td>\n",
       "      <td>local_search</td>\n",
       "      <td>4952</td>\n",
       "      <td>0.166195</td>\n",
       "    </tr>\n",
       "    <tr>\n",
       "      <th>11</th>\n",
       "      <td>bin_packing-50-2</td>\n",
       "      <td>grasp</td>\n",
       "      <td>4968</td>\n",
       "      <td>301.487981</td>\n",
       "    </tr>\n",
       "    <tr>\n",
       "      <th>12</th>\n",
       "      <td>bin_packing-100-2</td>\n",
       "      <td>greedy</td>\n",
       "      <td>19568</td>\n",
       "      <td>0.089561</td>\n",
       "    </tr>\n",
       "    <tr>\n",
       "      <th>13</th>\n",
       "      <td>bin_packing-100-2</td>\n",
       "      <td>local_search</td>\n",
       "      <td>19568</td>\n",
       "      <td>0.525176</td>\n",
       "    </tr>\n",
       "    <tr>\n",
       "      <th>14</th>\n",
       "      <td>bin_packing-100-2</td>\n",
       "      <td>grasp</td>\n",
       "      <td>19880</td>\n",
       "      <td>547.410451</td>\n",
       "    </tr>\n",
       "    <tr>\n",
       "      <th>15</th>\n",
       "      <td>bin_packing-200-2</td>\n",
       "      <td>greedy</td>\n",
       "      <td>79100</td>\n",
       "      <td>0.808586</td>\n",
       "    </tr>\n",
       "    <tr>\n",
       "      <th>16</th>\n",
       "      <td>bin_packing-200-2</td>\n",
       "      <td>local_search</td>\n",
       "      <td>79100</td>\n",
       "      <td>1.834412</td>\n",
       "    </tr>\n",
       "    <tr>\n",
       "      <th>17</th>\n",
       "      <td>bin_packing-200-2</td>\n",
       "      <td>grasp</td>\n",
       "      <td>79678</td>\n",
       "      <td>747.562968</td>\n",
       "    </tr>\n",
       "    <tr>\n",
       "      <th>18</th>\n",
       "      <td>mix-200-2</td>\n",
       "      <td>greedy</td>\n",
       "      <td>16907</td>\n",
       "      <td>0.394704</td>\n",
       "    </tr>\n",
       "    <tr>\n",
       "      <th>19</th>\n",
       "      <td>mix-200-2</td>\n",
       "      <td>local_search</td>\n",
       "      <td>16907</td>\n",
       "      <td>16.985643</td>\n",
       "    </tr>\n",
       "    <tr>\n",
       "      <th>20</th>\n",
       "      <td>mix-200-2</td>\n",
       "      <td>grasp</td>\n",
       "      <td>16907</td>\n",
       "      <td>302.901281</td>\n",
       "    </tr>\n",
       "    <tr>\n",
       "      <th>21</th>\n",
       "      <td>mix-100-2</td>\n",
       "      <td>greedy</td>\n",
       "      <td>7230</td>\n",
       "      <td>0.030881</td>\n",
       "    </tr>\n",
       "    <tr>\n",
       "      <th>22</th>\n",
       "      <td>mix-100-2</td>\n",
       "      <td>local_search</td>\n",
       "      <td>7230</td>\n",
       "      <td>0.743862</td>\n",
       "    </tr>\n",
       "    <tr>\n",
       "      <th>23</th>\n",
       "      <td>mix-100-2</td>\n",
       "      <td>grasp</td>\n",
       "      <td>7230</td>\n",
       "      <td>300.244965</td>\n",
       "    </tr>\n",
       "    <tr>\n",
       "      <th>24</th>\n",
       "      <td>mix-50-2</td>\n",
       "      <td>greedy</td>\n",
       "      <td>5982</td>\n",
       "      <td>0.011298</td>\n",
       "    </tr>\n",
       "    <tr>\n",
       "      <th>25</th>\n",
       "      <td>mix-50-2</td>\n",
       "      <td>local_search</td>\n",
       "      <td>5982</td>\n",
       "      <td>0.113024</td>\n",
       "    </tr>\n",
       "    <tr>\n",
       "      <th>26</th>\n",
       "      <td>mix-50-2</td>\n",
       "      <td>grasp</td>\n",
       "      <td>5994</td>\n",
       "      <td>602.196076</td>\n",
       "    </tr>\n",
       "  </tbody>\n",
       "</table>\n",
       "</div>"
      ],
      "text/plain": [
       "                 name     algorithm  objective        time\n",
       "0       knapsack-50-2        greedy       2105    0.001066\n",
       "1       knapsack-50-2  local_search       2105    0.003247\n",
       "2       knapsack-50-2         grasp       2105  300.004473\n",
       "3      knapsack-200-2        greedy       9905    0.002569\n",
       "4      knapsack-200-2  local_search       9905    0.046536\n",
       "5      knapsack-200-2         grasp       9906  300.830453\n",
       "6      knapsack-100-2        greedy       4606    0.001461\n",
       "7      knapsack-100-2  local_search       4606    0.031766\n",
       "8      knapsack-100-2         grasp       4611  300.069528\n",
       "9    bin_packing-50-2        greedy       4952    0.083149\n",
       "10   bin_packing-50-2  local_search       4952    0.166195\n",
       "11   bin_packing-50-2         grasp       4968  301.487981\n",
       "12  bin_packing-100-2        greedy      19568    0.089561\n",
       "13  bin_packing-100-2  local_search      19568    0.525176\n",
       "14  bin_packing-100-2         grasp      19880  547.410451\n",
       "15  bin_packing-200-2        greedy      79100    0.808586\n",
       "16  bin_packing-200-2  local_search      79100    1.834412\n",
       "17  bin_packing-200-2         grasp      79678  747.562968\n",
       "18          mix-200-2        greedy      16907    0.394704\n",
       "19          mix-200-2  local_search      16907   16.985643\n",
       "20          mix-200-2         grasp      16907  302.901281\n",
       "21          mix-100-2        greedy       7230    0.030881\n",
       "22          mix-100-2  local_search       7230    0.743862\n",
       "23          mix-100-2         grasp       7230  300.244965\n",
       "24           mix-50-2        greedy       5982    0.011298\n",
       "25           mix-50-2  local_search       5982    0.113024\n",
       "26           mix-50-2         grasp       5994  602.196076"
      ]
     },
     "execution_count": 9,
     "metadata": {},
     "output_type": "execute_result"
    }
   ],
   "source": [
    "df = pd.DataFrame(results, columns=[\"name\", \"algorithm\", \"objective\", \"time\"])\n",
    "df"
   ]
  },
  {
   "cell_type": "code",
   "execution_count": 11,
   "metadata": {},
   "outputs": [],
   "source": [
    "# Save results\n",
    "#df.to_csv(\"../results/heuristics-results.csv\", index=False)"
   ]
  },
  {
   "cell_type": "code",
   "execution_count": null,
   "metadata": {},
   "outputs": [],
   "source": []
  }
 ],
 "metadata": {
  "kernelspec": {
   "display_name": ".venv",
   "language": "python",
   "name": "python3"
  },
  "language_info": {
   "codemirror_mode": {
    "name": "ipython",
    "version": 3
   },
   "file_extension": ".py",
   "mimetype": "text/x-python",
   "name": "python",
   "nbconvert_exporter": "python",
   "pygments_lexer": "ipython3",
   "version": "3.12.2"
  }
 },
 "nbformat": 4,
 "nbformat_minor": 2
}
